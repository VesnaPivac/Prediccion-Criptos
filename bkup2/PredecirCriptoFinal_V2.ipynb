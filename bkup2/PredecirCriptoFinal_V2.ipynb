{
  "nbformat": 4,
  "nbformat_minor": 0,
  "metadata": {
    "colab": {
      "provenance": [],
      "toc_visible": true,
      "machine_shape": "hm",
      "gpuType": "L4"
    },
    "kernelspec": {
      "name": "python3",
      "display_name": "Python 3"
    },
    "language_info": {
      "name": "python"
    },
    "accelerator": "GPU"
  },
  "cells": [
    {
      "cell_type": "code",
      "source": [
        "import os\n",
        "import pandas as pd\n",
        "import numpy as np\n",
        "import seaborn as sns\n",
        "import matplotlib.pyplot as plt\n",
        "\n",
        "import tensorflow as tf\n",
        "from tensorflow import keras\n",
        "\n",
        "from sklearn.preprocessing import MinMaxScaler,  RobustScaler\n",
        "\n",
        "from keras.models import Sequential\n",
        "from keras.layers import LSTM, Dense\n",
        "\n",
        "import warnings\n",
        "warnings.filterwarnings(\"ignore\")\n",
        "\n",
        "from datetime import datetime, timedelta\n",
        "import time\n"
      ],
      "metadata": {
        "id": "c2C8oEiwMygw"
      },
      "execution_count": 1,
      "outputs": []
    },
    {
      "cell_type": "markdown",
      "source": [
        "# Descarga de datos"
      ],
      "metadata": {
        "id": "vjifkuLHKwUq"
      }
    },
    {
      "cell_type": "code",
      "source": [
        "from google.colab import drive\n",
        "drive.mount('/content/drive')"
      ],
      "metadata": {
        "id": "_eINRAiIY7hp",
        "colab": {
          "base_uri": "https://localhost:8080/"
        },
        "outputId": "e06becac-7e37-40a4-b25e-ea5f445fdc9d"
      },
      "execution_count": 2,
      "outputs": [
        {
          "output_type": "stream",
          "name": "stdout",
          "text": [
            "Mounted at /content/drive\n"
          ]
        }
      ]
    },
    {
      "cell_type": "code",
      "source": [
        "carpeta = '/content/drive/My Drive/PrediccionCriptos'\n",
        "archivos = os.listdir(carpeta)\n",
        "print(archivos)"
      ],
      "metadata": {
        "colab": {
          "base_uri": "https://localhost:8080/"
        },
        "id": "G8IUA0g3bC7K",
        "outputId": "78c84211-83c3-492e-d8fe-315a71fde961"
      },
      "execution_count": 3,
      "outputs": [
        {
          "output_type": "stream",
          "name": "stdout",
          "text": [
            "['ETH-1-Year-5min.parquet', 'ETH-1-Year-5min.csv', 'modelo_final.h5', 'PredecirCriptoFinal.ipynb']\n"
          ]
        }
      ]
    },
    {
      "cell_type": "code",
      "source": [
        "# Error en los datos al convertir a parquet por lo que se cambio el formato a csv\n",
        "# data_path = '/content/drive/My Drive/PrediccionCriptos/ETH-1-Year-5min.parquet'\n",
        "# eth_df = pd.read_parquet(data_path)\n",
        "\n",
        "data_path = '/content/drive/My Drive/PrediccionCriptos/ETH-1-Year-5min.csv'\n",
        "eth_df = pd.read_csv(data_path)\n",
        "eth_df.shape"
      ],
      "metadata": {
        "colab": {
          "base_uri": "https://localhost:8080/"
        },
        "id": "uFrpYRKMcKkT",
        "outputId": "f058c364-7ab6-4957-eb5e-c7fe90c68c99"
      },
      "execution_count": 4,
      "outputs": [
        {
          "output_type": "execute_result",
          "data": {
            "text/plain": [
              "(105120, 6)"
            ]
          },
          "metadata": {},
          "execution_count": 4
        }
      ]
    },
    {
      "cell_type": "markdown",
      "source": [
        "# Preprocesamiento"
      ],
      "metadata": {
        "id": "D5BOwWiMK6FO"
      }
    },
    {
      "cell_type": "code",
      "source": [
        "eth_df['timestamp'] = pd.to_datetime(eth_df['timestamp'])\n",
        "eth_df.set_index('timestamp', inplace=True)"
      ],
      "metadata": {
        "id": "SNL8jl52l_jO"
      },
      "execution_count": 5,
      "outputs": []
    },
    {
      "cell_type": "code",
      "source": [
        "eth_df.head()"
      ],
      "metadata": {
        "colab": {
          "base_uri": "https://localhost:8080/",
          "height": 237
        },
        "id": "kvnA5MbgcY4j",
        "outputId": "bd176e6d-a370-4de4-ed4b-3d97921157dc"
      },
      "execution_count": 6,
      "outputs": [
        {
          "output_type": "execute_result",
          "data": {
            "text/plain": [
              "                        open     high      low    close     volume\n",
              "timestamp                                                         \n",
              "2023-05-16 03:25:00  1811.51  1812.60  1811.28  1812.36   413.6284\n",
              "2023-05-16 03:30:00  1812.35  1812.91  1811.00  1812.23   618.8581\n",
              "2023-05-16 03:35:00  1812.24  1813.99  1812.03  1812.85  1165.6089\n",
              "2023-05-16 03:40:00  1812.85  1814.30  1812.60  1812.77   896.9234\n",
              "2023-05-16 03:45:00  1812.77  1812.97  1812.38  1812.38   420.9102"
            ],
            "text/html": [
              "\n",
              "  <div id=\"df-a84cc64f-2506-4dfb-ba23-17d187fbd595\" class=\"colab-df-container\">\n",
              "    <div>\n",
              "<style scoped>\n",
              "    .dataframe tbody tr th:only-of-type {\n",
              "        vertical-align: middle;\n",
              "    }\n",
              "\n",
              "    .dataframe tbody tr th {\n",
              "        vertical-align: top;\n",
              "    }\n",
              "\n",
              "    .dataframe thead th {\n",
              "        text-align: right;\n",
              "    }\n",
              "</style>\n",
              "<table border=\"1\" class=\"dataframe\">\n",
              "  <thead>\n",
              "    <tr style=\"text-align: right;\">\n",
              "      <th></th>\n",
              "      <th>open</th>\n",
              "      <th>high</th>\n",
              "      <th>low</th>\n",
              "      <th>close</th>\n",
              "      <th>volume</th>\n",
              "    </tr>\n",
              "    <tr>\n",
              "      <th>timestamp</th>\n",
              "      <th></th>\n",
              "      <th></th>\n",
              "      <th></th>\n",
              "      <th></th>\n",
              "      <th></th>\n",
              "    </tr>\n",
              "  </thead>\n",
              "  <tbody>\n",
              "    <tr>\n",
              "      <th>2023-05-16 03:25:00</th>\n",
              "      <td>1811.51</td>\n",
              "      <td>1812.60</td>\n",
              "      <td>1811.28</td>\n",
              "      <td>1812.36</td>\n",
              "      <td>413.6284</td>\n",
              "    </tr>\n",
              "    <tr>\n",
              "      <th>2023-05-16 03:30:00</th>\n",
              "      <td>1812.35</td>\n",
              "      <td>1812.91</td>\n",
              "      <td>1811.00</td>\n",
              "      <td>1812.23</td>\n",
              "      <td>618.8581</td>\n",
              "    </tr>\n",
              "    <tr>\n",
              "      <th>2023-05-16 03:35:00</th>\n",
              "      <td>1812.24</td>\n",
              "      <td>1813.99</td>\n",
              "      <td>1812.03</td>\n",
              "      <td>1812.85</td>\n",
              "      <td>1165.6089</td>\n",
              "    </tr>\n",
              "    <tr>\n",
              "      <th>2023-05-16 03:40:00</th>\n",
              "      <td>1812.85</td>\n",
              "      <td>1814.30</td>\n",
              "      <td>1812.60</td>\n",
              "      <td>1812.77</td>\n",
              "      <td>896.9234</td>\n",
              "    </tr>\n",
              "    <tr>\n",
              "      <th>2023-05-16 03:45:00</th>\n",
              "      <td>1812.77</td>\n",
              "      <td>1812.97</td>\n",
              "      <td>1812.38</td>\n",
              "      <td>1812.38</td>\n",
              "      <td>420.9102</td>\n",
              "    </tr>\n",
              "  </tbody>\n",
              "</table>\n",
              "</div>\n",
              "    <div class=\"colab-df-buttons\">\n",
              "\n",
              "  <div class=\"colab-df-container\">\n",
              "    <button class=\"colab-df-convert\" onclick=\"convertToInteractive('df-a84cc64f-2506-4dfb-ba23-17d187fbd595')\"\n",
              "            title=\"Convert this dataframe to an interactive table.\"\n",
              "            style=\"display:none;\">\n",
              "\n",
              "  <svg xmlns=\"http://www.w3.org/2000/svg\" height=\"24px\" viewBox=\"0 -960 960 960\">\n",
              "    <path d=\"M120-120v-720h720v720H120Zm60-500h600v-160H180v160Zm220 220h160v-160H400v160Zm0 220h160v-160H400v160ZM180-400h160v-160H180v160Zm440 0h160v-160H620v160ZM180-180h160v-160H180v160Zm440 0h160v-160H620v160Z\"/>\n",
              "  </svg>\n",
              "    </button>\n",
              "\n",
              "  <style>\n",
              "    .colab-df-container {\n",
              "      display:flex;\n",
              "      gap: 12px;\n",
              "    }\n",
              "\n",
              "    .colab-df-convert {\n",
              "      background-color: #E8F0FE;\n",
              "      border: none;\n",
              "      border-radius: 50%;\n",
              "      cursor: pointer;\n",
              "      display: none;\n",
              "      fill: #1967D2;\n",
              "      height: 32px;\n",
              "      padding: 0 0 0 0;\n",
              "      width: 32px;\n",
              "    }\n",
              "\n",
              "    .colab-df-convert:hover {\n",
              "      background-color: #E2EBFA;\n",
              "      box-shadow: 0px 1px 2px rgba(60, 64, 67, 0.3), 0px 1px 3px 1px rgba(60, 64, 67, 0.15);\n",
              "      fill: #174EA6;\n",
              "    }\n",
              "\n",
              "    .colab-df-buttons div {\n",
              "      margin-bottom: 4px;\n",
              "    }\n",
              "\n",
              "    [theme=dark] .colab-df-convert {\n",
              "      background-color: #3B4455;\n",
              "      fill: #D2E3FC;\n",
              "    }\n",
              "\n",
              "    [theme=dark] .colab-df-convert:hover {\n",
              "      background-color: #434B5C;\n",
              "      box-shadow: 0px 1px 3px 1px rgba(0, 0, 0, 0.15);\n",
              "      filter: drop-shadow(0px 1px 2px rgba(0, 0, 0, 0.3));\n",
              "      fill: #FFFFFF;\n",
              "    }\n",
              "  </style>\n",
              "\n",
              "    <script>\n",
              "      const buttonEl =\n",
              "        document.querySelector('#df-a84cc64f-2506-4dfb-ba23-17d187fbd595 button.colab-df-convert');\n",
              "      buttonEl.style.display =\n",
              "        google.colab.kernel.accessAllowed ? 'block' : 'none';\n",
              "\n",
              "      async function convertToInteractive(key) {\n",
              "        const element = document.querySelector('#df-a84cc64f-2506-4dfb-ba23-17d187fbd595');\n",
              "        const dataTable =\n",
              "          await google.colab.kernel.invokeFunction('convertToInteractive',\n",
              "                                                    [key], {});\n",
              "        if (!dataTable) return;\n",
              "\n",
              "        const docLinkHtml = 'Like what you see? Visit the ' +\n",
              "          '<a target=\"_blank\" href=https://colab.research.google.com/notebooks/data_table.ipynb>data table notebook</a>'\n",
              "          + ' to learn more about interactive tables.';\n",
              "        element.innerHTML = '';\n",
              "        dataTable['output_type'] = 'display_data';\n",
              "        await google.colab.output.renderOutput(dataTable, element);\n",
              "        const docLink = document.createElement('div');\n",
              "        docLink.innerHTML = docLinkHtml;\n",
              "        element.appendChild(docLink);\n",
              "      }\n",
              "    </script>\n",
              "  </div>\n",
              "\n",
              "\n",
              "<div id=\"df-ca09fa1d-a3fd-4199-bfeb-dd7d5c2f3047\">\n",
              "  <button class=\"colab-df-quickchart\" onclick=\"quickchart('df-ca09fa1d-a3fd-4199-bfeb-dd7d5c2f3047')\"\n",
              "            title=\"Suggest charts\"\n",
              "            style=\"display:none;\">\n",
              "\n",
              "<svg xmlns=\"http://www.w3.org/2000/svg\" height=\"24px\"viewBox=\"0 0 24 24\"\n",
              "     width=\"24px\">\n",
              "    <g>\n",
              "        <path d=\"M19 3H5c-1.1 0-2 .9-2 2v14c0 1.1.9 2 2 2h14c1.1 0 2-.9 2-2V5c0-1.1-.9-2-2-2zM9 17H7v-7h2v7zm4 0h-2V7h2v10zm4 0h-2v-4h2v4z\"/>\n",
              "    </g>\n",
              "</svg>\n",
              "  </button>\n",
              "\n",
              "<style>\n",
              "  .colab-df-quickchart {\n",
              "      --bg-color: #E8F0FE;\n",
              "      --fill-color: #1967D2;\n",
              "      --hover-bg-color: #E2EBFA;\n",
              "      --hover-fill-color: #174EA6;\n",
              "      --disabled-fill-color: #AAA;\n",
              "      --disabled-bg-color: #DDD;\n",
              "  }\n",
              "\n",
              "  [theme=dark] .colab-df-quickchart {\n",
              "      --bg-color: #3B4455;\n",
              "      --fill-color: #D2E3FC;\n",
              "      --hover-bg-color: #434B5C;\n",
              "      --hover-fill-color: #FFFFFF;\n",
              "      --disabled-bg-color: #3B4455;\n",
              "      --disabled-fill-color: #666;\n",
              "  }\n",
              "\n",
              "  .colab-df-quickchart {\n",
              "    background-color: var(--bg-color);\n",
              "    border: none;\n",
              "    border-radius: 50%;\n",
              "    cursor: pointer;\n",
              "    display: none;\n",
              "    fill: var(--fill-color);\n",
              "    height: 32px;\n",
              "    padding: 0;\n",
              "    width: 32px;\n",
              "  }\n",
              "\n",
              "  .colab-df-quickchart:hover {\n",
              "    background-color: var(--hover-bg-color);\n",
              "    box-shadow: 0 1px 2px rgba(60, 64, 67, 0.3), 0 1px 3px 1px rgba(60, 64, 67, 0.15);\n",
              "    fill: var(--button-hover-fill-color);\n",
              "  }\n",
              "\n",
              "  .colab-df-quickchart-complete:disabled,\n",
              "  .colab-df-quickchart-complete:disabled:hover {\n",
              "    background-color: var(--disabled-bg-color);\n",
              "    fill: var(--disabled-fill-color);\n",
              "    box-shadow: none;\n",
              "  }\n",
              "\n",
              "  .colab-df-spinner {\n",
              "    border: 2px solid var(--fill-color);\n",
              "    border-color: transparent;\n",
              "    border-bottom-color: var(--fill-color);\n",
              "    animation:\n",
              "      spin 1s steps(1) infinite;\n",
              "  }\n",
              "\n",
              "  @keyframes spin {\n",
              "    0% {\n",
              "      border-color: transparent;\n",
              "      border-bottom-color: var(--fill-color);\n",
              "      border-left-color: var(--fill-color);\n",
              "    }\n",
              "    20% {\n",
              "      border-color: transparent;\n",
              "      border-left-color: var(--fill-color);\n",
              "      border-top-color: var(--fill-color);\n",
              "    }\n",
              "    30% {\n",
              "      border-color: transparent;\n",
              "      border-left-color: var(--fill-color);\n",
              "      border-top-color: var(--fill-color);\n",
              "      border-right-color: var(--fill-color);\n",
              "    }\n",
              "    40% {\n",
              "      border-color: transparent;\n",
              "      border-right-color: var(--fill-color);\n",
              "      border-top-color: var(--fill-color);\n",
              "    }\n",
              "    60% {\n",
              "      border-color: transparent;\n",
              "      border-right-color: var(--fill-color);\n",
              "    }\n",
              "    80% {\n",
              "      border-color: transparent;\n",
              "      border-right-color: var(--fill-color);\n",
              "      border-bottom-color: var(--fill-color);\n",
              "    }\n",
              "    90% {\n",
              "      border-color: transparent;\n",
              "      border-bottom-color: var(--fill-color);\n",
              "    }\n",
              "  }\n",
              "</style>\n",
              "\n",
              "  <script>\n",
              "    async function quickchart(key) {\n",
              "      const quickchartButtonEl =\n",
              "        document.querySelector('#' + key + ' button');\n",
              "      quickchartButtonEl.disabled = true;  // To prevent multiple clicks.\n",
              "      quickchartButtonEl.classList.add('colab-df-spinner');\n",
              "      try {\n",
              "        const charts = await google.colab.kernel.invokeFunction(\n",
              "            'suggestCharts', [key], {});\n",
              "      } catch (error) {\n",
              "        console.error('Error during call to suggestCharts:', error);\n",
              "      }\n",
              "      quickchartButtonEl.classList.remove('colab-df-spinner');\n",
              "      quickchartButtonEl.classList.add('colab-df-quickchart-complete');\n",
              "    }\n",
              "    (() => {\n",
              "      let quickchartButtonEl =\n",
              "        document.querySelector('#df-ca09fa1d-a3fd-4199-bfeb-dd7d5c2f3047 button');\n",
              "      quickchartButtonEl.style.display =\n",
              "        google.colab.kernel.accessAllowed ? 'block' : 'none';\n",
              "    })();\n",
              "  </script>\n",
              "</div>\n",
              "\n",
              "    </div>\n",
              "  </div>\n"
            ],
            "application/vnd.google.colaboratory.intrinsic+json": {
              "type": "dataframe",
              "variable_name": "eth_df"
            }
          },
          "metadata": {},
          "execution_count": 6
        }
      ]
    },
    {
      "cell_type": "markdown",
      "source": [
        "# Visualización de dataset"
      ],
      "metadata": {
        "id": "LQCelc1WK8eC"
      }
    },
    {
      "cell_type": "code",
      "source": [
        "fig=plt.figure(figsize=(50,3))\n",
        "\n",
        "ax1 = fig.add_subplot(1,3,1)\n",
        "ax1.set_title(\"Dataset completo\\nOpen\")\n",
        "ax1.plot(eth_df.high,marker='.',linewidth=0)\n",
        "plt.grid(True)\n",
        "plt.show()"
      ],
      "metadata": {
        "colab": {
          "base_uri": "https://localhost:8080/",
          "height": 334
        },
        "id": "6cotIjE7c3x2",
        "outputId": "994cfabd-e19f-48c6-d873-96957b16e776"
      },
      "execution_count": 7,
      "outputs": [
        {
          "output_type": "display_data",
          "data": {
            "text/plain": [
              "<Figure size 5000x300 with 1 Axes>"
            ],
            "image/png": "[encoded data removed]"
          },
          "metadata": {}
        }
      ]
    },
    {
      "cell_type": "code",
      "source": [
        "eth_df.describe()"
      ],
      "metadata": {
        "colab": {
          "base_uri": "https://localhost:8080/",
          "height": 300
        },
        "id": "0x-lWVaxdhQs",
        "outputId": "d8956bab-4a71-4577-e5b2-7267dff7051a"
      },
      "execution_count": 8,
      "outputs": [
        {
          "output_type": "execute_result",
          "data": {
            "text/plain": [
              "                open           high            low          close  \\\n",
              "count  105120.000000  105120.000000  105120.000000  105120.000000   \n",
              "mean     2278.030550    2280.185491    2275.757571    2278.040851   \n",
              "std       653.151755     654.492014     651.707450     653.152930   \n",
              "min      1524.220000    1526.760000    1521.000000    1524.220000   \n",
              "25%      1809.800000    1810.905000    1808.565000    1809.790000   \n",
              "50%      2006.190000    2007.990000    2004.085000    2006.240000   \n",
              "75%      2660.600000    2664.595000    2656.732500    2660.697500   \n",
              "max      4091.810000    4093.920000    4085.720000    4091.810000   \n",
              "\n",
              "              volume  \n",
              "count  105120.000000  \n",
              "mean     1207.255362  \n",
              "std      1743.006238  \n",
              "min        30.746300  \n",
              "25%       403.680200  \n",
              "50%       721.216900  \n",
              "75%      1329.880475  \n",
              "max     52372.648700  "
            ],
            "text/html": [
              "\n",
              "  <div id=\"df-2dd7e1e9-769d-4a1f-8107-7d203a28a834\" class=\"colab-df-container\">\n",
              "    <div>\n",
              "<style scoped>\n",
              "    .dataframe tbody tr th:only-of-type {\n",
              "        vertical-align: middle;\n",
              "    }\n",
              "\n",
              "    .dataframe tbody tr th {\n",
              "        vertical-align: top;\n",
              "    }\n",
              "\n",
              "    .dataframe thead th {\n",
              "        text-align: right;\n",
              "    }\n",
              "</style>\n",
              "<table border=\"1\" class=\"dataframe\">\n",
              "  <thead>\n",
              "    <tr style=\"text-align: right;\">\n",
              "      <th></th>\n",
              "      <th>open</th>\n",
              "      <th>high</th>\n",
              "      <th>low</th>\n",
              "      <th>close</th>\n",
              "      <th>volume</th>\n",
              "    </tr>\n",
              "  </thead>\n",
              "  <tbody>\n",
              "    <tr>\n",
              "      <th>count</th>\n",
              "      <td>105120.000000</td>\n",
              "      <td>105120.000000</td>\n",
              "      <td>105120.000000</td>\n",
              "      <td>105120.000000</td>\n",
              "      <td>105120.000000</td>\n",
              "    </tr>\n",
              "    <tr>\n",
              "      <th>mean</th>\n",
              "      <td>2278.030550</td>\n",
              "      <td>2280.185491</td>\n",
              "      <td>2275.757571</td>\n",
              "      <td>2278.040851</td>\n",
              "      <td>1207.255362</td>\n",
              "    </tr>\n",
              "    <tr>\n",
              "      <th>std</th>\n",
              "      <td>653.151755</td>\n",
              "      <td>654.492014</td>\n",
              "      <td>651.707450</td>\n",
              "      <td>653.152930</td>\n",
              "      <td>1743.006238</td>\n",
              "    </tr>\n",
              "    <tr>\n",
              "      <th>min</th>\n",
              "      <td>1524.220000</td>\n",
              "      <td>1526.760000</td>\n",
              "      <td>1521.000000</td>\n",
              "      <td>1524.220000</td>\n",
              "      <td>30.746300</td>\n",
              "    </tr>\n",
              "    <tr>\n",
              "      <th>25%</th>\n",
              "      <td>1809.800000</td>\n",
              "      <td>1810.905000</td>\n",
              "      <td>1808.565000</td>\n",
              "      <td>1809.790000</td>\n",
              "      <td>403.680200</td>\n",
              "    </tr>\n",
              "    <tr>\n",
              "      <th>50%</th>\n",
              "      <td>2006.190000</td>\n",
              "      <td>2007.990000</td>\n",
              "      <td>2004.085000</td>\n",
              "      <td>2006.240000</td>\n",
              "      <td>721.216900</td>\n",
              "    </tr>\n",
              "    <tr>\n",
              "      <th>75%</th>\n",
              "      <td>2660.600000</td>\n",
              "      <td>2664.595000</td>\n",
              "      <td>2656.732500</td>\n",
              "      <td>2660.697500</td>\n",
              "      <td>1329.880475</td>\n",
              "    </tr>\n",
              "    <tr>\n",
              "      <th>max</th>\n",
              "      <td>4091.810000</td>\n",
              "      <td>4093.920000</td>\n",
              "      <td>4085.720000</td>\n",
              "      <td>4091.810000</td>\n",
              "      <td>52372.648700</td>\n",
              "    </tr>\n",
              "  </tbody>\n",
              "</table>\n",
              "</div>\n",
              "    <div class=\"colab-df-buttons\">\n",
              "\n",
              "  <div class=\"colab-df-container\">\n",
              "    <button class=\"colab-df-convert\" onclick=\"convertToInteractive('df-2dd7e1e9-769d-4a1f-8107-7d203a28a834')\"\n",
              "            title=\"Convert this dataframe to an interactive table.\"\n",
              "            style=\"display:none;\">\n",
              "\n",
              "  <svg xmlns=\"http://www.w3.org/2000/svg\" height=\"24px\" viewBox=\"0 -960 960 960\">\n",
              "    <path d=\"M120-120v-720h720v720H120Zm60-500h600v-160H180v160Zm220 220h160v-160H400v160Zm0 220h160v-160H400v160ZM180-400h160v-160H180v160Zm440 0h160v-160H620v160ZM180-180h160v-160H180v160Zm440 0h160v-160H620v160Z\"/>\n",
              "  </svg>\n",
              "    </button>\n",
              "\n",
              "  <style>\n",
              "    .colab-df-container {\n",
              "      display:flex;\n",
              "      gap: 12px;\n",
              "    }\n",
              "\n",
              "    .colab-df-convert {\n",
              "      background-color: #E8F0FE;\n",
              "      border: none;\n",
              "      border-radius: 50%;\n",
              "      cursor: pointer;\n",
              "      display: none;\n",
              "      fill: #1967D2;\n",
              "      height: 32px;\n",
              "      padding: 0 0 0 0;\n",
              "      width: 32px;\n",
              "    }\n",
              "\n",
              "    .colab-df-convert:hover {\n",
              "      background-color: #E2EBFA;\n",
              "      box-shadow: 0px 1px 2px rgba(60, 64, 67, 0.3), 0px 1px 3px 1px rgba(60, 64, 67, 0.15);\n",
              "      fill: #174EA6;\n",
              "    }\n",
              "\n",
              "    .colab-df-buttons div {\n",
              "      margin-bottom: 4px;\n",
              "    }\n",
              "\n",
              "    [theme=dark] .colab-df-convert {\n",
              "      background-color: #3B4455;\n",
              "      fill: #D2E3FC;\n",
              "    }\n",
              "\n",
              "    [theme=dark] .colab-df-convert:hover {\n",
              "      background-color: #434B5C;\n",
              "      box-shadow: 0px 1px 3px 1px rgba(0, 0, 0, 0.15);\n",
              "      filter: drop-shadow(0px 1px 2px rgba(0, 0, 0, 0.3));\n",
              "      fill: #FFFFFF;\n",
              "    }\n",
              "  </style>\n",
              "\n",
              "    <script>\n",
              "      const buttonEl =\n",
              "        document.querySelector('#df-2dd7e1e9-769d-4a1f-8107-7d203a28a834 button.colab-df-convert');\n",
              "      buttonEl.style.display =\n",
              "        google.colab.kernel.accessAllowed ? 'block' : 'none';\n",
              "\n",
              "      async function convertToInteractive(key) {\n",
              "        const element = document.querySelector('#df-2dd7e1e9-769d-4a1f-8107-7d203a28a834');\n",
              "        const dataTable =\n",
              "          await google.colab.kernel.invokeFunction('convertToInteractive',\n",
              "                                                    [key], {});\n",
              "        if (!dataTable) return;\n",
              "\n",
              "        const docLinkHtml = 'Like what you see? Visit the ' +\n",
              "          '<a target=\"_blank\" href=https://colab.research.google.com/notebooks/data_table.ipynb>data table notebook</a>'\n",
              "          + ' to learn more about interactive tables.';\n",
              "        element.innerHTML = '';\n",
              "        dataTable['output_type'] = 'display_data';\n",
              "        await google.colab.output.renderOutput(dataTable, element);\n",
              "        const docLink = document.createElement('div');\n",
              "        docLink.innerHTML = docLinkHtml;\n",
              "        element.appendChild(docLink);\n",
              "      }\n",
              "    </script>\n",
              "  </div>\n",
              "\n",
              "\n",
              "<div id=\"df-d289864c-1ca0-4e8b-b52e-4a244400019c\">\n",
              "  <button class=\"colab-df-quickchart\" onclick=\"quickchart('df-d289864c-1ca0-4e8b-b52e-4a244400019c')\"\n",
              "            title=\"Suggest charts\"\n",
              "            style=\"display:none;\">\n",
              "\n",
              "<svg xmlns=\"http://www.w3.org/2000/svg\" height=\"24px\"viewBox=\"0 0 24 24\"\n",
              "     width=\"24px\">\n",
              "    <g>\n",
              "        <path d=\"M19 3H5c-1.1 0-2 .9-2 2v14c0 1.1.9 2 2 2h14c1.1 0 2-.9 2-2V5c0-1.1-.9-2-2-2zM9 17H7v-7h2v7zm4 0h-2V7h2v10zm4 0h-2v-4h2v4z\"/>\n",
              "    </g>\n",
              "</svg>\n",
              "  </button>\n",
              "\n",
              "<style>\n",
              "  .colab-df-quickchart {\n",
              "      --bg-color: #E8F0FE;\n",
              "      --fill-color: #1967D2;\n",
              "      --hover-bg-color: #E2EBFA;\n",
              "      --hover-fill-color: #174EA6;\n",
              "      --disabled-fill-color: #AAA;\n",
              "      --disabled-bg-color: #DDD;\n",
              "  }\n",
              "\n",
              "  [theme=dark] .colab-df-quickchart {\n",
              "      --bg-color: #3B4455;\n",
              "      --fill-color: #D2E3FC;\n",
              "      --hover-bg-color: #434B5C;\n",
              "      --hover-fill-color: #FFFFFF;\n",
              "      --disabled-bg-color: #3B4455;\n",
              "      --disabled-fill-color: #666;\n",
              "  }\n",
              "\n",
              "  .colab-df-quickchart {\n",
              "    background-color: var(--bg-color);\n",
              "    border: none;\n",
              "    border-radius: 50%;\n",
              "    cursor: pointer;\n",
              "    display: none;\n",
              "    fill: var(--fill-color);\n",
              "    height: 32px;\n",
              "    padding: 0;\n",
              "    width: 32px;\n",
              "  }\n",
              "\n",
              "  .colab-df-quickchart:hover {\n",
              "    background-color: var(--hover-bg-color);\n",
              "    box-shadow: 0 1px 2px rgba(60, 64, 67, 0.3), 0 1px 3px 1px rgba(60, 64, 67, 0.15);\n",
              "    fill: var(--button-hover-fill-color);\n",
              "  }\n",
              "\n",
              "  .colab-df-quickchart-complete:disabled,\n",
              "  .colab-df-quickchart-complete:disabled:hover {\n",
              "    background-color: var(--disabled-bg-color);\n",
              "    fill: var(--disabled-fill-color);\n",
              "    box-shadow: none;\n",
              "  }\n",
              "\n",
              "  .colab-df-spinner {\n",
              "    border: 2px solid var(--fill-color);\n",
              "    border-color: transparent;\n",
              "    border-bottom-color: var(--fill-color);\n",
              "    animation:\n",
              "      spin 1s steps(1) infinite;\n",
              "  }\n",
              "\n",
              "  @keyframes spin {\n",
              "    0% {\n",
              "      border-color: transparent;\n",
              "      border-bottom-color: var(--fill-color);\n",
              "      border-left-color: var(--fill-color);\n",
              "    }\n",
              "    20% {\n",
              "      border-color: transparent;\n",
              "      border-left-color: var(--fill-color);\n",
              "      border-top-color: var(--fill-color);\n",
              "    }\n",
              "    30% {\n",
              "      border-color: transparent;\n",
              "      border-left-color: var(--fill-color);\n",
              "      border-top-color: var(--fill-color);\n",
              "      border-right-color: var(--fill-color);\n",
              "    }\n",
              "    40% {\n",
              "      border-color: transparent;\n",
              "      border-right-color: var(--fill-color);\n",
              "      border-top-color: var(--fill-color);\n",
              "    }\n",
              "    60% {\n",
              "      border-color: transparent;\n",
              "      border-right-color: var(--fill-color);\n",
              "    }\n",
              "    80% {\n",
              "      border-color: transparent;\n",
              "      border-right-color: var(--fill-color);\n",
              "      border-bottom-color: var(--fill-color);\n",
              "    }\n",
              "    90% {\n",
              "      border-color: transparent;\n",
              "      border-bottom-color: var(--fill-color);\n",
              "    }\n",
              "  }\n",
              "</style>\n",
              "\n",
              "  <script>\n",
              "    async function quickchart(key) {\n",
              "      const quickchartButtonEl =\n",
              "        document.querySelector('#' + key + ' button');\n",
              "      quickchartButtonEl.disabled = true;  // To prevent multiple clicks.\n",
              "      quickchartButtonEl.classList.add('colab-df-spinner');\n",
              "      try {\n",
              "        const charts = await google.colab.kernel.invokeFunction(\n",
              "            'suggestCharts', [key], {});\n",
              "      } catch (error) {\n",
              "        console.error('Error during call to suggestCharts:', error);\n",
              "      }\n",
              "      quickchartButtonEl.classList.remove('colab-df-spinner');\n",
              "      quickchartButtonEl.classList.add('colab-df-quickchart-complete');\n",
              "    }\n",
              "    (() => {\n",
              "      let quickchartButtonEl =\n",
              "        document.querySelector('#df-d289864c-1ca0-4e8b-b52e-4a244400019c button');\n",
              "      quickchartButtonEl.style.display =\n",
              "        google.colab.kernel.accessAllowed ? 'block' : 'none';\n",
              "    })();\n",
              "  </script>\n",
              "</div>\n",
              "\n",
              "    </div>\n",
              "  </div>\n"
            ],
            "application/vnd.google.colaboratory.intrinsic+json": {
              "type": "dataframe",
              "summary": "{\n  \"name\": \"eth_df\",\n  \"rows\": 8,\n  \"fields\": [\n    {\n      \"column\": \"open\",\n      \"properties\": {\n        \"dtype\": \"number\",\n        \"std\": 36420.08648842648,\n        \"min\": 653.1517551538857,\n        \"max\": 105120.0,\n        \"num_unique_values\": 8,\n        \"samples\": [\n          2278.0305495624048,\n          2006.19,\n          105120.0\n        ],\n        \"semantic_type\": \"\",\n        \"description\": \"\"\n      }\n    },\n    {\n      \"column\": \"high\",\n      \"properties\": {\n        \"dtype\": \"number\",\n        \"std\": 36419.33566268975,\n        \"min\": 654.4920141781593,\n        \"max\": 105120.0,\n        \"num_unique_values\": 8,\n        \"samples\": [\n          2280.185491152968,\n          2007.99,\n          105120.0\n        ],\n        \"semantic_type\": \"\",\n        \"description\": \"\"\n      }\n    },\n    {\n      \"column\": \"low\",\n      \"properties\": {\n        \"dtype\": \"number\",\n        \"std\": 36421.07180782437,\n        \"min\": 651.7074501107461,\n        \"max\": 105120.0,\n        \"num_unique_values\": 8,\n        \"samples\": [\n          2275.7575709665143,\n          2004.085,\n          105120.0\n        ],\n        \"semantic_type\": \"\",\n        \"description\": \"\"\n      }\n    },\n    {\n      \"column\": \"close\",\n      \"properties\": {\n        \"dtype\": \"number\",\n        \"std\": 36420.079147680925,\n        \"min\": 653.1529296756903,\n        \"max\": 105120.0,\n        \"num_unique_values\": 8,\n        \"samples\": [\n          2278.0408506468793,\n          2006.24,\n          105120.0\n        ],\n        \"semantic_type\": \"\",\n        \"description\": \"\"\n      }\n    },\n    {\n      \"column\": \"volume\",\n      \"properties\": {\n        \"dtype\": \"number\",\n        \"std\": 38696.340864725724,\n        \"min\": 30.7463,\n        \"max\": 105120.0,\n        \"num_unique_values\": 8,\n        \"samples\": [\n          1207.2553615553654,\n          721.2169,\n          105120.0\n        ],\n        \"semantic_type\": \"\",\n        \"description\": \"\"\n      }\n    }\n  ]\n}"
            }
          },
          "metadata": {},
          "execution_count": 8
        }
      ]
    },
    {
      "cell_type": "markdown",
      "source": [
        "# Validación de periodisidad y duplicados de datos"
      ],
      "metadata": {
        "id": "g4nVddoFLB_K"
      }
    },
    {
      "cell_type": "code",
      "source": [
        "duplicates = eth_df[eth_df.duplicated()]\n",
        "duplicates.count()"
      ],
      "metadata": {
        "colab": {
          "base_uri": "https://localhost:8080/"
        },
        "id": "6cjSveR1e7Lq",
        "outputId": "56e2f61b-b644-4052-fb09-f68e18d47f9e"
      },
      "execution_count": 9,
      "outputs": [
        {
          "output_type": "execute_result",
          "data": {
            "text/plain": [
              "open      0\n",
              "high      0\n",
              "low       0\n",
              "close     0\n",
              "volume    0\n",
              "dtype: int64"
            ]
          },
          "metadata": {},
          "execution_count": 9
        }
      ]
    },
    {
      "cell_type": "code",
      "source": [
        "\n",
        "# Ordenar los datos\n",
        "eth_df = eth_df.sort_index()\n",
        "\n",
        "# Verificar que los intervalos sean de 5 min\n",
        "intervalos_esperados = pd.date_range(start=eth_df.index.min(), end=eth_df.index.max(), freq='5T')\n",
        "intervalos_faltantes = intervalos_esperados.difference(eth_df.index)\n",
        "if len(intervalos_faltantes) == 0:\n",
        "    print(\"Todos los intervalos de 5 minutos están presentes.\")\n",
        "else:\n",
        "    print(\"Faltan intervalos de 5 minutos en la serie de tiempo.\")\n",
        "\n",
        "# Verificar la regularidad de los intervalos\n",
        "diferencia_intervalos = eth_df.index.to_series().diff().dropna()\n",
        "if (diferencia_intervalos == pd.Timedelta(minutes=5)).all():\n",
        "    print(\"La serie de tiempo tiene intervalos regulares de 5 minutos.\")\n",
        "else:\n",
        "    print(\"Error: La serie de tiempo tiene intervalos irregulares.\")"
      ],
      "metadata": {
        "colab": {
          "base_uri": "https://localhost:8080/"
        },
        "id": "AFc1qTNgQvb3",
        "outputId": "51118cde-e8c3-4b37-854c-f1c97508b7a9"
      },
      "execution_count": 10,
      "outputs": [
        {
          "output_type": "stream",
          "name": "stdout",
          "text": [
            "Todos los intervalos de 5 minutos están presentes.\n",
            "La serie de tiempo tiene intervalos regulares de 5 minutos.\n"
          ]
        }
      ]
    },
    {
      "cell_type": "code",
      "source": [
        "eth_df = eth_df.sort_index()\n",
        "\n",
        "# Calcular la diferencia de tiempo entre cada marca de tiempo\n",
        "diferencia_intervalos = eth_df.index.to_series().diff().dropna()\n",
        "\n",
        "# Encontrar las diferencias que no son de 5 minutos\n",
        "intervalos_no_5min = diferencia_intervalos[diferencia_intervalos != timedelta(minutes=5)]\n",
        "\n",
        "# Mostrar las diferencias que no cumplen con los 5 minutos\n",
        "print(\"Intervalos que no cumplen con 5 minutos:\",len(intervalos_no_5min))"
      ],
      "metadata": {
        "colab": {
          "base_uri": "https://localhost:8080/"
        },
        "id": "YBDEOAZ3RB_q",
        "outputId": "3d552bcc-fc6a-4bfd-c909-9eec1029b9d1"
      },
      "execution_count": 11,
      "outputs": [
        {
          "output_type": "stream",
          "name": "stdout",
          "text": [
            "Intervalos que no cumplen con 5 minutos: 0\n"
          ]
        }
      ]
    },
    {
      "cell_type": "markdown",
      "source": [
        "# Creación de datasets utilizando la variable *high*"
      ],
      "metadata": {
        "id": "Nz6_EZYcKjWf"
      }
    },
    {
      "cell_type": "code",
      "source": [
        "# Dataset de entrenamiento que toma todos los registros de 2023 de la columna high\n",
        "train_ds = eth_df[:'2023'].iloc[:,1:2]\n",
        "\n",
        "# Dataset de validacion que toma todos los registros de 2023 de la columna high\n",
        "valid_ds = eth_df['2024':].iloc[:,1:2]"
      ],
      "metadata": {
        "id": "EhW1hYvPf-Cl"
      },
      "execution_count": 12,
      "outputs": []
    },
    {
      "cell_type": "code",
      "source": [
        "train_ds"
      ],
      "metadata": {
        "colab": {
          "base_uri": "https://localhost:8080/",
          "height": 455
        },
        "id": "0oFaRle4KZ7E",
        "outputId": "b203c542-62c1-402e-faa4-df5bf02d7539"
      },
      "execution_count": 13,
      "outputs": [
        {
          "output_type": "execute_result",
          "data": {
            "text/plain": [
              "                        high\n",
              "timestamp                   \n",
              "2023-05-16 03:25:00  1812.60\n",
              "2023-05-16 03:30:00  1812.91\n",
              "2023-05-16 03:35:00  1813.99\n",
              "2023-05-16 03:40:00  1814.30\n",
              "2023-05-16 03:45:00  1812.97\n",
              "...                      ...\n",
              "2023-12-31 23:35:00  2280.00\n",
              "2023-12-31 23:40:00  2279.99\n",
              "2023-12-31 23:45:00  2283.88\n",
              "2023-12-31 23:50:00  2283.71\n",
              "2023-12-31 23:55:00  2282.60\n",
              "\n",
              "[66199 rows x 1 columns]"
            ],
            "text/html": [
              "\n",
              "  <div id=\"df-6d133c81-1941-4b7f-9ced-867b7d605d1b\" class=\"colab-df-container\">\n",
              "    <div>\n",
              "<style scoped>\n",
              "    .dataframe tbody tr th:only-of-type {\n",
              "        vertical-align: middle;\n",
              "    }\n",
              "\n",
              "    .dataframe tbody tr th {\n",
              "        vertical-align: top;\n",
              "    }\n",
              "\n",
              "    .dataframe thead th {\n",
              "        text-align: right;\n",
              "    }\n",
              "</style>\n",
              "<table border=\"1\" class=\"dataframe\">\n",
              "  <thead>\n",
              "    <tr style=\"text-align: right;\">\n",
              "      <th></th>\n",
              "      <th>high</th>\n",
              "    </tr>\n",
              "    <tr>\n",
              "      <th>timestamp</th>\n",
              "      <th></th>\n",
              "    </tr>\n",
              "  </thead>\n",
              "  <tbody>\n",
              "    <tr>\n",
              "      <th>2023-05-16 03:25:00</th>\n",
              "      <td>1812.60</td>\n",
              "    </tr>\n",
              "    <tr>\n",
              "      <th>2023-05-16 03:30:00</th>\n",
              "      <td>1812.91</td>\n",
              "    </tr>\n",
              "    <tr>\n",
              "      <th>2023-05-16 03:35:00</th>\n",
              "      <td>1813.99</td>\n",
              "    </tr>\n",
              "    <tr>\n",
              "      <th>2023-05-16 03:40:00</th>\n",
              "      <td>1814.30</td>\n",
              "    </tr>\n",
              "    <tr>\n",
              "      <th>2023-05-16 03:45:00</th>\n",
              "      <td>1812.97</td>\n",
              "    </tr>\n",
              "    <tr>\n",
              "      <th>...</th>\n",
              "      <td>...</td>\n",
              "    </tr>\n",
              "    <tr>\n",
              "      <th>2023-12-31 23:35:00</th>\n",
              "      <td>2280.00</td>\n",
              "    </tr>\n",
              "    <tr>\n",
              "      <th>2023-12-31 23:40:00</th>\n",
              "      <td>2279.99</td>\n",
              "    </tr>\n",
              "    <tr>\n",
              "      <th>2023-12-31 23:45:00</th>\n",
              "      <td>2283.88</td>\n",
              "    </tr>\n",
              "    <tr>\n",
              "      <th>2023-12-31 23:50:00</th>\n",
              "      <td>2283.71</td>\n",
              "    </tr>\n",
              "    <tr>\n",
              "      <th>2023-12-31 23:55:00</th>\n",
              "      <td>2282.60</td>\n",
              "    </tr>\n",
              "  </tbody>\n",
              "</table>\n",
              "<p>66199 rows × 1 columns</p>\n",
              "</div>\n",
              "    <div class=\"colab-df-buttons\">\n",
              "\n",
              "  <div class=\"colab-df-container\">\n",
              "    <button class=\"colab-df-convert\" onclick=\"convertToInteractive('df-6d133c81-1941-4b7f-9ced-867b7d605d1b')\"\n",
              "            title=\"Convert this dataframe to an interactive table.\"\n",
              "            style=\"display:none;\">\n",
              "\n",
              "  <svg xmlns=\"http://www.w3.org/2000/svg\" height=\"24px\" viewBox=\"0 -960 960 960\">\n",
              "    <path d=\"M120-120v-720h720v720H120Zm60-500h600v-160H180v160Zm220 220h160v-160H400v160Zm0 220h160v-160H400v160ZM180-400h160v-160H180v160Zm440 0h160v-160H620v160ZM180-180h160v-160H180v160Zm440 0h160v-160H620v160Z\"/>\n",
              "  </svg>\n",
              "    </button>\n",
              "\n",
              "  <style>\n",
              "    .colab-df-container {\n",
              "      display:flex;\n",
              "      gap: 12px;\n",
              "    }\n",
              "\n",
              "    .colab-df-convert {\n",
              "      background-color: #E8F0FE;\n",
              "      border: none;\n",
              "      border-radius: 50%;\n",
              "      cursor: pointer;\n",
              "      display: none;\n",
              "      fill: #1967D2;\n",
              "      height: 32px;\n",
              "      padding: 0 0 0 0;\n",
              "      width: 32px;\n",
              "    }\n",
              "\n",
              "    .colab-df-convert:hover {\n",
              "      background-color: #E2EBFA;\n",
              "      box-shadow: 0px 1px 2px rgba(60, 64, 67, 0.3), 0px 1px 3px 1px rgba(60, 64, 67, 0.15);\n",
              "      fill: #174EA6;\n",
              "    }\n",
              "\n",
              "    .colab-df-buttons div {\n",
              "      margin-bottom: 4px;\n",
              "    }\n",
              "\n",
              "    [theme=dark] .colab-df-convert {\n",
              "      background-color: #3B4455;\n",
              "      fill: #D2E3FC;\n",
              "    }\n",
              "\n",
              "    [theme=dark] .colab-df-convert:hover {\n",
              "      background-color: #434B5C;\n",
              "      box-shadow: 0px 1px 3px 1px rgba(0, 0, 0, 0.15);\n",
              "      filter: drop-shadow(0px 1px 2px rgba(0, 0, 0, 0.3));\n",
              "      fill: #FFFFFF;\n",
              "    }\n",
              "  </style>\n",
              "\n",
              "    <script>\n",
              "      const buttonEl =\n",
              "        document.querySelector('#df-6d133c81-1941-4b7f-9ced-867b7d605d1b button.colab-df-convert');\n",
              "      buttonEl.style.display =\n",
              "        google.colab.kernel.accessAllowed ? 'block' : 'none';\n",
              "\n",
              "      async function convertToInteractive(key) {\n",
              "        const element = document.querySelector('#df-6d133c81-1941-4b7f-9ced-867b7d605d1b');\n",
              "        const dataTable =\n",
              "          await google.colab.kernel.invokeFunction('convertToInteractive',\n",
              "                                                    [key], {});\n",
              "        if (!dataTable) return;\n",
              "\n",
              "        const docLinkHtml = 'Like what you see? Visit the ' +\n",
              "          '<a target=\"_blank\" href=https://colab.research.google.com/notebooks/data_table.ipynb>data table notebook</a>'\n",
              "          + ' to learn more about interactive tables.';\n",
              "        element.innerHTML = '';\n",
              "        dataTable['output_type'] = 'display_data';\n",
              "        await google.colab.output.renderOutput(dataTable, element);\n",
              "        const docLink = document.createElement('div');\n",
              "        docLink.innerHTML = docLinkHtml;\n",
              "        element.appendChild(docLink);\n",
              "      }\n",
              "    </script>\n",
              "  </div>\n",
              "\n",
              "\n",
              "<div id=\"df-2d63a236-d56b-4b11-a06e-38a1860bf000\">\n",
              "  <button class=\"colab-df-quickchart\" onclick=\"quickchart('df-2d63a236-d56b-4b11-a06e-38a1860bf000')\"\n",
              "            title=\"Suggest charts\"\n",
              "            style=\"display:none;\">\n",
              "\n",
              "<svg xmlns=\"http://www.w3.org/2000/svg\" height=\"24px\"viewBox=\"0 0 24 24\"\n",
              "     width=\"24px\">\n",
              "    <g>\n",
              "        <path d=\"M19 3H5c-1.1 0-2 .9-2 2v14c0 1.1.9 2 2 2h14c1.1 0 2-.9 2-2V5c0-1.1-.9-2-2-2zM9 17H7v-7h2v7zm4 0h-2V7h2v10zm4 0h-2v-4h2v4z\"/>\n",
              "    </g>\n",
              "</svg>\n",
              "  </button>\n",
              "\n",
              "<style>\n",
              "  .colab-df-quickchart {\n",
              "      --bg-color: #E8F0FE;\n",
              "      --fill-color: #1967D2;\n",
              "      --hover-bg-color: #E2EBFA;\n",
              "      --hover-fill-color: #174EA6;\n",
              "      --disabled-fill-color: #AAA;\n",
              "      --disabled-bg-color: #DDD;\n",
              "  }\n",
              "\n",
              "  [theme=dark] .colab-df-quickchart {\n",
              "      --bg-color: #3B4455;\n",
              "      --fill-color: #D2E3FC;\n",
              "      --hover-bg-color: #434B5C;\n",
              "      --hover-fill-color: #FFFFFF;\n",
              "      --disabled-bg-color: #3B4455;\n",
              "      --disabled-fill-color: #666;\n",
              "  }\n",
              "\n",
              "  .colab-df-quickchart {\n",
              "    background-color: var(--bg-color);\n",
              "    border: none;\n",
              "    border-radius: 50%;\n",
              "    cursor: pointer;\n",
              "    display: none;\n",
              "    fill: var(--fill-color);\n",
              "    height: 32px;\n",
              "    padding: 0;\n",
              "    width: 32px;\n",
              "  }\n",
              "\n",
              "  .colab-df-quickchart:hover {\n",
              "    background-color: var(--hover-bg-color);\n",
              "    box-shadow: 0 1px 2px rgba(60, 64, 67, 0.3), 0 1px 3px 1px rgba(60, 64, 67, 0.15);\n",
              "    fill: var(--button-hover-fill-color);\n",
              "  }\n",
              "\n",
              "  .colab-df-quickchart-complete:disabled,\n",
              "  .colab-df-quickchart-complete:disabled:hover {\n",
              "    background-color: var(--disabled-bg-color);\n",
              "    fill: var(--disabled-fill-color);\n",
              "    box-shadow: none;\n",
              "  }\n",
              "\n",
              "  .colab-df-spinner {\n",
              "    border: 2px solid var(--fill-color);\n",
              "    border-color: transparent;\n",
              "    border-bottom-color: var(--fill-color);\n",
              "    animation:\n",
              "      spin 1s steps(1) infinite;\n",
              "  }\n",
              "\n",
              "  @keyframes spin {\n",
              "    0% {\n",
              "      border-color: transparent;\n",
              "      border-bottom-color: var(--fill-color);\n",
              "      border-left-color: var(--fill-color);\n",
              "    }\n",
              "    20% {\n",
              "      border-color: transparent;\n",
              "      border-left-color: var(--fill-color);\n",
              "      border-top-color: var(--fill-color);\n",
              "    }\n",
              "    30% {\n",
              "      border-color: transparent;\n",
              "      border-left-color: var(--fill-color);\n",
              "      border-top-color: var(--fill-color);\n",
              "      border-right-color: var(--fill-color);\n",
              "    }\n",
              "    40% {\n",
              "      border-color: transparent;\n",
              "      border-right-color: var(--fill-color);\n",
              "      border-top-color: var(--fill-color);\n",
              "    }\n",
              "    60% {\n",
              "      border-color: transparent;\n",
              "      border-right-color: var(--fill-color);\n",
              "    }\n",
              "    80% {\n",
              "      border-color: transparent;\n",
              "      border-right-color: var(--fill-color);\n",
              "      border-bottom-color: var(--fill-color);\n",
              "    }\n",
              "    90% {\n",
              "      border-color: transparent;\n",
              "      border-bottom-color: var(--fill-color);\n",
              "    }\n",
              "  }\n",
              "</style>\n",
              "\n",
              "  <script>\n",
              "    async function quickchart(key) {\n",
              "      const quickchartButtonEl =\n",
              "        document.querySelector('#' + key + ' button');\n",
              "      quickchartButtonEl.disabled = true;  // To prevent multiple clicks.\n",
              "      quickchartButtonEl.classList.add('colab-df-spinner');\n",
              "      try {\n",
              "        const charts = await google.colab.kernel.invokeFunction(\n",
              "            'suggestCharts', [key], {});\n",
              "      } catch (error) {\n",
              "        console.error('Error during call to suggestCharts:', error);\n",
              "      }\n",
              "      quickchartButtonEl.classList.remove('colab-df-spinner');\n",
              "      quickchartButtonEl.classList.add('colab-df-quickchart-complete');\n",
              "    }\n",
              "    (() => {\n",
              "      let quickchartButtonEl =\n",
              "        document.querySelector('#df-2d63a236-d56b-4b11-a06e-38a1860bf000 button');\n",
              "      quickchartButtonEl.style.display =\n",
              "        google.colab.kernel.accessAllowed ? 'block' : 'none';\n",
              "    })();\n",
              "  </script>\n",
              "</div>\n",
              "\n",
              "  <div id=\"id_baf18bfc-3d98-40b2-8dab-921aadf6dc9e\">\n",
              "    <style>\n",
              "      .colab-df-generate {\n",
              "        background-color: #E8F0FE;\n",
              "        border: none;\n",
              "        border-radius: 50%;\n",
              "        cursor: pointer;\n",
              "        display: none;\n",
              "        fill: #1967D2;\n",
              "        height: 32px;\n",
              "        padding: 0 0 0 0;\n",
              "        width: 32px;\n",
              "      }\n",
              "\n",
              "      .colab-df-generate:hover {\n",
              "        background-color: #E2EBFA;\n",
              "        box-shadow: 0px 1px 2px rgba(60, 64, 67, 0.3), 0px 1px 3px 1px rgba(60, 64, 67, 0.15);\n",
              "        fill: #174EA6;\n",
              "      }\n",
              "\n",
              "      [theme=dark] .colab-df-generate {\n",
              "        background-color: #3B4455;\n",
              "        fill: #D2E3FC;\n",
              "      }\n",
              "\n",
              "      [theme=dark] .colab-df-generate:hover {\n",
              "        background-color: #434B5C;\n",
              "        box-shadow: 0px 1px 3px 1px rgba(0, 0, 0, 0.15);\n",
              "        filter: drop-shadow(0px 1px 2px rgba(0, 0, 0, 0.3));\n",
              "        fill: #FFFFFF;\n",
              "      }\n",
              "    </style>\n",
              "    <button class=\"colab-df-generate\" onclick=\"generateWithVariable('train_ds')\"\n",
              "            title=\"Generate code using this dataframe.\"\n",
              "            style=\"display:none;\">\n",
              "\n",
              "  <svg xmlns=\"http://www.w3.org/2000/svg\" height=\"24px\"viewBox=\"0 0 24 24\"\n",
              "       width=\"24px\">\n",
              "    <path d=\"M7,19H8.4L18.45,9,17,7.55,7,17.6ZM5,21V16.75L18.45,3.32a2,2,0,0,1,2.83,0l1.4,1.43a1.91,1.91,0,0,1,.58,1.4,1.91,1.91,0,0,1-.58,1.4L9.25,21ZM18.45,9,17,7.55Zm-12,3A5.31,5.31,0,0,0,4.9,8.1,5.31,5.31,0,0,0,1,6.5,5.31,5.31,0,0,0,4.9,4.9,5.31,5.31,0,0,0,6.5,1,5.31,5.31,0,0,0,8.1,4.9,5.31,5.31,0,0,0,12,6.5,5.46,5.46,0,0,0,6.5,12Z\"/>\n",
              "  </svg>\n",
              "    </button>\n",
              "    <script>\n",
              "      (() => {\n",
              "      const buttonEl =\n",
              "        document.querySelector('#id_baf18bfc-3d98-40b2-8dab-921aadf6dc9e button.colab-df-generate');\n",
              "      buttonEl.style.display =\n",
              "        google.colab.kernel.accessAllowed ? 'block' : 'none';\n",
              "\n",
              "      buttonEl.onclick = () => {\n",
              "        google.colab.notebook.generateWithVariable('train_ds');\n",
              "      }\n",
              "      })();\n",
              "    </script>\n",
              "  </div>\n",
              "\n",
              "    </div>\n",
              "  </div>\n"
            ],
            "application/vnd.google.colaboratory.intrinsic+json": {
              "type": "dataframe",
              "variable_name": "train_ds",
              "summary": "{\n  \"name\": \"train_ds\",\n  \"rows\": 66199,\n  \"fields\": [\n    {\n      \"column\": \"timestamp\",\n      \"properties\": {\n        \"dtype\": \"date\",\n        \"min\": \"2023-05-16 03:25:00\",\n        \"max\": \"2023-12-31 23:55:00\",\n        \"num_unique_values\": 66199,\n        \"samples\": [\n          \"2023-10-19 08:55:00\",\n          \"2023-09-06 09:05:00\",\n          \"2023-11-14 18:40:00\"\n        ],\n        \"semantic_type\": \"\",\n        \"description\": \"\"\n      }\n    },\n    {\n      \"column\": \"high\",\n      \"properties\": {\n        \"dtype\": \"number\",\n        \"std\": 207.40983233229386,\n        \"min\": 1526.76,\n        \"max\": 2445.8,\n        \"num_unique_values\": 35524,\n        \"samples\": [\n          1667.47,\n          1926.09,\n          1620.2\n        ],\n        \"semantic_type\": \"\",\n        \"description\": \"\"\n      }\n    }\n  ]\n}"
            }
          },
          "metadata": {},
          "execution_count": 13
        }
      ]
    },
    {
      "cell_type": "code",
      "source": [
        "print(\"Tamaño del dataset de entrenamiento:\", train_ds.shape[0])\n",
        "print(\"Tamaño del dataset de validacion:\", valid_ds.shape[0])"
      ],
      "metadata": {
        "colab": {
          "base_uri": "https://localhost:8080/"
        },
        "id": "OPns9z4rWy9N",
        "outputId": "c3e7870f-da4f-454b-abc5-106d6b889944"
      },
      "execution_count": 14,
      "outputs": [
        {
          "output_type": "stream",
          "name": "stdout",
          "text": [
            "Tamaño del dataset de entrenamiento: 66199\n",
            "Tamaño del dataset de validacion: 38921\n"
          ]
        }
      ]
    },
    {
      "cell_type": "markdown",
      "source": [
        "## Visualización de datos de entrenamiento y de validación"
      ],
      "metadata": {
        "id": "q0daLJCrNC4e"
      }
    },
    {
      "cell_type": "code",
      "source": [
        "fig=plt.figure(figsize=(50,3))\n",
        "\n",
        "ax1 = fig.add_subplot(1,3,1)\n",
        "ax1.set_title(\"Dataset entrenamiento\\nHigh\")\n",
        "ax1.plot( train_ds.high, marker = '.', linewidth = 0 )\n",
        "plt.show()"
      ],
      "metadata": {
        "colab": {
          "base_uri": "https://localhost:8080/",
          "height": 334
        },
        "id": "_EaXvvyDllwP",
        "outputId": "56211d7c-23bf-41ee-adc5-31227f0d49b3"
      },
      "execution_count": 15,
      "outputs": [
        {
          "output_type": "display_data",
          "data": {
            "text/plain": [
              "<Figure size 5000x300 with 1 Axes>"
            ],
            "image/png": "[encoded data removed]"
          },
          "metadata": {}
        }
      ]
    },
    {
      "cell_type": "code",
      "source": [
        "fig=plt.figure(figsize=(50,3))\n",
        "\n",
        "ax1 = fig.add_subplot(1,3,1)\n",
        "ax1.set_title(\"Dataset validación\\nHigh\")\n",
        "ax1.plot( valid_ds.high, marker = '.', linewidth = 0 )\n",
        "plt.show()"
      ],
      "metadata": {
        "colab": {
          "base_uri": "https://localhost:8080/",
          "height": 334
        },
        "id": "keSOW3ZimHEK",
        "outputId": "33830f84-38d1-4d9b-f911-ddb8e2b1fd22"
      },
      "execution_count": 16,
      "outputs": [
        {
          "output_type": "display_data",
          "data": {
            "text/plain": [
              "<Figure size 5000x300 with 1 Axes>"
            ],
            "image/png": "[encoded data removed]"
          },
          "metadata": {}
        }
      ]
    },
    {
      "cell_type": "markdown",
      "source": [
        "# Escalación de los datos"
      ],
      "metadata": {
        "id": "9jNdTQh_XXAe"
      }
    },
    {
      "cell_type": "code",
      "source": [
        "# scaler = MinMaxScaler( feature_range = (0,1) )\n",
        "# train_ds_escalado = scaler.fit_transform(train_ds)"
      ],
      "metadata": {
        "id": "Sdns_mm4mkEI"
      },
      "execution_count": null,
      "outputs": []
    },
    {
      "cell_type": "code",
      "source": [
        "scaler_train = RobustScaler(quantile_range=(25, 75))\n",
        "train_ds_escalado = scaler_train.fit_transform(train_ds)"
      ],
      "metadata": {
        "id": "-TBkLbYDZYT-"
      },
      "execution_count": 17,
      "outputs": []
    },
    {
      "cell_type": "code",
      "source": [
        "time_step = 100  # <-------- parametro: numero de valores a usar para predecir el siguiente (100 datos)\n",
        "X_train = []\n",
        "Y_train = []\n",
        "m = len(train_ds_escalado)\n",
        "\n",
        "for i in range(time_step,m):\n",
        "    # X: bloques de \"time_step\" datos: 0-time_step, 1-time_step+1, 2-time_step+2, etc\n",
        "    X_train.append(train_ds_escalado[i-time_step:i,0])\n",
        "\n",
        "    # Y: el siguiente dato (Ejemplo: X_train:0:100, Y_train:101)\n",
        "    Y_train.append(train_ds_escalado[i,0])\n",
        "\n",
        "X_train, Y_train = np.array(X_train), np.array(Y_train)"
      ],
      "metadata": {
        "id": "hQfPKEgqmxia"
      },
      "execution_count": 18,
      "outputs": []
    },
    {
      "cell_type": "code",
      "source": [
        "print(\"X_train:\", X_train.shape)\n",
        "print(\"Y_train:\", Y_train.shape)"
      ],
      "metadata": {
        "colab": {
          "base_uri": "https://localhost:8080/"
        },
        "id": "rcaRXHUPaIc9",
        "outputId": "7231220a-3656-448d-edbd-671cc4d45304"
      },
      "execution_count": 19,
      "outputs": [
        {
          "output_type": "stream",
          "name": "stdout",
          "text": [
            "X_train: (66099, 100)\n",
            "Y_train: (66099,)\n"
          ]
        }
      ]
    },
    {
      "cell_type": "code",
      "source": [
        "print(\"X_train:\",X_train[0])\n",
        "print(\"Y_train:\",Y_train[0])"
      ],
      "metadata": {
        "colab": {
          "base_uri": "https://localhost:8080/"
        },
        "id": "1ZMr7h85a9Ma",
        "outputId": "31a32a60-487a-4f03-a19b-10a06364dde8"
      },
      "execution_count": 20,
      "outputs": [
        {
          "output_type": "stream",
          "name": "stdout",
          "text": [
            "X_train: [-0.12712151 -0.12595492 -0.12189064 -0.12072404 -0.12572912 -0.12682046\n",
            " -0.12332066 -0.11839085 -0.12463779 -0.12817522 -0.12742257 -0.12809995\n",
            " -0.12742257 -0.12531517 -0.12922892 -0.12411094 -0.12452489 -0.12636887\n",
            " -0.12633124 -0.12015956 -0.11842848 -0.11835322 -0.12053588 -0.12053588\n",
            " -0.12380988 -0.12666993 -0.13103526 -0.13235239 -0.13502427 -0.13092236\n",
            " -0.13133632 -0.13340609 -0.13671772 -0.13581455 -0.13735747 -0.13735747\n",
            " -0.13415873 -0.12591728 -0.12689572 -0.12900312 -0.13103526 -0.12467542\n",
            " -0.12565386 -0.12106273 -0.12151432 -0.11967034 -0.09505889 -0.09852106\n",
            " -0.10506906 -0.10439168 -0.09344071 -0.08568848 -0.08625296 -0.09178489\n",
            " -0.08918827 -0.08918827 -0.09099462 -0.0729688  -0.07503857 -0.07225379\n",
            " -0.08143604 -0.09035487 -0.09204832 -0.09400519 -0.09419335 -0.10104241\n",
            " -0.10002634 -0.09468257 -0.09961239 -0.10119294 -0.09701577 -0.09581154\n",
            " -0.09806947 -0.09490837 -0.10378956 -0.09769315 -0.10183269 -0.1069883\n",
            " -0.10785384 -0.10800437 -0.10800437 -0.10984834 -0.11191811 -0.12049825\n",
            " -0.12414857 -0.11820269 -0.11748768 -0.11914349 -0.121138   -0.12380988\n",
            " -0.12561623 -0.12456253 -0.11733715 -0.11522974 -0.11729951 -0.11180522\n",
            " -0.11507922 -0.11090204 -0.0992737  -0.10409062]\n",
            "Y_train: -0.1028863884393939\n"
          ]
        }
      ]
    },
    {
      "cell_type": "code",
      "source": [
        "X_train = np.reshape(X_train, (X_train.shape[0], X_train.shape[1], 1))"
      ],
      "metadata": {
        "id": "xEP8T7n1nFtJ"
      },
      "execution_count": 21,
      "outputs": []
    },
    {
      "cell_type": "code",
      "source": [
        "X_train.shape, Y_train.shape"
      ],
      "metadata": {
        "colab": {
          "base_uri": "https://localhost:8080/"
        },
        "id": "n_LfKsbfnTCR",
        "outputId": "e884f88c-65f8-4403-f452-ee85039c2c67"
      },
      "execution_count": 22,
      "outputs": [
        {
          "output_type": "execute_result",
          "data": {
            "text/plain": [
              "((66099, 100, 1), (66099,))"
            ]
          },
          "metadata": {},
          "execution_count": 22
        }
      ]
    },
    {
      "cell_type": "markdown",
      "source": [
        "# Modelo"
      ],
      "metadata": {
        "id": "23uAyqoqbshX"
      }
    },
    {
      "cell_type": "code",
      "source": [
        "dim_entrada = (X_train.shape[1],1)\n",
        "dim_salida = 1\n",
        "num_neuron = 100"
      ],
      "metadata": {
        "id": "HKX5DpkXnTbX"
      },
      "execution_count": 23,
      "outputs": []
    },
    {
      "cell_type": "code",
      "source": [
        "print(\"Tamaño de entrada:\",dim_entrada)\n",
        "print(\"Tamaño de salida:\",dim_salida)"
      ],
      "metadata": {
        "colab": {
          "base_uri": "https://localhost:8080/"
        },
        "id": "ft4a1AsXbcLf",
        "outputId": "36b47525-2b01-4df6-e84e-286f1d7c38a0"
      },
      "execution_count": 24,
      "outputs": [
        {
          "output_type": "stream",
          "name": "stdout",
          "text": [
            "Tamaño de entrada: (100, 1)\n",
            "Tamaño de salida: 1\n"
          ]
        }
      ]
    },
    {
      "cell_type": "code",
      "source": [
        "modelo = Sequential()\n",
        "modelo.add(LSTM(units = num_neuron, input_shape = dim_entrada))\n",
        "modelo.add(Dense(units = dim_salida))"
      ],
      "metadata": {
        "id": "5rq9MImjnf4U"
      },
      "execution_count": 25,
      "outputs": []
    },
    {
      "cell_type": "code",
      "source": [
        "modelo.compile(optimizer='Adam', loss='mse')"
      ],
      "metadata": {
        "id": "ePsTJBfInhnS"
      },
      "execution_count": 26,
      "outputs": []
    },
    {
      "cell_type": "code",
      "source": [
        "modelo.summary()"
      ],
      "metadata": {
        "colab": {
          "base_uri": "https://localhost:8080/"
        },
        "id": "6EvOvqMIb2lY",
        "outputId": "6784360f-0ac4-4e41-85a3-1621048381e8"
      },
      "execution_count": null,
      "outputs": [
        {
          "output_type": "stream",
          "name": "stdout",
          "text": [
            "Model: \"sequential\"\n",
            "_________________________________________________________________\n",
            " Layer (type)                Output Shape              Param #   \n",
            "=================================================================\n",
            " lstm (LSTM)                 (None, 100)               40800     \n",
            "                                                                 \n",
            " dense (Dense)               (None, 1)                 101       \n",
            "                                                                 \n",
            "=================================================================\n",
            "Total params: 40901 (159.77 KB)\n",
            "Trainable params: 40901 (159.77 KB)\n",
            "Non-trainable params: 0 (0.00 Byte)\n",
            "_________________________________________________________________\n"
          ]
        }
      ]
    },
    {
      "cell_type": "code",
      "source": [
        "%time modelo.fit(X_train, Y_train, epochs = 100, batch_size = 32, verbose = 1)"
      ],
      "metadata": {
        "colab": {
          "base_uri": "https://localhost:8080/"
        },
        "id": "gSp0qfvbnkQb",
        "outputId": "db3c78f6-4e59-4d4a-853e-824b2b783f5c"
      },
      "execution_count": 27,
      "outputs": [
        {
          "output_type": "stream",
          "name": "stdout",
          "text": [
            "Epoch 1/100\n",
            "2066/2066 [==============================] - 14s 6ms/step - loss: 0.0015\n",
            "Epoch 2/100\n",
            "2066/2066 [==============================] - 12s 6ms/step - loss: 2.1827e-04\n",
            "Epoch 3/100\n",
            "2066/2066 [==============================] - 12s 6ms/step - loss: 1.6034e-04\n",
            "Epoch 4/100\n",
            "2066/2066 [==============================] - 12s 6ms/step - loss: 1.2177e-04\n",
            "Epoch 5/100\n",
            "2066/2066 [==============================] - 12s 6ms/step - loss: 9.1792e-05\n",
            "Epoch 6/100\n",
            "2066/2066 [==============================] - 12s 6ms/step - loss: 8.6261e-05\n",
            "Epoch 7/100\n",
            "2066/2066 [==============================] - 12s 6ms/step - loss: 8.3518e-05\n",
            "Epoch 8/100\n",
            "2066/2066 [==============================] - 12s 6ms/step - loss: 8.2935e-05\n",
            "Epoch 9/100\n",
            "2066/2066 [==============================] - 12s 6ms/step - loss: 8.1744e-05\n",
            "Epoch 10/100\n",
            "2066/2066 [==============================] - 12s 6ms/step - loss: 7.9986e-05\n",
            "Epoch 11/100\n",
            "2066/2066 [==============================] - 12s 6ms/step - loss: 8.0178e-05\n",
            "Epoch 12/100\n",
            "2066/2066 [==============================] - 12s 6ms/step - loss: 8.0609e-05\n",
            "Epoch 13/100\n",
            "2066/2066 [==============================] - 12s 6ms/step - loss: 7.8744e-05\n",
            "Epoch 14/100\n",
            "2066/2066 [==============================] - 12s 6ms/step - loss: 7.8186e-05\n",
            "Epoch 15/100\n",
            "2066/2066 [==============================] - 12s 6ms/step - loss: 7.9975e-05\n",
            "Epoch 16/100\n",
            "2066/2066 [==============================] - 12s 6ms/step - loss: 7.7965e-05\n",
            "Epoch 17/100\n",
            "2066/2066 [==============================] - 12s 6ms/step - loss: 7.7309e-05\n",
            "Epoch 18/100\n",
            "2066/2066 [==============================] - 12s 6ms/step - loss: 7.7828e-05\n",
            "Epoch 19/100\n",
            "2066/2066 [==============================] - 12s 6ms/step - loss: 7.8557e-05\n",
            "Epoch 20/100\n",
            "2066/2066 [==============================] - 12s 6ms/step - loss: 7.7779e-05\n",
            "Epoch 21/100\n",
            "2066/2066 [==============================] - 12s 6ms/step - loss: 7.7576e-05\n",
            "Epoch 22/100\n",
            "2066/2066 [==============================] - 12s 6ms/step - loss: 7.7542e-05\n",
            "Epoch 23/100\n",
            "2066/2066 [==============================] - 12s 6ms/step - loss: 7.6565e-05\n",
            "Epoch 24/100\n",
            "2066/2066 [==============================] - 12s 6ms/step - loss: 7.7059e-05\n",
            "Epoch 25/100\n",
            "2066/2066 [==============================] - 12s 6ms/step - loss: 7.6807e-05\n",
            "Epoch 26/100\n",
            "2066/2066 [==============================] - 12s 6ms/step - loss: 7.7554e-05\n",
            "Epoch 27/100\n",
            "2066/2066 [==============================] - 12s 6ms/step - loss: 7.6891e-05\n",
            "Epoch 28/100\n",
            "2066/2066 [==============================] - 12s 6ms/step - loss: 7.5927e-05\n",
            "Epoch 29/100\n",
            "2066/2066 [==============================] - 12s 6ms/step - loss: 7.6938e-05\n",
            "Epoch 30/100\n",
            "2066/2066 [==============================] - 12s 6ms/step - loss: 7.6955e-05\n",
            "Epoch 31/100\n",
            "2066/2066 [==============================] - 12s 6ms/step - loss: 7.5193e-05\n",
            "Epoch 32/100\n",
            "2066/2066 [==============================] - 12s 6ms/step - loss: 7.5975e-05\n",
            "Epoch 33/100\n",
            "2066/2066 [==============================] - 12s 6ms/step - loss: 7.6418e-05\n",
            "Epoch 34/100\n",
            "2066/2066 [==============================] - 12s 6ms/step - loss: 7.6866e-05\n",
            "Epoch 35/100\n",
            "2066/2066 [==============================] - 12s 6ms/step - loss: 7.5635e-05\n",
            "Epoch 36/100\n",
            "2066/2066 [==============================] - 12s 6ms/step - loss: 7.5305e-05\n",
            "Epoch 37/100\n",
            "2066/2066 [==============================] - 12s 6ms/step - loss: 7.6346e-05\n",
            "Epoch 38/100\n",
            "2066/2066 [==============================] - 12s 6ms/step - loss: 7.5111e-05\n",
            "Epoch 39/100\n",
            "2066/2066 [==============================] - 12s 6ms/step - loss: 7.5929e-05\n",
            "Epoch 40/100\n",
            "2066/2066 [==============================] - 12s 6ms/step - loss: 7.6345e-05\n",
            "Epoch 41/100\n",
            "2066/2066 [==============================] - 12s 6ms/step - loss: 7.5465e-05\n",
            "Epoch 42/100\n",
            "2066/2066 [==============================] - 12s 6ms/step - loss: 7.4581e-05\n",
            "Epoch 43/100\n",
            "2066/2066 [==============================] - 12s 6ms/step - loss: 7.5176e-05\n",
            "Epoch 44/100\n",
            "2066/2066 [==============================] - 12s 6ms/step - loss: 7.5579e-05\n",
            "Epoch 45/100\n",
            "2066/2066 [==============================] - 12s 6ms/step - loss: 7.5134e-05\n",
            "Epoch 46/100\n",
            "2066/2066 [==============================] - 12s 6ms/step - loss: 7.6849e-05\n",
            "Epoch 47/100\n",
            "2066/2066 [==============================] - 12s 6ms/step - loss: 7.4861e-05\n",
            "Epoch 48/100\n",
            "2066/2066 [==============================] - 12s 6ms/step - loss: 7.4506e-05\n",
            "Epoch 49/100\n",
            "2066/2066 [==============================] - 12s 6ms/step - loss: 7.5720e-05\n",
            "Epoch 50/100\n",
            "2066/2066 [==============================] - 12s 6ms/step - loss: 7.5001e-05\n",
            "Epoch 51/100\n",
            "2066/2066 [==============================] - 12s 6ms/step - loss: 7.4807e-05\n",
            "Epoch 52/100\n",
            "2066/2066 [==============================] - 12s 6ms/step - loss: 7.4860e-05\n",
            "Epoch 53/100\n",
            "2066/2066 [==============================] - 12s 6ms/step - loss: 7.4475e-05\n",
            "Epoch 54/100\n",
            "2066/2066 [==============================] - 12s 6ms/step - loss: 7.5185e-05\n",
            "Epoch 55/100\n",
            "2066/2066 [==============================] - 12s 6ms/step - loss: 7.5135e-05\n",
            "Epoch 56/100\n",
            "2066/2066 [==============================] - 12s 6ms/step - loss: 7.4976e-05\n",
            "Epoch 57/100\n",
            "2066/2066 [==============================] - 12s 6ms/step - loss: 7.5298e-05\n",
            "Epoch 58/100\n",
            "2066/2066 [==============================] - 12s 6ms/step - loss: 7.5245e-05\n",
            "Epoch 59/100\n",
            "2066/2066 [==============================] - 12s 6ms/step - loss: 7.4311e-05\n",
            "Epoch 60/100\n",
            "2066/2066 [==============================] - 12s 6ms/step - loss: 7.5037e-05\n",
            "Epoch 61/100\n",
            "2066/2066 [==============================] - 12s 6ms/step - loss: 7.4569e-05\n",
            "Epoch 62/100\n",
            "2066/2066 [==============================] - 12s 6ms/step - loss: 7.5026e-05\n",
            "Epoch 63/100\n",
            "2066/2066 [==============================] - 12s 6ms/step - loss: 7.4778e-05\n",
            "Epoch 64/100\n",
            "2066/2066 [==============================] - 12s 6ms/step - loss: 7.4125e-05\n",
            "Epoch 65/100\n",
            "2066/2066 [==============================] - 12s 6ms/step - loss: 7.4840e-05\n",
            "Epoch 66/100\n",
            "2066/2066 [==============================] - 12s 6ms/step - loss: 7.4522e-05\n",
            "Epoch 67/100\n",
            "2066/2066 [==============================] - 12s 6ms/step - loss: 7.4146e-05\n",
            "Epoch 68/100\n",
            "2066/2066 [==============================] - 12s 6ms/step - loss: 7.4444e-05\n",
            "Epoch 69/100\n",
            "2066/2066 [==============================] - 12s 6ms/step - loss: 7.4703e-05\n",
            "Epoch 70/100\n",
            "2066/2066 [==============================] - 12s 6ms/step - loss: 7.4307e-05\n",
            "Epoch 71/100\n",
            "2066/2066 [==============================] - 12s 6ms/step - loss: 7.5045e-05\n",
            "Epoch 72/100\n",
            "2066/2066 [==============================] - 12s 6ms/step - loss: 7.5156e-05\n",
            "Epoch 73/100\n",
            "2066/2066 [==============================] - 12s 6ms/step - loss: 7.4224e-05\n",
            "Epoch 74/100\n",
            "2066/2066 [==============================] - 12s 6ms/step - loss: 7.4236e-05\n",
            "Epoch 75/100\n",
            "2066/2066 [==============================] - 12s 6ms/step - loss: 7.4367e-05\n",
            "Epoch 76/100\n",
            "2066/2066 [==============================] - 12s 6ms/step - loss: 7.4536e-05\n",
            "Epoch 77/100\n",
            "2066/2066 [==============================] - 12s 6ms/step - loss: 7.4208e-05\n",
            "Epoch 78/100\n",
            "2066/2066 [==============================] - 12s 6ms/step - loss: 7.4323e-05\n",
            "Epoch 79/100\n",
            "2066/2066 [==============================] - 12s 6ms/step - loss: 7.4188e-05\n",
            "Epoch 80/100\n",
            "2066/2066 [==============================] - 12s 6ms/step - loss: 7.4459e-05\n",
            "Epoch 81/100\n",
            "2066/2066 [==============================] - 12s 6ms/step - loss: 7.3943e-05\n",
            "Epoch 82/100\n",
            "2066/2066 [==============================] - 12s 6ms/step - loss: 7.4083e-05\n",
            "Epoch 83/100\n",
            "2066/2066 [==============================] - 12s 6ms/step - loss: 7.4080e-05\n",
            "Epoch 84/100\n",
            "2066/2066 [==============================] - 12s 6ms/step - loss: 7.3924e-05\n",
            "Epoch 85/100\n",
            "2066/2066 [==============================] - 12s 6ms/step - loss: 7.4087e-05\n",
            "Epoch 86/100\n",
            "2066/2066 [==============================] - 12s 6ms/step - loss: 7.4258e-05\n",
            "Epoch 87/100\n",
            "2066/2066 [==============================] - 12s 6ms/step - loss: 7.3754e-05\n",
            "Epoch 88/100\n",
            "2066/2066 [==============================] - 12s 6ms/step - loss: 7.4475e-05\n",
            "Epoch 89/100\n",
            "2066/2066 [==============================] - 12s 6ms/step - loss: 7.4581e-05\n",
            "Epoch 90/100\n",
            "2066/2066 [==============================] - 12s 6ms/step - loss: 7.3484e-05\n",
            "Epoch 91/100\n",
            "2066/2066 [==============================] - 12s 6ms/step - loss: 7.4308e-05\n",
            "Epoch 92/100\n",
            "2066/2066 [==============================] - 12s 6ms/step - loss: 7.3774e-05\n",
            "Epoch 93/100\n",
            "2066/2066 [==============================] - 12s 6ms/step - loss: 7.3486e-05\n",
            "Epoch 94/100\n",
            "2066/2066 [==============================] - 12s 6ms/step - loss: 7.4168e-05\n",
            "Epoch 95/100\n",
            "2066/2066 [==============================] - 12s 6ms/step - loss: 7.4047e-05\n",
            "Epoch 96/100\n",
            "2066/2066 [==============================] - 12s 6ms/step - loss: 7.4175e-05\n",
            "Epoch 97/100\n",
            "2066/2066 [==============================] - 12s 6ms/step - loss: 7.4717e-05\n",
            "Epoch 98/100\n",
            "2066/2066 [==============================] - 12s 6ms/step - loss: 7.4088e-05\n",
            "Epoch 99/100\n",
            "2066/2066 [==============================] - 12s 6ms/step - loss: 7.4302e-05\n",
            "Epoch 100/100\n",
            "2066/2066 [==============================] - 12s 6ms/step - loss: 7.4518e-05\n",
            "CPU times: user 24min 44s, sys: 1min 57s, total: 26min 41s\n",
            "Wall time: 19min 41s\n"
          ]
        },
        {
          "output_type": "execute_result",
          "data": {
            "text/plain": [
              "<keras.src.callbacks.History at 0x7f6f75830d00>"
            ]
          },
          "metadata": {},
          "execution_count": 27
        }
      ]
    },
    {
      "cell_type": "code",
      "source": [
        "x_test = valid_ds.values\n",
        "x_test = scaler_train.transform(x_test)"
      ],
      "metadata": {
        "id": "APJOJ7ne8wXJ"
      },
      "execution_count": 28,
      "outputs": []
    },
    {
      "cell_type": "code",
      "source": [
        "X_test = []\n",
        "for i in range(time_step,len(x_test)):\n",
        "    X_test.append(x_test[i-time_step:i,0])\n",
        "\n",
        "X_test = np.array( X_test )\n",
        "X_test = np.reshape(X_test, (X_test.shape[0],X_test.shape[1],1))"
      ],
      "metadata": {
        "id": "naFlwFRY86tF"
      },
      "execution_count": 29,
      "outputs": []
    },
    {
      "cell_type": "code",
      "source": [
        "X_test.shape, valid_ds.shape"
      ],
      "metadata": {
        "colab": {
          "base_uri": "https://localhost:8080/"
        },
        "id": "n7n2PoxEn2Dl",
        "outputId": "65684671-9cd6-49c5-db70-b8c93aba8ea1"
      },
      "execution_count": 30,
      "outputs": [
        {
          "output_type": "execute_result",
          "data": {
            "text/plain": [
              "((38821, 100, 1), (38921, 1))"
            ]
          },
          "metadata": {},
          "execution_count": 30
        }
      ]
    },
    {
      "cell_type": "code",
      "source": [
        "prediccion = modelo.predict(X_test)\n",
        "prediccion = scaler_train.inverse_transform(prediccion)"
      ],
      "metadata": {
        "colab": {
          "base_uri": "https://localhost:8080/"
        },
        "id": "mjXfpjrBn2BK",
        "outputId": "b3a5a472-4a68-4706-a645-e16f1e2c4a25"
      },
      "execution_count": 31,
      "outputs": [
        {
          "output_type": "stream",
          "name": "stdout",
          "text": [
            "1214/1214 [==============================] - 4s 3ms/step\n"
          ]
        }
      ]
    },
    {
      "cell_type": "code",
      "source": [
        "df_prediccion = pd.DataFrame(prediccion, index=valid_ds.index[time_step:], columns=['High'])"
      ],
      "metadata": {
        "id": "QPhG2o7An1-7"
      },
      "execution_count": 32,
      "outputs": []
    },
    {
      "cell_type": "code",
      "source": [
        "df_prediccion['High'][0]"
      ],
      "metadata": {
        "colab": {
          "base_uri": "https://localhost:8080/"
        },
        "id": "ltvvWjp2n--C",
        "outputId": "670f064b-63c6-4ef9-a862-17cc391a586c"
      },
      "execution_count": 33,
      "outputs": [
        {
          "output_type": "execute_result",
          "data": {
            "text/plain": [
              "2287.4873"
            ]
          },
          "metadata": {},
          "execution_count": 33
        }
      ]
    },
    {
      "cell_type": "code",
      "source": [
        "fig=plt.figure(figsize=(50,3))\n",
        "\n",
        "ax1 = fig.add_subplot(1,3,1)\n",
        "ax1.set_title(\"Predicción\\nHIGH\")\n",
        "ax1.plot( valid_ds.high, marker = '+', linewidth = 0 )\n",
        "ax1.plot( df_prediccion['High'], marker = '.', linewidth = 0 )\n",
        "plt.legend(['real','prediccion'])\n",
        "plt.grid(True)\n",
        "plt.show()"
      ],
      "metadata": {
        "colab": {
          "base_uri": "https://localhost:8080/",
          "height": 334
        },
        "id": "p5EWCaydoBZN",
        "outputId": "d315203b-9d64-43b3-ffb7-93f2d8b4b713"
      },
      "execution_count": 34,
      "outputs": [
        {
          "output_type": "display_data",
          "data": {
            "text/plain": [
              "<Figure size 5000x300 with 1 Axes>"
            ],
            "image/png": "[encoded data removed]"
          },
          "metadata": {}
        }
      ]
    },
    {
      "cell_type": "code",
      "source": [
        "fig, ax = plt.subplots(figsize=(10, 6))\n",
        "# Graficar los datos de train_ds\n",
        "ax.plot(train_ds.index, train_ds.high, label='Train Data', marker='+', linestyle='-', color='blue')\n",
        "# Graficar los datos de valid_ds\n",
        "ax.plot(valid_ds.index, valid_ds.high, label='Validacion', marker='.', linestyle='-', color='red')\n",
        "# Graficar los datos de df_prediccion\n",
        "ax.plot(df_prediccion.index, df_prediccion['High'], label='Predicción', marker='.', linestyle='-', color='orange')\n",
        "\n",
        "ax.set_title('Datos de Entrenamiento, Validacion y Predicción')\n",
        "ax.legend()\n",
        "ax.grid(True)\n",
        "plt.show()"
      ],
      "metadata": {
        "colab": {
          "base_uri": "https://localhost:8080/",
          "height": 545
        },
        "id": "5kM3HFRqjjgX",
        "outputId": "62f18d35-e42f-4a59-a407-05a35ee5d38e"
      },
      "execution_count": 35,
      "outputs": [
        {
          "output_type": "display_data",
          "data": {
            "text/plain": [
              "<Figure size 1000x600 with 1 Axes>"
            ],
            "image/png": "[encoded data removed]"
          },
          "metadata": {}
        }
      ]
    },
    {
      "cell_type": "code",
      "source": [
        "maximo = None\n",
        "minimo_valor = None\n",
        "for i in range(df_prediccion.shape[0]):\n",
        "  diferencia = np.abs(valid_ds.high[i+time_step] - df_prediccion['High'][i])\n",
        "  if( maximo == None ):\n",
        "    maximo = diferencia\n",
        "    minimo_valor = diferencia\n",
        "  else:\n",
        "    if diferencia  > maximo:\n",
        "      maximo = diferencia\n",
        "    else:\n",
        "      if diferencia  < minimo_valor:\n",
        "        minimo_valor = diferencia\n",
        "\n",
        "print(\"La diferencia máxima es \",maximo)\n",
        "print(\"La diferencia mínima es \",minimo_valor)"
      ],
      "metadata": {
        "colab": {
          "base_uri": "https://localhost:8080/"
        },
        "id": "eAbRIHXdoIys",
        "outputId": "169f643a-46d6-45ab-e317-c9aefcf25ad6"
      },
      "execution_count": 36,
      "outputs": [
        {
          "output_type": "stream",
          "name": "stdout",
          "text": [
            "La diferencia máxima es  1104.289873046875\n",
            "La diferencia mínima es  0.0002832031250363798\n"
          ]
        }
      ]
    },
    {
      "cell_type": "code",
      "source": [
        "modelo.save(\"/content/drive/My Drive/PrediccionCriptos/modelo_final_v2.h5\")"
      ],
      "metadata": {
        "id": "UB3ojO2ZpVpg"
      },
      "execution_count": 37,
      "outputs": []
    },
    {
      "cell_type": "code",
      "source": [],
      "metadata": {
        "id": "62y182bOpv9-"
      },
      "execution_count": 37,
      "outputs": []
    }
  ]
}