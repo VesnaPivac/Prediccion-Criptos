{
  "nbformat": 4,
  "nbformat_minor": 0,
  "metadata": {
    "colab": {
      "provenance": [],
      "machine_shape": "hm",
      "gpuType": "L4"
    },
    "kernelspec": {
      "name": "python3",
      "display_name": "Python 3"
    },
    "language_info": {
      "name": "python"
    },
    "accelerator": "GPU"
  },
  "cells": [
    {
      "cell_type": "markdown",
      "source": [
        "# Predicción de Criptomonedas: Ethereum\n",
        "\n",
        "\n",
        "\n",
        "\n",
        "\n",
        "\n",
        "\n",
        "Autor: Vesna Camile Pivac Alcaraz\n",
        "\n",
        "Curso: Redes Neuronales Profundas\n",
        "\n",
        "Programa: Maestria en Ciencia de Datos"
      ],
      "metadata": {
        "id": "dBOmrDwEs4xk"
      }
    },
    {
      "cell_type": "code",
      "source": [
        "import os\n",
        "import pandas as pd\n",
        "import numpy as np\n",
        "import seaborn as sns\n",
        "import matplotlib.pyplot as plt\n",
        "\n",
        "import tensorflow as tf\n",
        "from tensorflow import keras\n",
        "\n",
        "from sklearn.preprocessing import MinMaxScaler,  RobustScaler\n",
        "\n",
        "from keras.models import Sequential\n",
        "from keras.layers import LSTM, Dense\n",
        "\n",
        "import warnings\n",
        "warnings.filterwarnings(\"ignore\")\n",
        "\n",
        "from datetime import datetime, timedelta\n",
        "import time\n"
      ],
      "metadata": {
        "id": "c2C8oEiwMygw"
      },
      "execution_count": 1,
      "outputs": []
    },
    {
      "cell_type": "markdown",
      "source": [
        "# Descarga de datos"
      ],
      "metadata": {
        "id": "vjifkuLHKwUq"
      }
    },
    {
      "cell_type": "code",
      "source": [
        "from google.colab import drive\n",
        "drive.mount('/content/drive')"
      ],
      "metadata": {
        "id": "_eINRAiIY7hp",
        "colab": {
          "base_uri": "https://localhost:8080/"
        },
        "outputId": "e06becac-7e37-40a4-b25e-ea5f445fdc9d"
      },
      "execution_count": 2,
      "outputs": [
        {
          "output_type": "stream",
          "name": "stdout",
          "text": [
            "Mounted at /content/drive\n"
          ]
        }
      ]
    },
    {
      "cell_type": "code",
      "source": [
        "carpeta = '/content/drive/My Drive/PrediccionCriptos'\n",
        "archivos = os.listdir(carpeta)\n",
        "print(archivos)"
      ],
      "metadata": {
        "colab": {
          "base_uri": "https://localhost:8080/"
        },
        "id": "G8IUA0g3bC7K",
        "outputId": "78c84211-83c3-492e-d8fe-315a71fde961"
      },
      "execution_count": 3,
      "outputs": [
        {
          "output_type": "stream",
          "name": "stdout",
          "text": [
            "['ETH-1-Year-5min.parquet', 'ETH-1-Year-5min.csv', 'modelo_final.h5', 'PredecirCriptoFinal.ipynb']\n"
          ]
        }
      ]
    },
    {
      "cell_type": "code",
      "source": [
        "# Error en los datos al convertir a parquet por lo que se cambio el formato a csv\n",
        "# data_path = '/content/drive/My Drive/PrediccionCriptos/ETH-1-Year-5min.parquet'\n",
        "# eth_df = pd.read_parquet(data_path)\n",
        "\n",
        "data_path = '/content/drive/My Drive/PrediccionCriptos/ETH-1-Year-5min.csv'\n",
        "eth_df = pd.read_csv(data_path)\n",
        "eth_df.shape"
      ],
      "metadata": {
        "colab": {
          "base_uri": "https://localhost:8080/"
        },
        "id": "uFrpYRKMcKkT",
        "outputId": "fd8a76f7-f691-498d-9a62-68c7ac384822"
      },
      "execution_count": 38,
      "outputs": [
        {
          "output_type": "execute_result",
          "data": {
            "text/plain": [
              "(105120, 6)"
            ]
          },
          "metadata": {},
          "execution_count": 38
        }
      ]
    },
    {
      "cell_type": "markdown",
      "source": [
        "# Preprocesamiento"
      ],
      "metadata": {
        "id": "D5BOwWiMK6FO"
      }
    },
    {
      "cell_type": "code",
      "source": [
        "eth_df['timestamp'] = pd.to_datetime(eth_df['timestamp'])\n",
        "eth_df.set_index('timestamp', inplace=True)"
      ],
      "metadata": {
        "id": "SNL8jl52l_jO"
      },
      "execution_count": 39,
      "outputs": []
    },
    {
      "cell_type": "code",
      "source": [
        "eth_df.head()"
      ],
      "metadata": {
        "colab": {
          "base_uri": "https://localhost:8080/",
          "height": 237
        },
        "id": "kvnA5MbgcY4j",
        "outputId": "c4dcb8af-d173-4e38-987d-624ca95a43ef"
      },
      "execution_count": 40,
      "outputs": [
        {
          "output_type": "execute_result",
          "data": {
            "text/plain": [
              "                        open     high      low    close     volume\n",
              "timestamp                                                         \n",
              "2023-05-16 03:25:00  1811.51  1812.60  1811.28  1812.36   413.6284\n",
              "2023-05-16 03:30:00  1812.35  1812.91  1811.00  1812.23   618.8581\n",
              "2023-05-16 03:35:00  1812.24  1813.99  1812.03  1812.85  1165.6089\n",
              "2023-05-16 03:40:00  1812.85  1814.30  1812.60  1812.77   896.9234\n",
              "2023-05-16 03:45:00  1812.77  1812.97  1812.38  1812.38   420.9102"
            ],
            "text/html": [
              "\n",
              "  <div id=\"df-6a8e571b-59fc-4169-9d3f-79cf3c755db7\" class=\"colab-df-container\">\n",
              "    <div>\n",
              "<style scoped>\n",
              "    .dataframe tbody tr th:only-of-type {\n",
              "        vertical-align: middle;\n",
              "    }\n",
              "\n",
              "    .dataframe tbody tr th {\n",
              "        vertical-align: top;\n",
              "    }\n",
              "\n",
              "    .dataframe thead th {\n",
              "        text-align: right;\n",
              "    }\n",
              "</style>\n",
              "<table border=\"1\" class=\"dataframe\">\n",
              "  <thead>\n",
              "    <tr style=\"text-align: right;\">\n",
              "      <th></th>\n",
              "      <th>open</th>\n",
              "      <th>high</th>\n",
              "      <th>low</th>\n",
              "      <th>close</th>\n",
              "      <th>volume</th>\n",
              "    </tr>\n",
              "    <tr>\n",
              "      <th>timestamp</th>\n",
              "      <th></th>\n",
              "      <th></th>\n",
              "      <th></th>\n",
              "      <th></th>\n",
              "      <th></th>\n",
              "    </tr>\n",
              "  </thead>\n",
              "  <tbody>\n",
              "    <tr>\n",
              "      <th>2023-05-16 03:25:00</th>\n",
              "      <td>1811.51</td>\n",
              "      <td>1812.60</td>\n",
              "      <td>1811.28</td>\n",
              "      <td>1812.36</td>\n",
              "      <td>413.6284</td>\n",
              "    </tr>\n",
              "    <tr>\n",
              "      <th>2023-05-16 03:30:00</th>\n",
              "      <td>1812.35</td>\n",
              "      <td>1812.91</td>\n",
              "      <td>1811.00</td>\n",
              "      <td>1812.23</td>\n",
              "      <td>618.8581</td>\n",
              "    </tr>\n",
              "    <tr>\n",
              "      <th>2023-05-16 03:35:00</th>\n",
              "      <td>1812.24</td>\n",
              "      <td>1813.99</td>\n",
              "      <td>1812.03</td>\n",
              "      <td>1812.85</td>\n",
              "      <td>1165.6089</td>\n",
              "    </tr>\n",
              "    <tr>\n",
              "      <th>2023-05-16 03:40:00</th>\n",
              "      <td>1812.85</td>\n",
              "      <td>1814.30</td>\n",
              "      <td>1812.60</td>\n",
              "      <td>1812.77</td>\n",
              "      <td>896.9234</td>\n",
              "    </tr>\n",
              "    <tr>\n",
              "      <th>2023-05-16 03:45:00</th>\n",
              "      <td>1812.77</td>\n",
              "      <td>1812.97</td>\n",
              "      <td>1812.38</td>\n",
              "      <td>1812.38</td>\n",
              "      <td>420.9102</td>\n",
              "    </tr>\n",
              "  </tbody>\n",
              "</table>\n",
              "</div>\n",
              "    <div class=\"colab-df-buttons\">\n",
              "\n",
              "  <div class=\"colab-df-container\">\n",
              "    <button class=\"colab-df-convert\" onclick=\"convertToInteractive('df-6a8e571b-59fc-4169-9d3f-79cf3c755db7')\"\n",
              "            title=\"Convert this dataframe to an interactive table.\"\n",
              "            style=\"display:none;\">\n",
              "\n",
              "  <svg xmlns=\"http://www.w3.org/2000/svg\" height=\"24px\" viewBox=\"0 -960 960 960\">\n",
              "    <path d=\"M120-120v-720h720v720H120Zm60-500h600v-160H180v160Zm220 220h160v-160H400v160Zm0 220h160v-160H400v160ZM180-400h160v-160H180v160Zm440 0h160v-160H620v160ZM180-180h160v-160H180v160Zm440 0h160v-160H620v160Z\"/>\n",
              "  </svg>\n",
              "    </button>\n",
              "\n",
              "  <style>\n",
              "    .colab-df-container {\n",
              "      display:flex;\n",
              "      gap: 12px;\n",
              "    }\n",
              "\n",
              "    .colab-df-convert {\n",
              "      background-color: #E8F0FE;\n",
              "      border: none;\n",
              "      border-radius: 50%;\n",
              "      cursor: pointer;\n",
              "      display: none;\n",
              "      fill: #1967D2;\n",
              "      height: 32px;\n",
              "      padding: 0 0 0 0;\n",
              "      width: 32px;\n",
              "    }\n",
              "\n",
              "    .colab-df-convert:hover {\n",
              "      background-color: #E2EBFA;\n",
              "      box-shadow: 0px 1px 2px rgba(60, 64, 67, 0.3), 0px 1px 3px 1px rgba(60, 64, 67, 0.15);\n",
              "      fill: #174EA6;\n",
              "    }\n",
              "\n",
              "    .colab-df-buttons div {\n",
              "      margin-bottom: 4px;\n",
              "    }\n",
              "\n",
              "    [theme=dark] .colab-df-convert {\n",
              "      background-color: #3B4455;\n",
              "      fill: #D2E3FC;\n",
              "    }\n",
              "\n",
              "    [theme=dark] .colab-df-convert:hover {\n",
              "      background-color: #434B5C;\n",
              "      box-shadow: 0px 1px 3px 1px rgba(0, 0, 0, 0.15);\n",
              "      filter: drop-shadow(0px 1px 2px rgba(0, 0, 0, 0.3));\n",
              "      fill: #FFFFFF;\n",
              "    }\n",
              "  </style>\n",
              "\n",
              "    <script>\n",
              "      const buttonEl =\n",
              "        document.querySelector('#df-6a8e571b-59fc-4169-9d3f-79cf3c755db7 button.colab-df-convert');\n",
              "      buttonEl.style.display =\n",
              "        google.colab.kernel.accessAllowed ? 'block' : 'none';\n",
              "\n",
              "      async function convertToInteractive(key) {\n",
              "        const element = document.querySelector('#df-6a8e571b-59fc-4169-9d3f-79cf3c755db7');\n",
              "        const dataTable =\n",
              "          await google.colab.kernel.invokeFunction('convertToInteractive',\n",
              "                                                    [key], {});\n",
              "        if (!dataTable) return;\n",
              "\n",
              "        const docLinkHtml = 'Like what you see? Visit the ' +\n",
              "          '<a target=\"_blank\" href=https://colab.research.google.com/notebooks/data_table.ipynb>data table notebook</a>'\n",
              "          + ' to learn more about interactive tables.';\n",
              "        element.innerHTML = '';\n",
              "        dataTable['output_type'] = 'display_data';\n",
              "        await google.colab.output.renderOutput(dataTable, element);\n",
              "        const docLink = document.createElement('div');\n",
              "        docLink.innerHTML = docLinkHtml;\n",
              "        element.appendChild(docLink);\n",
              "      }\n",
              "    </script>\n",
              "  </div>\n",
              "\n",
              "\n",
              "<div id=\"df-1d97cbaa-7547-475f-a6a0-a4ddfb8bc51f\">\n",
              "  <button class=\"colab-df-quickchart\" onclick=\"quickchart('df-1d97cbaa-7547-475f-a6a0-a4ddfb8bc51f')\"\n",
              "            title=\"Suggest charts\"\n",
              "            style=\"display:none;\">\n",
              "\n",
              "<svg xmlns=\"http://www.w3.org/2000/svg\" height=\"24px\"viewBox=\"0 0 24 24\"\n",
              "     width=\"24px\">\n",
              "    <g>\n",
              "        <path d=\"M19 3H5c-1.1 0-2 .9-2 2v14c0 1.1.9 2 2 2h14c1.1 0 2-.9 2-2V5c0-1.1-.9-2-2-2zM9 17H7v-7h2v7zm4 0h-2V7h2v10zm4 0h-2v-4h2v4z\"/>\n",
              "    </g>\n",
              "</svg>\n",
              "  </button>\n",
              "\n",
              "<style>\n",
              "  .colab-df-quickchart {\n",
              "      --bg-color: #E8F0FE;\n",
              "      --fill-color: #1967D2;\n",
              "      --hover-bg-color: #E2EBFA;\n",
              "      --hover-fill-color: #174EA6;\n",
              "      --disabled-fill-color: #AAA;\n",
              "      --disabled-bg-color: #DDD;\n",
              "  }\n",
              "\n",
              "  [theme=dark] .colab-df-quickchart {\n",
              "      --bg-color: #3B4455;\n",
              "      --fill-color: #D2E3FC;\n",
              "      --hover-bg-color: #434B5C;\n",
              "      --hover-fill-color: #FFFFFF;\n",
              "      --disabled-bg-color: #3B4455;\n",
              "      --disabled-fill-color: #666;\n",
              "  }\n",
              "\n",
              "  .colab-df-quickchart {\n",
              "    background-color: var(--bg-color);\n",
              "    border: none;\n",
              "    border-radius: 50%;\n",
              "    cursor: pointer;\n",
              "    display: none;\n",
              "    fill: var(--fill-color);\n",
              "    height: 32px;\n",
              "    padding: 0;\n",
              "    width: 32px;\n",
              "  }\n",
              "\n",
              "  .colab-df-quickchart:hover {\n",
              "    background-color: var(--hover-bg-color);\n",
              "    box-shadow: 0 1px 2px rgba(60, 64, 67, 0.3), 0 1px 3px 1px rgba(60, 64, 67, 0.15);\n",
              "    fill: var(--button-hover-fill-color);\n",
              "  }\n",
              "\n",
              "  .colab-df-quickchart-complete:disabled,\n",
              "  .colab-df-quickchart-complete:disabled:hover {\n",
              "    background-color: var(--disabled-bg-color);\n",
              "    fill: var(--disabled-fill-color);\n",
              "    box-shadow: none;\n",
              "  }\n",
              "\n",
              "  .colab-df-spinner {\n",
              "    border: 2px solid var(--fill-color);\n",
              "    border-color: transparent;\n",
              "    border-bottom-color: var(--fill-color);\n",
              "    animation:\n",
              "      spin 1s steps(1) infinite;\n",
              "  }\n",
              "\n",
              "  @keyframes spin {\n",
              "    0% {\n",
              "      border-color: transparent;\n",
              "      border-bottom-color: var(--fill-color);\n",
              "      border-left-color: var(--fill-color);\n",
              "    }\n",
              "    20% {\n",
              "      border-color: transparent;\n",
              "      border-left-color: var(--fill-color);\n",
              "      border-top-color: var(--fill-color);\n",
              "    }\n",
              "    30% {\n",
              "      border-color: transparent;\n",
              "      border-left-color: var(--fill-color);\n",
              "      border-top-color: var(--fill-color);\n",
              "      border-right-color: var(--fill-color);\n",
              "    }\n",
              "    40% {\n",
              "      border-color: transparent;\n",
              "      border-right-color: var(--fill-color);\n",
              "      border-top-color: var(--fill-color);\n",
              "    }\n",
              "    60% {\n",
              "      border-color: transparent;\n",
              "      border-right-color: var(--fill-color);\n",
              "    }\n",
              "    80% {\n",
              "      border-color: transparent;\n",
              "      border-right-color: var(--fill-color);\n",
              "      border-bottom-color: var(--fill-color);\n",
              "    }\n",
              "    90% {\n",
              "      border-color: transparent;\n",
              "      border-bottom-color: var(--fill-color);\n",
              "    }\n",
              "  }\n",
              "</style>\n",
              "\n",
              "  <script>\n",
              "    async function quickchart(key) {\n",
              "      const quickchartButtonEl =\n",
              "        document.querySelector('#' + key + ' button');\n",
              "      quickchartButtonEl.disabled = true;  // To prevent multiple clicks.\n",
              "      quickchartButtonEl.classList.add('colab-df-spinner');\n",
              "      try {\n",
              "        const charts = await google.colab.kernel.invokeFunction(\n",
              "            'suggestCharts', [key], {});\n",
              "      } catch (error) {\n",
              "        console.error('Error during call to suggestCharts:', error);\n",
              "      }\n",
              "      quickchartButtonEl.classList.remove('colab-df-spinner');\n",
              "      quickchartButtonEl.classList.add('colab-df-quickchart-complete');\n",
              "    }\n",
              "    (() => {\n",
              "      let quickchartButtonEl =\n",
              "        document.querySelector('#df-1d97cbaa-7547-475f-a6a0-a4ddfb8bc51f button');\n",
              "      quickchartButtonEl.style.display =\n",
              "        google.colab.kernel.accessAllowed ? 'block' : 'none';\n",
              "    })();\n",
              "  </script>\n",
              "</div>\n",
              "\n",
              "    </div>\n",
              "  </div>\n"
            ],
            "application/vnd.google.colaboratory.intrinsic+json": {
              "type": "dataframe",
              "variable_name": "eth_df"
            }
          },
          "metadata": {},
          "execution_count": 40
        }
      ]
    },
    {
      "cell_type": "markdown",
      "source": [
        "# Visualización de dataset"
      ],
      "metadata": {
        "id": "LQCelc1WK8eC"
      }
    },
    {
      "cell_type": "code",
      "source": [
        "fig=plt.figure(figsize=(50,3))\n",
        "\n",
        "ax1 = fig.add_subplot(1,3,1)\n",
        "ax1.set_title(\"Dataset completo\\nOpen\")\n",
        "ax1.plot(eth_df.high,marker='.',linewidth=0)\n",
        "plt.grid(True)\n",
        "plt.show()"
      ],
      "metadata": {
        "colab": {
          "base_uri": "https://localhost:8080/",
          "height": 334
        },
        "id": "6cotIjE7c3x2",
        "outputId": "4f4f1b9f-16b0-4261-9997-ccb757efae4a"
      },
      "execution_count": 41,
      "outputs": [
        {
          "output_type": "display_data",
          "data": {
            "text/plain": [
              "<Figure size 5000x300 with 1 Axes>"
            ],
            "image/png": "[encoded data removed]"
          },
          "metadata": {}
        }
      ]
    },
    {
      "cell_type": "code",
      "source": [
        "eth_df.describe()"
      ],
      "metadata": {
        "colab": {
          "base_uri": "https://localhost:8080/",
          "height": 300
        },
        "id": "0x-lWVaxdhQs",
        "outputId": "bf7368a7-9ced-4e89-c1a5-1a6c88b7cf21"
      },
      "execution_count": 42,
      "outputs": [
        {
          "output_type": "execute_result",
          "data": {
            "text/plain": [
              "                open           high            low          close  \\\n",
              "count  105120.000000  105120.000000  105120.000000  105120.000000   \n",
              "mean     2278.030550    2280.185491    2275.757571    2278.040851   \n",
              "std       653.151755     654.492014     651.707450     653.152930   \n",
              "min      1524.220000    1526.760000    1521.000000    1524.220000   \n",
              "25%      1809.800000    1810.905000    1808.565000    1809.790000   \n",
              "50%      2006.190000    2007.990000    2004.085000    2006.240000   \n",
              "75%      2660.600000    2664.595000    2656.732500    2660.697500   \n",
              "max      4091.810000    4093.920000    4085.720000    4091.810000   \n",
              "\n",
              "              volume  \n",
              "count  105120.000000  \n",
              "mean     1207.255362  \n",
              "std      1743.006238  \n",
              "min        30.746300  \n",
              "25%       403.680200  \n",
              "50%       721.216900  \n",
              "75%      1329.880475  \n",
              "max     52372.648700  "
            ],
            "text/html": [
              "\n",
              "  <div id=\"df-3d5fc7a2-734f-4192-b366-68072313b8e6\" class=\"colab-df-container\">\n",
              "    <div>\n",
              "<style scoped>\n",
              "    .dataframe tbody tr th:only-of-type {\n",
              "        vertical-align: middle;\n",
              "    }\n",
              "\n",
              "    .dataframe tbody tr th {\n",
              "        vertical-align: top;\n",
              "    }\n",
              "\n",
              "    .dataframe thead th {\n",
              "        text-align: right;\n",
              "    }\n",
              "</style>\n",
              "<table border=\"1\" class=\"dataframe\">\n",
              "  <thead>\n",
              "    <tr style=\"text-align: right;\">\n",
              "      <th></th>\n",
              "      <th>open</th>\n",
              "      <th>high</th>\n",
              "      <th>low</th>\n",
              "      <th>close</th>\n",
              "      <th>volume</th>\n",
              "    </tr>\n",
              "  </thead>\n",
              "  <tbody>\n",
              "    <tr>\n",
              "      <th>count</th>\n",
              "      <td>105120.000000</td>\n",
              "      <td>105120.000000</td>\n",
              "      <td>105120.000000</td>\n",
              "      <td>105120.000000</td>\n",
              "      <td>105120.000000</td>\n",
              "    </tr>\n",
              "    <tr>\n",
              "      <th>mean</th>\n",
              "      <td>2278.030550</td>\n",
              "      <td>2280.185491</td>\n",
              "      <td>2275.757571</td>\n",
              "      <td>2278.040851</td>\n",
              "      <td>1207.255362</td>\n",
              "    </tr>\n",
              "    <tr>\n",
              "      <th>std</th>\n",
              "      <td>653.151755</td>\n",
              "      <td>654.492014</td>\n",
              "      <td>651.707450</td>\n",
              "      <td>653.152930</td>\n",
              "      <td>1743.006238</td>\n",
              "    </tr>\n",
              "    <tr>\n",
              "      <th>min</th>\n",
              "      <td>1524.220000</td>\n",
              "      <td>1526.760000</td>\n",
              "      <td>1521.000000</td>\n",
              "      <td>1524.220000</td>\n",
              "      <td>30.746300</td>\n",
              "    </tr>\n",
              "    <tr>\n",
              "      <th>25%</th>\n",
              "      <td>1809.800000</td>\n",
              "      <td>1810.905000</td>\n",
              "      <td>1808.565000</td>\n",
              "      <td>1809.790000</td>\n",
              "      <td>403.680200</td>\n",
              "    </tr>\n",
              "    <tr>\n",
              "      <th>50%</th>\n",
              "      <td>2006.190000</td>\n",
              "      <td>2007.990000</td>\n",
              "      <td>2004.085000</td>\n",
              "      <td>2006.240000</td>\n",
              "      <td>721.216900</td>\n",
              "    </tr>\n",
              "    <tr>\n",
              "      <th>75%</th>\n",
              "      <td>2660.600000</td>\n",
              "      <td>2664.595000</td>\n",
              "      <td>2656.732500</td>\n",
              "      <td>2660.697500</td>\n",
              "      <td>1329.880475</td>\n",
              "    </tr>\n",
              "    <tr>\n",
              "      <th>max</th>\n",
              "      <td>4091.810000</td>\n",
              "      <td>4093.920000</td>\n",
              "      <td>4085.720000</td>\n",
              "      <td>4091.810000</td>\n",
              "      <td>52372.648700</td>\n",
              "    </tr>\n",
              "  </tbody>\n",
              "</table>\n",
              "</div>\n",
              "    <div class=\"colab-df-buttons\">\n",
              "\n",
              "  <div class=\"colab-df-container\">\n",
              "    <button class=\"colab-df-convert\" onclick=\"convertToInteractive('df-3d5fc7a2-734f-4192-b366-68072313b8e6')\"\n",
              "            title=\"Convert this dataframe to an interactive table.\"\n",
              "            style=\"display:none;\">\n",
              "\n",
              "  <svg xmlns=\"http://www.w3.org/2000/svg\" height=\"24px\" viewBox=\"0 -960 960 960\">\n",
              "    <path d=\"M120-120v-720h720v720H120Zm60-500h600v-160H180v160Zm220 220h160v-160H400v160Zm0 220h160v-160H400v160ZM180-400h160v-160H180v160Zm440 0h160v-160H620v160ZM180-180h160v-160H180v160Zm440 0h160v-160H620v160Z\"/>\n",
              "  </svg>\n",
              "    </button>\n",
              "\n",
              "  <style>\n",
              "    .colab-df-container {\n",
              "      display:flex;\n",
              "      gap: 12px;\n",
              "    }\n",
              "\n",
              "    .colab-df-convert {\n",
              "      background-color: #E8F0FE;\n",
              "      border: none;\n",
              "      border-radius: 50%;\n",
              "      cursor: pointer;\n",
              "      display: none;\n",
              "      fill: #1967D2;\n",
              "      height: 32px;\n",
              "      padding: 0 0 0 0;\n",
              "      width: 32px;\n",
              "    }\n",
              "\n",
              "    .colab-df-convert:hover {\n",
              "      background-color: #E2EBFA;\n",
              "      box-shadow: 0px 1px 2px rgba(60, 64, 67, 0.3), 0px 1px 3px 1px rgba(60, 64, 67, 0.15);\n",
              "      fill: #174EA6;\n",
              "    }\n",
              "\n",
              "    .colab-df-buttons div {\n",
              "      margin-bottom: 4px;\n",
              "    }\n",
              "\n",
              "    [theme=dark] .colab-df-convert {\n",
              "      background-color: #3B4455;\n",
              "      fill: #D2E3FC;\n",
              "    }\n",
              "\n",
              "    [theme=dark] .colab-df-convert:hover {\n",
              "      background-color: #434B5C;\n",
              "      box-shadow: 0px 1px 3px 1px rgba(0, 0, 0, 0.15);\n",
              "      filter: drop-shadow(0px 1px 2px rgba(0, 0, 0, 0.3));\n",
              "      fill: #FFFFFF;\n",
              "    }\n",
              "  </style>\n",
              "\n",
              "    <script>\n",
              "      const buttonEl =\n",
              "        document.querySelector('#df-3d5fc7a2-734f-4192-b366-68072313b8e6 button.colab-df-convert');\n",
              "      buttonEl.style.display =\n",
              "        google.colab.kernel.accessAllowed ? 'block' : 'none';\n",
              "\n",
              "      async function convertToInteractive(key) {\n",
              "        const element = document.querySelector('#df-3d5fc7a2-734f-4192-b366-68072313b8e6');\n",
              "        const dataTable =\n",
              "          await google.colab.kernel.invokeFunction('convertToInteractive',\n",
              "                                                    [key], {});\n",
              "        if (!dataTable) return;\n",
              "\n",
              "        const docLinkHtml = 'Like what you see? Visit the ' +\n",
              "          '<a target=\"_blank\" href=https://colab.research.google.com/notebooks/data_table.ipynb>data table notebook</a>'\n",
              "          + ' to learn more about interactive tables.';\n",
              "        element.innerHTML = '';\n",
              "        dataTable['output_type'] = 'display_data';\n",
              "        await google.colab.output.renderOutput(dataTable, element);\n",
              "        const docLink = document.createElement('div');\n",
              "        docLink.innerHTML = docLinkHtml;\n",
              "        element.appendChild(docLink);\n",
              "      }\n",
              "    </script>\n",
              "  </div>\n",
              "\n",
              "\n",
              "<div id=\"df-4506d550-53f5-4df8-b28c-707cc38bdb41\">\n",
              "  <button class=\"colab-df-quickchart\" onclick=\"quickchart('df-4506d550-53f5-4df8-b28c-707cc38bdb41')\"\n",
              "            title=\"Suggest charts\"\n",
              "            style=\"display:none;\">\n",
              "\n",
              "<svg xmlns=\"http://www.w3.org/2000/svg\" height=\"24px\"viewBox=\"0 0 24 24\"\n",
              "     width=\"24px\">\n",
              "    <g>\n",
              "        <path d=\"M19 3H5c-1.1 0-2 .9-2 2v14c0 1.1.9 2 2 2h14c1.1 0 2-.9 2-2V5c0-1.1-.9-2-2-2zM9 17H7v-7h2v7zm4 0h-2V7h2v10zm4 0h-2v-4h2v4z\"/>\n",
              "    </g>\n",
              "</svg>\n",
              "  </button>\n",
              "\n",
              "<style>\n",
              "  .colab-df-quickchart {\n",
              "      --bg-color: #E8F0FE;\n",
              "      --fill-color: #1967D2;\n",
              "      --hover-bg-color: #E2EBFA;\n",
              "      --hover-fill-color: #174EA6;\n",
              "      --disabled-fill-color: #AAA;\n",
              "      --disabled-bg-color: #DDD;\n",
              "  }\n",
              "\n",
              "  [theme=dark] .colab-df-quickchart {\n",
              "      --bg-color: #3B4455;\n",
              "      --fill-color: #D2E3FC;\n",
              "      --hover-bg-color: #434B5C;\n",
              "      --hover-fill-color: #FFFFFF;\n",
              "      --disabled-bg-color: #3B4455;\n",
              "      --disabled-fill-color: #666;\n",
              "  }\n",
              "\n",
              "  .colab-df-quickchart {\n",
              "    background-color: var(--bg-color);\n",
              "    border: none;\n",
              "    border-radius: 50%;\n",
              "    cursor: pointer;\n",
              "    display: none;\n",
              "    fill: var(--fill-color);\n",
              "    height: 32px;\n",
              "    padding: 0;\n",
              "    width: 32px;\n",
              "  }\n",
              "\n",
              "  .colab-df-quickchart:hover {\n",
              "    background-color: var(--hover-bg-color);\n",
              "    box-shadow: 0 1px 2px rgba(60, 64, 67, 0.3), 0 1px 3px 1px rgba(60, 64, 67, 0.15);\n",
              "    fill: var(--button-hover-fill-color);\n",
              "  }\n",
              "\n",
              "  .colab-df-quickchart-complete:disabled,\n",
              "  .colab-df-quickchart-complete:disabled:hover {\n",
              "    background-color: var(--disabled-bg-color);\n",
              "    fill: var(--disabled-fill-color);\n",
              "    box-shadow: none;\n",
              "  }\n",
              "\n",
              "  .colab-df-spinner {\n",
              "    border: 2px solid var(--fill-color);\n",
              "    border-color: transparent;\n",
              "    border-bottom-color: var(--fill-color);\n",
              "    animation:\n",
              "      spin 1s steps(1) infinite;\n",
              "  }\n",
              "\n",
              "  @keyframes spin {\n",
              "    0% {\n",
              "      border-color: transparent;\n",
              "      border-bottom-color: var(--fill-color);\n",
              "      border-left-color: var(--fill-color);\n",
              "    }\n",
              "    20% {\n",
              "      border-color: transparent;\n",
              "      border-left-color: var(--fill-color);\n",
              "      border-top-color: var(--fill-color);\n",
              "    }\n",
              "    30% {\n",
              "      border-color: transparent;\n",
              "      border-left-color: var(--fill-color);\n",
              "      border-top-color: var(--fill-color);\n",
              "      border-right-color: var(--fill-color);\n",
              "    }\n",
              "    40% {\n",
              "      border-color: transparent;\n",
              "      border-right-color: var(--fill-color);\n",
              "      border-top-color: var(--fill-color);\n",
              "    }\n",
              "    60% {\n",
              "      border-color: transparent;\n",
              "      border-right-color: var(--fill-color);\n",
              "    }\n",
              "    80% {\n",
              "      border-color: transparent;\n",
              "      border-right-color: var(--fill-color);\n",
              "      border-bottom-color: var(--fill-color);\n",
              "    }\n",
              "    90% {\n",
              "      border-color: transparent;\n",
              "      border-bottom-color: var(--fill-color);\n",
              "    }\n",
              "  }\n",
              "</style>\n",
              "\n",
              "  <script>\n",
              "    async function quickchart(key) {\n",
              "      const quickchartButtonEl =\n",
              "        document.querySelector('#' + key + ' button');\n",
              "      quickchartButtonEl.disabled = true;  // To prevent multiple clicks.\n",
              "      quickchartButtonEl.classList.add('colab-df-spinner');\n",
              "      try {\n",
              "        const charts = await google.colab.kernel.invokeFunction(\n",
              "            'suggestCharts', [key], {});\n",
              "      } catch (error) {\n",
              "        console.error('Error during call to suggestCharts:', error);\n",
              "      }\n",
              "      quickchartButtonEl.classList.remove('colab-df-spinner');\n",
              "      quickchartButtonEl.classList.add('colab-df-quickchart-complete');\n",
              "    }\n",
              "    (() => {\n",
              "      let quickchartButtonEl =\n",
              "        document.querySelector('#df-4506d550-53f5-4df8-b28c-707cc38bdb41 button');\n",
              "      quickchartButtonEl.style.display =\n",
              "        google.colab.kernel.accessAllowed ? 'block' : 'none';\n",
              "    })();\n",
              "  </script>\n",
              "</div>\n",
              "\n",
              "    </div>\n",
              "  </div>\n"
            ],
            "application/vnd.google.colaboratory.intrinsic+json": {
              "type": "dataframe",
              "summary": "{\n  \"name\": \"eth_df\",\n  \"rows\": 8,\n  \"fields\": [\n    {\n      \"column\": \"open\",\n      \"properties\": {\n        \"dtype\": \"number\",\n        \"std\": 36420.08648842648,\n        \"min\": 653.1517551538857,\n        \"max\": 105120.0,\n        \"num_unique_values\": 8,\n        \"samples\": [\n          2278.0305495624048,\n          2006.19,\n          105120.0\n        ],\n        \"semantic_type\": \"\",\n        \"description\": \"\"\n      }\n    },\n    {\n      \"column\": \"high\",\n      \"properties\": {\n        \"dtype\": \"number\",\n        \"std\": 36419.33566268975,\n        \"min\": 654.4920141781593,\n        \"max\": 105120.0,\n        \"num_unique_values\": 8,\n        \"samples\": [\n          2280.185491152968,\n          2007.99,\n          105120.0\n        ],\n        \"semantic_type\": \"\",\n        \"description\": \"\"\n      }\n    },\n    {\n      \"column\": \"low\",\n      \"properties\": {\n        \"dtype\": \"number\",\n        \"std\": 36421.07180782437,\n        \"min\": 651.7074501107461,\n        \"max\": 105120.0,\n        \"num_unique_values\": 8,\n        \"samples\": [\n          2275.7575709665143,\n          2004.085,\n          105120.0\n        ],\n        \"semantic_type\": \"\",\n        \"description\": \"\"\n      }\n    },\n    {\n      \"column\": \"close\",\n      \"properties\": {\n        \"dtype\": \"number\",\n        \"std\": 36420.079147680925,\n        \"min\": 653.1529296756903,\n        \"max\": 105120.0,\n        \"num_unique_values\": 8,\n        \"samples\": [\n          2278.0408506468793,\n          2006.24,\n          105120.0\n        ],\n        \"semantic_type\": \"\",\n        \"description\": \"\"\n      }\n    },\n    {\n      \"column\": \"volume\",\n      \"properties\": {\n        \"dtype\": \"number\",\n        \"std\": 38696.340864725724,\n        \"min\": 30.7463,\n        \"max\": 105120.0,\n        \"num_unique_values\": 8,\n        \"samples\": [\n          1207.2553615553654,\n          721.2169,\n          105120.0\n        ],\n        \"semantic_type\": \"\",\n        \"description\": \"\"\n      }\n    }\n  ]\n}"
            }
          },
          "metadata": {},
          "execution_count": 42
        }
      ]
    },
    {
      "cell_type": "markdown",
      "source": [
        "# Validación de periodisidad y duplicados de datos"
      ],
      "metadata": {
        "id": "g4nVddoFLB_K"
      }
    },
    {
      "cell_type": "code",
      "source": [
        "duplicates = eth_df[eth_df.duplicated()]\n",
        "duplicates.count()"
      ],
      "metadata": {
        "colab": {
          "base_uri": "https://localhost:8080/"
        },
        "id": "6cjSveR1e7Lq",
        "outputId": "4fd96fba-5304-4ce4-bc62-b53745d71789"
      },
      "execution_count": 43,
      "outputs": [
        {
          "output_type": "execute_result",
          "data": {
            "text/plain": [
              "open      0\n",
              "high      0\n",
              "low       0\n",
              "close     0\n",
              "volume    0\n",
              "dtype: int64"
            ]
          },
          "metadata": {},
          "execution_count": 43
        }
      ]
    },
    {
      "cell_type": "code",
      "source": [
        "\n",
        "# Ordenar los datos\n",
        "eth_df = eth_df.sort_index()\n",
        "\n",
        "# Verificar que los intervalos sean de 5 min\n",
        "intervalos_esperados = pd.date_range(start=eth_df.index.min(), end=eth_df.index.max(), freq='5T')\n",
        "intervalos_faltantes = intervalos_esperados.difference(eth_df.index)\n",
        "if len(intervalos_faltantes) == 0:\n",
        "    print(\"Todos los intervalos de 5 minutos están presentes.\")\n",
        "else:\n",
        "    print(\"Faltan intervalos de 5 minutos en la serie de tiempo.\")\n",
        "\n",
        "# Verificar la regularidad de los intervalos\n",
        "diferencia_intervalos = eth_df.index.to_series().diff().dropna()\n",
        "if (diferencia_intervalos == pd.Timedelta(minutes=5)).all():\n",
        "    print(\"La serie de tiempo tiene intervalos regulares de 5 minutos.\")\n",
        "else:\n",
        "    print(\"Error: La serie de tiempo tiene intervalos irregulares.\")"
      ],
      "metadata": {
        "colab": {
          "base_uri": "https://localhost:8080/"
        },
        "id": "AFc1qTNgQvb3",
        "outputId": "a4d0cd3d-0def-48af-95fd-5f2aac56d729"
      },
      "execution_count": 44,
      "outputs": [
        {
          "output_type": "stream",
          "name": "stdout",
          "text": [
            "Todos los intervalos de 5 minutos están presentes.\n",
            "La serie de tiempo tiene intervalos regulares de 5 minutos.\n"
          ]
        }
      ]
    },
    {
      "cell_type": "code",
      "source": [
        "eth_df = eth_df.sort_index()\n",
        "\n",
        "# Calcular la diferencia de tiempo entre cada marca de tiempo\n",
        "diferencia_intervalos = eth_df.index.to_series().diff().dropna()\n",
        "\n",
        "# Encontrar las diferencias que no son de 5 minutos\n",
        "intervalos_no_5min = diferencia_intervalos[diferencia_intervalos != timedelta(minutes=5)]\n",
        "\n",
        "# Mostrar las diferencias que no cumplen con los 5 minutos\n",
        "print(\"Intervalos que no cumplen con 5 minutos:\",len(intervalos_no_5min))"
      ],
      "metadata": {
        "colab": {
          "base_uri": "https://localhost:8080/"
        },
        "id": "YBDEOAZ3RB_q",
        "outputId": "23d5ee47-5b9b-470b-cba5-1a0c4d1f17ce"
      },
      "execution_count": 45,
      "outputs": [
        {
          "output_type": "stream",
          "name": "stdout",
          "text": [
            "Intervalos que no cumplen con 5 minutos: 0\n"
          ]
        }
      ]
    },
    {
      "cell_type": "markdown",
      "source": [
        "# Creación de datasets utilizando la variable *high*"
      ],
      "metadata": {
        "id": "Nz6_EZYcKjWf"
      }
    },
    {
      "cell_type": "code",
      "source": [
        "# Dataset de entrenamiento que toma todos los registros de 2023 de la columna high\n",
        "train_ds = eth_df[:'2023'].iloc[:,1:2]\n",
        "\n",
        "# Dataset de validacion que toma todos los registros de 2023 de la columna high\n",
        "valid_ds = eth_df['2024':].iloc[:,1:2]"
      ],
      "metadata": {
        "id": "EhW1hYvPf-Cl"
      },
      "execution_count": 46,
      "outputs": []
    },
    {
      "cell_type": "code",
      "source": [
        "train_ds"
      ],
      "metadata": {
        "colab": {
          "base_uri": "https://localhost:8080/",
          "height": 455
        },
        "id": "0oFaRle4KZ7E",
        "outputId": "f9052bd0-1ec2-4ea3-fbff-c938644e5278"
      },
      "execution_count": 47,
      "outputs": [
        {
          "output_type": "execute_result",
          "data": {
            "text/plain": [
              "                        high\n",
              "timestamp                   \n",
              "2023-05-16 03:25:00  1812.60\n",
              "2023-05-16 03:30:00  1812.91\n",
              "2023-05-16 03:35:00  1813.99\n",
              "2023-05-16 03:40:00  1814.30\n",
              "2023-05-16 03:45:00  1812.97\n",
              "...                      ...\n",
              "2023-12-31 23:35:00  2280.00\n",
              "2023-12-31 23:40:00  2279.99\n",
              "2023-12-31 23:45:00  2283.88\n",
              "2023-12-31 23:50:00  2283.71\n",
              "2023-12-31 23:55:00  2282.60\n",
              "\n",
              "[66199 rows x 1 columns]"
            ],
            "text/html": [
              "\n",
              "  <div id=\"df-b3e8eeed-ae33-4c2a-8e54-f372f33bdc56\" class=\"colab-df-container\">\n",
              "    <div>\n",
              "<style scoped>\n",
              "    .dataframe tbody tr th:only-of-type {\n",
              "        vertical-align: middle;\n",
              "    }\n",
              "\n",
              "    .dataframe tbody tr th {\n",
              "        vertical-align: top;\n",
              "    }\n",
              "\n",
              "    .dataframe thead th {\n",
              "        text-align: right;\n",
              "    }\n",
              "</style>\n",
              "<table border=\"1\" class=\"dataframe\">\n",
              "  <thead>\n",
              "    <tr style=\"text-align: right;\">\n",
              "      <th></th>\n",
              "      <th>high</th>\n",
              "    </tr>\n",
              "    <tr>\n",
              "      <th>timestamp</th>\n",
              "      <th></th>\n",
              "    </tr>\n",
              "  </thead>\n",
              "  <tbody>\n",
              "    <tr>\n",
              "      <th>2023-05-16 03:25:00</th>\n",
              "      <td>1812.60</td>\n",
              "    </tr>\n",
              "    <tr>\n",
              "      <th>2023-05-16 03:30:00</th>\n",
              "      <td>1812.91</td>\n",
              "    </tr>\n",
              "    <tr>\n",
              "      <th>2023-05-16 03:35:00</th>\n",
              "      <td>1813.99</td>\n",
              "    </tr>\n",
              "    <tr>\n",
              "      <th>2023-05-16 03:40:00</th>\n",
              "      <td>1814.30</td>\n",
              "    </tr>\n",
              "    <tr>\n",
              "      <th>2023-05-16 03:45:00</th>\n",
              "      <td>1812.97</td>\n",
              "    </tr>\n",
              "    <tr>\n",
              "      <th>...</th>\n",
              "      <td>...</td>\n",
              "    </tr>\n",
              "    <tr>\n",
              "      <th>2023-12-31 23:35:00</th>\n",
              "      <td>2280.00</td>\n",
              "    </tr>\n",
              "    <tr>\n",
              "      <th>2023-12-31 23:40:00</th>\n",
              "      <td>2279.99</td>\n",
              "    </tr>\n",
              "    <tr>\n",
              "      <th>2023-12-31 23:45:00</th>\n",
              "      <td>2283.88</td>\n",
              "    </tr>\n",
              "    <tr>\n",
              "      <th>2023-12-31 23:50:00</th>\n",
              "      <td>2283.71</td>\n",
              "    </tr>\n",
              "    <tr>\n",
              "      <th>2023-12-31 23:55:00</th>\n",
              "      <td>2282.60</td>\n",
              "    </tr>\n",
              "  </tbody>\n",
              "</table>\n",
              "<p>66199 rows × 1 columns</p>\n",
              "</div>\n",
              "    <div class=\"colab-df-buttons\">\n",
              "\n",
              "  <div class=\"colab-df-container\">\n",
              "    <button class=\"colab-df-convert\" onclick=\"convertToInteractive('df-b3e8eeed-ae33-4c2a-8e54-f372f33bdc56')\"\n",
              "            title=\"Convert this dataframe to an interactive table.\"\n",
              "            style=\"display:none;\">\n",
              "\n",
              "  <svg xmlns=\"http://www.w3.org/2000/svg\" height=\"24px\" viewBox=\"0 -960 960 960\">\n",
              "    <path d=\"M120-120v-720h720v720H120Zm60-500h600v-160H180v160Zm220 220h160v-160H400v160Zm0 220h160v-160H400v160ZM180-400h160v-160H180v160Zm440 0h160v-160H620v160ZM180-180h160v-160H180v160Zm440 0h160v-160H620v160Z\"/>\n",
              "  </svg>\n",
              "    </button>\n",
              "\n",
              "  <style>\n",
              "    .colab-df-container {\n",
              "      display:flex;\n",
              "      gap: 12px;\n",
              "    }\n",
              "\n",
              "    .colab-df-convert {\n",
              "      background-color: #E8F0FE;\n",
              "      border: none;\n",
              "      border-radius: 50%;\n",
              "      cursor: pointer;\n",
              "      display: none;\n",
              "      fill: #1967D2;\n",
              "      height: 32px;\n",
              "      padding: 0 0 0 0;\n",
              "      width: 32px;\n",
              "    }\n",
              "\n",
              "    .colab-df-convert:hover {\n",
              "      background-color: #E2EBFA;\n",
              "      box-shadow: 0px 1px 2px rgba(60, 64, 67, 0.3), 0px 1px 3px 1px rgba(60, 64, 67, 0.15);\n",
              "      fill: #174EA6;\n",
              "    }\n",
              "\n",
              "    .colab-df-buttons div {\n",
              "      margin-bottom: 4px;\n",
              "    }\n",
              "\n",
              "    [theme=dark] .colab-df-convert {\n",
              "      background-color: #3B4455;\n",
              "      fill: #D2E3FC;\n",
              "    }\n",
              "\n",
              "    [theme=dark] .colab-df-convert:hover {\n",
              "      background-color: #434B5C;\n",
              "      box-shadow: 0px 1px 3px 1px rgba(0, 0, 0, 0.15);\n",
              "      filter: drop-shadow(0px 1px 2px rgba(0, 0, 0, 0.3));\n",
              "      fill: #FFFFFF;\n",
              "    }\n",
              "  </style>\n",
              "\n",
              "    <script>\n",
              "      const buttonEl =\n",
              "        document.querySelector('#df-b3e8eeed-ae33-4c2a-8e54-f372f33bdc56 button.colab-df-convert');\n",
              "      buttonEl.style.display =\n",
              "        google.colab.kernel.accessAllowed ? 'block' : 'none';\n",
              "\n",
              "      async function convertToInteractive(key) {\n",
              "        const element = document.querySelector('#df-b3e8eeed-ae33-4c2a-8e54-f372f33bdc56');\n",
              "        const dataTable =\n",
              "          await google.colab.kernel.invokeFunction('convertToInteractive',\n",
              "                                                    [key], {});\n",
              "        if (!dataTable) return;\n",
              "\n",
              "        const docLinkHtml = 'Like what you see? Visit the ' +\n",
              "          '<a target=\"_blank\" href=https://colab.research.google.com/notebooks/data_table.ipynb>data table notebook</a>'\n",
              "          + ' to learn more about interactive tables.';\n",
              "        element.innerHTML = '';\n",
              "        dataTable['output_type'] = 'display_data';\n",
              "        await google.colab.output.renderOutput(dataTable, element);\n",
              "        const docLink = document.createElement('div');\n",
              "        docLink.innerHTML = docLinkHtml;\n",
              "        element.appendChild(docLink);\n",
              "      }\n",
              "    </script>\n",
              "  </div>\n",
              "\n",
              "\n",
              "<div id=\"df-a91d772c-8494-4bee-ba01-2f4caab5a914\">\n",
              "  <button class=\"colab-df-quickchart\" onclick=\"quickchart('df-a91d772c-8494-4bee-ba01-2f4caab5a914')\"\n",
              "            title=\"Suggest charts\"\n",
              "            style=\"display:none;\">\n",
              "\n",
              "<svg xmlns=\"http://www.w3.org/2000/svg\" height=\"24px\"viewBox=\"0 0 24 24\"\n",
              "     width=\"24px\">\n",
              "    <g>\n",
              "        <path d=\"M19 3H5c-1.1 0-2 .9-2 2v14c0 1.1.9 2 2 2h14c1.1 0 2-.9 2-2V5c0-1.1-.9-2-2-2zM9 17H7v-7h2v7zm4 0h-2V7h2v10zm4 0h-2v-4h2v4z\"/>\n",
              "    </g>\n",
              "</svg>\n",
              "  </button>\n",
              "\n",
              "<style>\n",
              "  .colab-df-quickchart {\n",
              "      --bg-color: #E8F0FE;\n",
              "      --fill-color: #1967D2;\n",
              "      --hover-bg-color: #E2EBFA;\n",
              "      --hover-fill-color: #174EA6;\n",
              "      --disabled-fill-color: #AAA;\n",
              "      --disabled-bg-color: #DDD;\n",
              "  }\n",
              "\n",
              "  [theme=dark] .colab-df-quickchart {\n",
              "      --bg-color: #3B4455;\n",
              "      --fill-color: #D2E3FC;\n",
              "      --hover-bg-color: #434B5C;\n",
              "      --hover-fill-color: #FFFFFF;\n",
              "      --disabled-bg-color: #3B4455;\n",
              "      --disabled-fill-color: #666;\n",
              "  }\n",
              "\n",
              "  .colab-df-quickchart {\n",
              "    background-color: var(--bg-color);\n",
              "    border: none;\n",
              "    border-radius: 50%;\n",
              "    cursor: pointer;\n",
              "    display: none;\n",
              "    fill: var(--fill-color);\n",
              "    height: 32px;\n",
              "    padding: 0;\n",
              "    width: 32px;\n",
              "  }\n",
              "\n",
              "  .colab-df-quickchart:hover {\n",
              "    background-color: var(--hover-bg-color);\n",
              "    box-shadow: 0 1px 2px rgba(60, 64, 67, 0.3), 0 1px 3px 1px rgba(60, 64, 67, 0.15);\n",
              "    fill: var(--button-hover-fill-color);\n",
              "  }\n",
              "\n",
              "  .colab-df-quickchart-complete:disabled,\n",
              "  .colab-df-quickchart-complete:disabled:hover {\n",
              "    background-color: var(--disabled-bg-color);\n",
              "    fill: var(--disabled-fill-color);\n",
              "    box-shadow: none;\n",
              "  }\n",
              "\n",
              "  .colab-df-spinner {\n",
              "    border: 2px solid var(--fill-color);\n",
              "    border-color: transparent;\n",
              "    border-bottom-color: var(--fill-color);\n",
              "    animation:\n",
              "      spin 1s steps(1) infinite;\n",
              "  }\n",
              "\n",
              "  @keyframes spin {\n",
              "    0% {\n",
              "      border-color: transparent;\n",
              "      border-bottom-color: var(--fill-color);\n",
              "      border-left-color: var(--fill-color);\n",
              "    }\n",
              "    20% {\n",
              "      border-color: transparent;\n",
              "      border-left-color: var(--fill-color);\n",
              "      border-top-color: var(--fill-color);\n",
              "    }\n",
              "    30% {\n",
              "      border-color: transparent;\n",
              "      border-left-color: var(--fill-color);\n",
              "      border-top-color: var(--fill-color);\n",
              "      border-right-color: var(--fill-color);\n",
              "    }\n",
              "    40% {\n",
              "      border-color: transparent;\n",
              "      border-right-color: var(--fill-color);\n",
              "      border-top-color: var(--fill-color);\n",
              "    }\n",
              "    60% {\n",
              "      border-color: transparent;\n",
              "      border-right-color: var(--fill-color);\n",
              "    }\n",
              "    80% {\n",
              "      border-color: transparent;\n",
              "      border-right-color: var(--fill-color);\n",
              "      border-bottom-color: var(--fill-color);\n",
              "    }\n",
              "    90% {\n",
              "      border-color: transparent;\n",
              "      border-bottom-color: var(--fill-color);\n",
              "    }\n",
              "  }\n",
              "</style>\n",
              "\n",
              "  <script>\n",
              "    async function quickchart(key) {\n",
              "      const quickchartButtonEl =\n",
              "        document.querySelector('#' + key + ' button');\n",
              "      quickchartButtonEl.disabled = true;  // To prevent multiple clicks.\n",
              "      quickchartButtonEl.classList.add('colab-df-spinner');\n",
              "      try {\n",
              "        const charts = await google.colab.kernel.invokeFunction(\n",
              "            'suggestCharts', [key], {});\n",
              "      } catch (error) {\n",
              "        console.error('Error during call to suggestCharts:', error);\n",
              "      }\n",
              "      quickchartButtonEl.classList.remove('colab-df-spinner');\n",
              "      quickchartButtonEl.classList.add('colab-df-quickchart-complete');\n",
              "    }\n",
              "    (() => {\n",
              "      let quickchartButtonEl =\n",
              "        document.querySelector('#df-a91d772c-8494-4bee-ba01-2f4caab5a914 button');\n",
              "      quickchartButtonEl.style.display =\n",
              "        google.colab.kernel.accessAllowed ? 'block' : 'none';\n",
              "    })();\n",
              "  </script>\n",
              "</div>\n",
              "\n",
              "  <div id=\"id_ea385d23-33e0-4586-ba5f-66ce3c33182c\">\n",
              "    <style>\n",
              "      .colab-df-generate {\n",
              "        background-color: #E8F0FE;\n",
              "        border: none;\n",
              "        border-radius: 50%;\n",
              "        cursor: pointer;\n",
              "        display: none;\n",
              "        fill: #1967D2;\n",
              "        height: 32px;\n",
              "        padding: 0 0 0 0;\n",
              "        width: 32px;\n",
              "      }\n",
              "\n",
              "      .colab-df-generate:hover {\n",
              "        background-color: #E2EBFA;\n",
              "        box-shadow: 0px 1px 2px rgba(60, 64, 67, 0.3), 0px 1px 3px 1px rgba(60, 64, 67, 0.15);\n",
              "        fill: #174EA6;\n",
              "      }\n",
              "\n",
              "      [theme=dark] .colab-df-generate {\n",
              "        background-color: #3B4455;\n",
              "        fill: #D2E3FC;\n",
              "      }\n",
              "\n",
              "      [theme=dark] .colab-df-generate:hover {\n",
              "        background-color: #434B5C;\n",
              "        box-shadow: 0px 1px 3px 1px rgba(0, 0, 0, 0.15);\n",
              "        filter: drop-shadow(0px 1px 2px rgba(0, 0, 0, 0.3));\n",
              "        fill: #FFFFFF;\n",
              "      }\n",
              "    </style>\n",
              "    <button class=\"colab-df-generate\" onclick=\"generateWithVariable('train_ds')\"\n",
              "            title=\"Generate code using this dataframe.\"\n",
              "            style=\"display:none;\">\n",
              "\n",
              "  <svg xmlns=\"http://www.w3.org/2000/svg\" height=\"24px\"viewBox=\"0 0 24 24\"\n",
              "       width=\"24px\">\n",
              "    <path d=\"M7,19H8.4L18.45,9,17,7.55,7,17.6ZM5,21V16.75L18.45,3.32a2,2,0,0,1,2.83,0l1.4,1.43a1.91,1.91,0,0,1,.58,1.4,1.91,1.91,0,0,1-.58,1.4L9.25,21ZM18.45,9,17,7.55Zm-12,3A5.31,5.31,0,0,0,4.9,8.1,5.31,5.31,0,0,0,1,6.5,5.31,5.31,0,0,0,4.9,4.9,5.31,5.31,0,0,0,6.5,1,5.31,5.31,0,0,0,8.1,4.9,5.31,5.31,0,0,0,12,6.5,5.46,5.46,0,0,0,6.5,12Z\"/>\n",
              "  </svg>\n",
              "    </button>\n",
              "    <script>\n",
              "      (() => {\n",
              "      const buttonEl =\n",
              "        document.querySelector('#id_ea385d23-33e0-4586-ba5f-66ce3c33182c button.colab-df-generate');\n",
              "      buttonEl.style.display =\n",
              "        google.colab.kernel.accessAllowed ? 'block' : 'none';\n",
              "\n",
              "      buttonEl.onclick = () => {\n",
              "        google.colab.notebook.generateWithVariable('train_ds');\n",
              "      }\n",
              "      })();\n",
              "    </script>\n",
              "  </div>\n",
              "\n",
              "    </div>\n",
              "  </div>\n"
            ],
            "application/vnd.google.colaboratory.intrinsic+json": {
              "type": "dataframe",
              "variable_name": "train_ds",
              "summary": "{\n  \"name\": \"train_ds\",\n  \"rows\": 66199,\n  \"fields\": [\n    {\n      \"column\": \"timestamp\",\n      \"properties\": {\n        \"dtype\": \"date\",\n        \"min\": \"2023-05-16 03:25:00\",\n        \"max\": \"2023-12-31 23:55:00\",\n        \"num_unique_values\": 66199,\n        \"samples\": [\n          \"2023-10-19 08:55:00\",\n          \"2023-09-06 09:05:00\",\n          \"2023-11-14 18:40:00\"\n        ],\n        \"semantic_type\": \"\",\n        \"description\": \"\"\n      }\n    },\n    {\n      \"column\": \"high\",\n      \"properties\": {\n        \"dtype\": \"number\",\n        \"std\": 207.40983233229386,\n        \"min\": 1526.76,\n        \"max\": 2445.8,\n        \"num_unique_values\": 35524,\n        \"samples\": [\n          1667.47,\n          1926.09,\n          1620.2\n        ],\n        \"semantic_type\": \"\",\n        \"description\": \"\"\n      }\n    }\n  ]\n}"
            }
          },
          "metadata": {},
          "execution_count": 47
        }
      ]
    },
    {
      "cell_type": "code",
      "source": [
        "print(\"Tamaño del dataset de entrenamiento:\", train_ds.shape[0])\n",
        "print(\"Tamaño del dataset de validacion:\", valid_ds.shape[0])"
      ],
      "metadata": {
        "colab": {
          "base_uri": "https://localhost:8080/"
        },
        "id": "OPns9z4rWy9N",
        "outputId": "36bc93ec-17ee-417f-e531-957e0bcedbdd"
      },
      "execution_count": 48,
      "outputs": [
        {
          "output_type": "stream",
          "name": "stdout",
          "text": [
            "Tamaño del dataset de entrenamiento: 66199\n",
            "Tamaño del dataset de validacion: 38921\n"
          ]
        }
      ]
    },
    {
      "cell_type": "markdown",
      "source": [
        "## Visualización de datos de entrenamiento y de validación"
      ],
      "metadata": {
        "id": "q0daLJCrNC4e"
      }
    },
    {
      "cell_type": "code",
      "source": [
        "fig=plt.figure(figsize=(50,3))\n",
        "\n",
        "ax1 = fig.add_subplot(1,3,1)\n",
        "ax1.set_title(\"Dataset entrenamiento\\nHigh\")\n",
        "ax1.plot( train_ds.high, marker = '.', linewidth = 0 )\n",
        "plt.show()"
      ],
      "metadata": {
        "colab": {
          "base_uri": "https://localhost:8080/",
          "height": 334
        },
        "id": "_EaXvvyDllwP",
        "outputId": "9cd6aa95-5bac-402c-902d-527790ed07c1"
      },
      "execution_count": 49,
      "outputs": [
        {
          "output_type": "display_data",
          "data": {
            "text/plain": [
              "<Figure size 5000x300 with 1 Axes>"
            ],
            "image/png": "[encoded data removed]"
          },
          "metadata": {}
        }
      ]
    },
    {
      "cell_type": "code",
      "source": [
        "fig=plt.figure(figsize=(50,3))\n",
        "\n",
        "ax1 = fig.add_subplot(1,3,1)\n",
        "ax1.set_title(\"Dataset validación\\nHigh\")\n",
        "ax1.plot( valid_ds.high, marker = '.', linewidth = 0 )\n",
        "plt.show()"
      ],
      "metadata": {
        "colab": {
          "base_uri": "https://localhost:8080/",
          "height": 334
        },
        "id": "keSOW3ZimHEK",
        "outputId": "90432f4f-59b9-4584-80bb-15e5786b91e3"
      },
      "execution_count": 50,
      "outputs": [
        {
          "output_type": "display_data",
          "data": {
            "text/plain": [
              "<Figure size 5000x300 with 1 Axes>"
            ],
            "image/png": "[encoded data removed]"
          },
          "metadata": {}
        }
      ]
    },
    {
      "cell_type": "markdown",
      "source": [
        "# Escalación de los datos"
      ],
      "metadata": {
        "id": "9jNdTQh_XXAe"
      }
    },
    {
      "cell_type": "code",
      "source": [
        "scaler_train = MinMaxScaler( feature_range = (0,1) )\n",
        "train_ds_escalado = scaler_train.fit_transform(train_ds)"
      ],
      "metadata": {
        "id": "Sdns_mm4mkEI"
      },
      "execution_count": 51,
      "outputs": []
    },
    {
      "cell_type": "code",
      "source": [
        "# scaler_train = RobustScaler(quantile_range=(25, 75))\n",
        "# train_ds_escalado = scaler_train.fit_transform(train_ds)"
      ],
      "metadata": {
        "id": "-TBkLbYDZYT-"
      },
      "execution_count": 52,
      "outputs": []
    },
    {
      "cell_type": "code",
      "source": [
        "time_step = 100  # <-------- parametro: numero de valores a usar para predecir el siguiente (100 datos)\n",
        "X_train = []\n",
        "Y_train = []\n",
        "m = len(train_ds_escalado)\n",
        "\n",
        "for i in range(time_step,m):\n",
        "    # X: bloques de \"time_step\" datos: 0-time_step, 1-time_step+1, 2-time_step+2, etc\n",
        "    X_train.append(train_ds_escalado[i-time_step:i,0])\n",
        "\n",
        "    # Y: el siguiente dato (Ejemplo: X_train:0:100, Y_train:101)\n",
        "    Y_train.append(train_ds_escalado[i,0])\n",
        "\n",
        "X_train, Y_train = np.array(X_train), np.array(Y_train)"
      ],
      "metadata": {
        "id": "hQfPKEgqmxia"
      },
      "execution_count": 53,
      "outputs": []
    },
    {
      "cell_type": "code",
      "source": [
        "print(\"X_train:\", X_train.shape)\n",
        "print(\"Y_train:\", Y_train.shape)"
      ],
      "metadata": {
        "colab": {
          "base_uri": "https://localhost:8080/"
        },
        "id": "rcaRXHUPaIc9",
        "outputId": "154e674e-657a-47d0-db1a-38e6798485a9"
      },
      "execution_count": 54,
      "outputs": [
        {
          "output_type": "stream",
          "name": "stdout",
          "text": [
            "X_train: (66099, 100)\n",
            "Y_train: (66099,)\n"
          ]
        }
      ]
    },
    {
      "cell_type": "code",
      "source": [
        "print(\"X_train:\",X_train[0])\n",
        "print(\"Y_train:\",Y_train[0])"
      ],
      "metadata": {
        "colab": {
          "base_uri": "https://localhost:8080/"
        },
        "id": "1ZMr7h85a9Ma",
        "outputId": "7f883caa-2215-4fad-cf7d-7869f01797f0"
      },
      "execution_count": 55,
      "outputs": [
        {
          "output_type": "stream",
          "name": "stdout",
          "text": [
            "X_train: [0.31102019 0.3113575  0.31253264 0.31286995 0.31142279 0.31110724\n",
            " 0.31211917 0.31354457 0.31173834 0.31071553 0.31093315 0.31073729\n",
            " 0.31093315 0.31154248 0.31041086 0.31189067 0.31177098 0.31123781\n",
            " 0.31124869 0.31303317 0.31353369 0.31355545 0.31292436 0.31292436\n",
            " 0.31197772 0.31115077 0.30988858 0.30950775 0.3087352  0.30992122\n",
            " 0.30980153 0.30920308 0.30824556 0.3085067  0.30806058 0.30806058\n",
            " 0.30898546 0.31136838 0.31108548 0.31047615 0.30988858 0.31172745\n",
            " 0.31144455 0.31277202 0.31264145 0.31317462 0.32029074 0.31928969\n",
            " 0.31739641 0.31759227 0.32075862 0.32300009 0.32283687 0.32123738\n",
            " 0.32198816 0.32198816 0.32146588 0.32667784 0.32607939 0.32688458\n",
            " 0.32422963 0.32165085 0.32116121 0.3205954  0.320541   0.31856067\n",
            " 0.31885446 0.32039955 0.31897415 0.31851715 0.31972493 0.32007312\n",
            " 0.31942026 0.32033426 0.31776636 0.31952907 0.31833217 0.31684149\n",
            " 0.31659123 0.3165477  0.3165477  0.31601454 0.31541609 0.31293524\n",
            " 0.31187979 0.31359897 0.31380571 0.31332695 0.31275026 0.31197772\n",
            " 0.31145543 0.3117601  0.31384923 0.31445857 0.31386011 0.31544873\n",
            " 0.31450209 0.31570987 0.31907208 0.31767932]\n",
            "Y_train: 0.3180275069637881\n"
          ]
        }
      ]
    },
    {
      "cell_type": "code",
      "source": [
        "X_train = np.reshape(X_train, (X_train.shape[0], X_train.shape[1], 1))"
      ],
      "metadata": {
        "id": "xEP8T7n1nFtJ"
      },
      "execution_count": 56,
      "outputs": []
    },
    {
      "cell_type": "code",
      "source": [
        "X_train.shape, Y_train.shape"
      ],
      "metadata": {
        "colab": {
          "base_uri": "https://localhost:8080/"
        },
        "id": "n_LfKsbfnTCR",
        "outputId": "9ff04c6f-1994-4813-bc44-a3e57b7785f4"
      },
      "execution_count": 57,
      "outputs": [
        {
          "output_type": "execute_result",
          "data": {
            "text/plain": [
              "((66099, 100, 1), (66099,))"
            ]
          },
          "metadata": {},
          "execution_count": 57
        }
      ]
    },
    {
      "cell_type": "markdown",
      "source": [
        "# Modelo"
      ],
      "metadata": {
        "id": "23uAyqoqbshX"
      }
    },
    {
      "cell_type": "code",
      "source": [
        "dim_entrada = (X_train.shape[1],1)\n",
        "dim_salida = 1\n",
        "num_neuron = 100"
      ],
      "metadata": {
        "id": "HKX5DpkXnTbX"
      },
      "execution_count": 58,
      "outputs": []
    },
    {
      "cell_type": "code",
      "source": [
        "print(\"Tamaño de entrada:\",dim_entrada)\n",
        "print(\"Tamaño de salida:\",dim_salida)"
      ],
      "metadata": {
        "colab": {
          "base_uri": "https://localhost:8080/"
        },
        "id": "ft4a1AsXbcLf",
        "outputId": "59c15731-9fae-43c2-a03a-abafe7d95ec1"
      },
      "execution_count": 59,
      "outputs": [
        {
          "output_type": "stream",
          "name": "stdout",
          "text": [
            "Tamaño de entrada: (100, 1)\n",
            "Tamaño de salida: 1\n"
          ]
        }
      ]
    },
    {
      "cell_type": "code",
      "source": [
        "modelo = Sequential()\n",
        "modelo.add(LSTM(units = num_neuron, input_shape = dim_entrada))\n",
        "modelo.add(Dense(units = dim_salida))"
      ],
      "metadata": {
        "id": "5rq9MImjnf4U"
      },
      "execution_count": 60,
      "outputs": []
    },
    {
      "cell_type": "code",
      "source": [
        "modelo.compile(optimizer='Adam', loss='mse')"
      ],
      "metadata": {
        "id": "ePsTJBfInhnS"
      },
      "execution_count": 61,
      "outputs": []
    },
    {
      "cell_type": "code",
      "source": [
        "modelo.summary()"
      ],
      "metadata": {
        "colab": {
          "base_uri": "https://localhost:8080/"
        },
        "id": "6EvOvqMIb2lY",
        "outputId": "a8664f9b-7537-4ff6-ad1c-d5100acce1b0"
      },
      "execution_count": 62,
      "outputs": [
        {
          "output_type": "stream",
          "name": "stdout",
          "text": [
            "Model: \"sequential_1\"\n",
            "_________________________________________________________________\n",
            " Layer (type)                Output Shape              Param #   \n",
            "=================================================================\n",
            " lstm_1 (LSTM)               (None, 100)               40800     \n",
            "                                                                 \n",
            " dense_1 (Dense)             (None, 1)                 101       \n",
            "                                                                 \n",
            "=================================================================\n",
            "Total params: 40901 (159.77 KB)\n",
            "Trainable params: 40901 (159.77 KB)\n",
            "Non-trainable params: 0 (0.00 Byte)\n",
            "_________________________________________________________________\n"
          ]
        }
      ]
    },
    {
      "cell_type": "code",
      "source": [
        "%time modelo.fit(X_train, Y_train, epochs = 100, batch_size = 32, verbose = 1)"
      ],
      "metadata": {
        "colab": {
          "base_uri": "https://localhost:8080/"
        },
        "id": "gSp0qfvbnkQb",
        "outputId": "8a0eb6b5-7e67-4354-89f1-26cafe6a7786"
      },
      "execution_count": 63,
      "outputs": [
        {
          "output_type": "stream",
          "name": "stdout",
          "text": [
            "Epoch 1/100\n",
            "2066/2066 [==============================] - 14s 6ms/step - loss: 4.1526e-04\n",
            "Epoch 2/100\n",
            "2066/2066 [==============================] - 12s 6ms/step - loss: 2.7524e-05\n",
            "Epoch 3/100\n",
            "2066/2066 [==============================] - 12s 6ms/step - loss: 2.2670e-05\n",
            "Epoch 4/100\n",
            "2066/2066 [==============================] - 12s 6ms/step - loss: 1.7810e-05\n",
            "Epoch 5/100\n",
            "2066/2066 [==============================] - 12s 6ms/step - loss: 1.2738e-05\n",
            "Epoch 6/100\n",
            "2066/2066 [==============================] - 12s 6ms/step - loss: 1.0588e-05\n",
            "Epoch 7/100\n",
            "2066/2066 [==============================] - 12s 6ms/step - loss: 8.8676e-06\n",
            "Epoch 8/100\n",
            "2066/2066 [==============================] - 12s 6ms/step - loss: 8.2904e-06\n",
            "Epoch 9/100\n",
            "2066/2066 [==============================] - 12s 6ms/step - loss: 7.7769e-06\n",
            "Epoch 10/100\n",
            "2066/2066 [==============================] - 12s 6ms/step - loss: 8.2429e-06\n",
            "Epoch 11/100\n",
            "2066/2066 [==============================] - 12s 6ms/step - loss: 7.6756e-06\n",
            "Epoch 12/100\n",
            "2066/2066 [==============================] - 12s 6ms/step - loss: 7.7980e-06\n",
            "Epoch 13/100\n",
            "2066/2066 [==============================] - 12s 6ms/step - loss: 7.4891e-06\n",
            "Epoch 14/100\n",
            "2066/2066 [==============================] - 12s 6ms/step - loss: 7.4852e-06\n",
            "Epoch 15/100\n",
            "2066/2066 [==============================] - 12s 6ms/step - loss: 7.2993e-06\n",
            "Epoch 16/100\n",
            "2066/2066 [==============================] - 12s 6ms/step - loss: 7.5484e-06\n",
            "Epoch 17/100\n",
            "2066/2066 [==============================] - 12s 6ms/step - loss: 7.3886e-06\n",
            "Epoch 18/100\n",
            "2066/2066 [==============================] - 12s 6ms/step - loss: 7.2755e-06\n",
            "Epoch 19/100\n",
            "2066/2066 [==============================] - 12s 6ms/step - loss: 7.0828e-06\n",
            "Epoch 20/100\n",
            "2066/2066 [==============================] - 12s 6ms/step - loss: 7.1946e-06\n",
            "Epoch 21/100\n",
            "2066/2066 [==============================] - 12s 6ms/step - loss: 7.2364e-06\n",
            "Epoch 22/100\n",
            "2066/2066 [==============================] - 12s 6ms/step - loss: 7.2461e-06\n",
            "Epoch 23/100\n",
            "2066/2066 [==============================] - 12s 6ms/step - loss: 7.1477e-06\n",
            "Epoch 24/100\n",
            "2066/2066 [==============================] - 12s 6ms/step - loss: 7.1567e-06\n",
            "Epoch 25/100\n",
            "2066/2066 [==============================] - 12s 6ms/step - loss: 6.9834e-06\n",
            "Epoch 26/100\n",
            "2066/2066 [==============================] - 12s 6ms/step - loss: 7.0178e-06\n",
            "Epoch 27/100\n",
            "2066/2066 [==============================] - 12s 6ms/step - loss: 6.9026e-06\n",
            "Epoch 28/100\n",
            "2066/2066 [==============================] - 12s 6ms/step - loss: 6.8878e-06\n",
            "Epoch 29/100\n",
            "2066/2066 [==============================] - 12s 6ms/step - loss: 6.8793e-06\n",
            "Epoch 30/100\n",
            "2066/2066 [==============================] - 12s 6ms/step - loss: 7.0435e-06\n",
            "Epoch 31/100\n",
            "2066/2066 [==============================] - 12s 6ms/step - loss: 7.0441e-06\n",
            "Epoch 32/100\n",
            "2066/2066 [==============================] - 12s 6ms/step - loss: 6.8944e-06\n",
            "Epoch 33/100\n",
            "2066/2066 [==============================] - 12s 6ms/step - loss: 7.1221e-06\n",
            "Epoch 34/100\n",
            "2066/2066 [==============================] - 12s 6ms/step - loss: 6.8329e-06\n",
            "Epoch 35/100\n",
            "2066/2066 [==============================] - 12s 6ms/step - loss: 6.9079e-06\n",
            "Epoch 36/100\n",
            "2066/2066 [==============================] - 12s 6ms/step - loss: 7.0010e-06\n",
            "Epoch 37/100\n",
            "2066/2066 [==============================] - 12s 6ms/step - loss: 6.9309e-06\n",
            "Epoch 38/100\n",
            "2066/2066 [==============================] - 12s 6ms/step - loss: 6.8781e-06\n",
            "Epoch 39/100\n",
            "2066/2066 [==============================] - 12s 6ms/step - loss: 6.8476e-06\n",
            "Epoch 40/100\n",
            "2066/2066 [==============================] - 12s 6ms/step - loss: 6.8112e-06\n",
            "Epoch 41/100\n",
            "2066/2066 [==============================] - 12s 6ms/step - loss: 6.8680e-06\n",
            "Epoch 42/100\n",
            "2066/2066 [==============================] - 12s 6ms/step - loss: 6.7678e-06\n",
            "Epoch 43/100\n",
            "2066/2066 [==============================] - 12s 6ms/step - loss: 6.8122e-06\n",
            "Epoch 44/100\n",
            "2066/2066 [==============================] - 12s 6ms/step - loss: 6.8956e-06\n",
            "Epoch 45/100\n",
            "2066/2066 [==============================] - 12s 6ms/step - loss: 6.7072e-06\n",
            "Epoch 46/100\n",
            "2066/2066 [==============================] - 12s 6ms/step - loss: 6.8698e-06\n",
            "Epoch 47/100\n",
            "2066/2066 [==============================] - 12s 6ms/step - loss: 6.7024e-06\n",
            "Epoch 48/100\n",
            "2066/2066 [==============================] - 12s 6ms/step - loss: 6.9427e-06\n",
            "Epoch 49/100\n",
            "2066/2066 [==============================] - 12s 6ms/step - loss: 6.6173e-06\n",
            "Epoch 50/100\n",
            "2066/2066 [==============================] - 12s 6ms/step - loss: 6.8884e-06\n",
            "Epoch 51/100\n",
            "2066/2066 [==============================] - 12s 6ms/step - loss: 6.7912e-06\n",
            "Epoch 52/100\n",
            "2066/2066 [==============================] - 12s 6ms/step - loss: 6.8261e-06\n",
            "Epoch 53/100\n",
            "2066/2066 [==============================] - 12s 6ms/step - loss: 6.6498e-06\n",
            "Epoch 54/100\n",
            "2066/2066 [==============================] - 12s 6ms/step - loss: 6.7055e-06\n",
            "Epoch 55/100\n",
            "2066/2066 [==============================] - 12s 6ms/step - loss: 6.8278e-06\n",
            "Epoch 56/100\n",
            "2066/2066 [==============================] - 12s 6ms/step - loss: 6.7273e-06\n",
            "Epoch 57/100\n",
            "2066/2066 [==============================] - 12s 6ms/step - loss: 6.6899e-06\n",
            "Epoch 58/100\n",
            "2066/2066 [==============================] - 12s 6ms/step - loss: 6.6878e-06\n",
            "Epoch 59/100\n",
            "2066/2066 [==============================] - 12s 6ms/step - loss: 6.5860e-06\n",
            "Epoch 60/100\n",
            "2066/2066 [==============================] - 12s 6ms/step - loss: 6.7385e-06\n",
            "Epoch 61/100\n",
            "2066/2066 [==============================] - 12s 6ms/step - loss: 6.7210e-06\n",
            "Epoch 62/100\n",
            "2066/2066 [==============================] - 12s 6ms/step - loss: 6.6324e-06\n",
            "Epoch 63/100\n",
            "2066/2066 [==============================] - 12s 6ms/step - loss: 6.5268e-06\n",
            "Epoch 64/100\n",
            "2066/2066 [==============================] - 12s 6ms/step - loss: 6.7838e-06\n",
            "Epoch 65/100\n",
            "2066/2066 [==============================] - 12s 6ms/step - loss: 6.6552e-06\n",
            "Epoch 66/100\n",
            "2066/2066 [==============================] - 12s 6ms/step - loss: 6.7119e-06\n",
            "Epoch 67/100\n",
            "2066/2066 [==============================] - 12s 6ms/step - loss: 6.5955e-06\n",
            "Epoch 68/100\n",
            "2066/2066 [==============================] - 12s 6ms/step - loss: 6.6562e-06\n",
            "Epoch 69/100\n",
            "2066/2066 [==============================] - 12s 6ms/step - loss: 6.6230e-06\n",
            "Epoch 70/100\n",
            "2066/2066 [==============================] - 12s 6ms/step - loss: 6.5392e-06\n",
            "Epoch 71/100\n",
            "2066/2066 [==============================] - 12s 6ms/step - loss: 6.6079e-06\n",
            "Epoch 72/100\n",
            "2066/2066 [==============================] - 12s 6ms/step - loss: 6.6587e-06\n",
            "Epoch 73/100\n",
            "2066/2066 [==============================] - 12s 6ms/step - loss: 6.6201e-06\n",
            "Epoch 74/100\n",
            "2066/2066 [==============================] - 12s 6ms/step - loss: 6.5782e-06\n",
            "Epoch 75/100\n",
            "2066/2066 [==============================] - 12s 6ms/step - loss: 6.6024e-06\n",
            "Epoch 76/100\n",
            "2066/2066 [==============================] - 12s 6ms/step - loss: 6.5509e-06\n",
            "Epoch 77/100\n",
            "2066/2066 [==============================] - 12s 6ms/step - loss: 6.6403e-06\n",
            "Epoch 78/100\n",
            "2066/2066 [==============================] - 12s 6ms/step - loss: 6.4682e-06\n",
            "Epoch 79/100\n",
            "2066/2066 [==============================] - 12s 6ms/step - loss: 6.5795e-06\n",
            "Epoch 80/100\n",
            "2066/2066 [==============================] - 12s 6ms/step - loss: 6.6506e-06\n",
            "Epoch 81/100\n",
            "2066/2066 [==============================] - 12s 6ms/step - loss: 6.6575e-06\n",
            "Epoch 82/100\n",
            "2066/2066 [==============================] - 12s 6ms/step - loss: 6.5492e-06\n",
            "Epoch 83/100\n",
            "2066/2066 [==============================] - 12s 6ms/step - loss: 6.5686e-06\n",
            "Epoch 84/100\n",
            "2066/2066 [==============================] - 12s 6ms/step - loss: 6.6292e-06\n",
            "Epoch 85/100\n",
            "2066/2066 [==============================] - 12s 6ms/step - loss: 6.5487e-06\n",
            "Epoch 86/100\n",
            "2066/2066 [==============================] - 12s 6ms/step - loss: 6.5780e-06\n",
            "Epoch 87/100\n",
            "2066/2066 [==============================] - 12s 6ms/step - loss: 6.5144e-06\n",
            "Epoch 88/100\n",
            "2066/2066 [==============================] - 12s 6ms/step - loss: 6.5452e-06\n",
            "Epoch 89/100\n",
            "2066/2066 [==============================] - 12s 6ms/step - loss: 6.5357e-06\n",
            "Epoch 90/100\n",
            "2066/2066 [==============================] - 12s 6ms/step - loss: 6.5423e-06\n",
            "Epoch 91/100\n",
            "2066/2066 [==============================] - 12s 6ms/step - loss: 6.5832e-06\n",
            "Epoch 92/100\n",
            "2066/2066 [==============================] - 12s 6ms/step - loss: 6.4435e-06\n",
            "Epoch 93/100\n",
            "2066/2066 [==============================] - 12s 6ms/step - loss: 6.5549e-06\n",
            "Epoch 94/100\n",
            "2066/2066 [==============================] - 12s 6ms/step - loss: 6.6088e-06\n",
            "Epoch 95/100\n",
            "2066/2066 [==============================] - 12s 6ms/step - loss: 6.5062e-06\n",
            "Epoch 96/100\n",
            "2066/2066 [==============================] - 12s 6ms/step - loss: 6.5138e-06\n",
            "Epoch 97/100\n",
            "2066/2066 [==============================] - 12s 6ms/step - loss: 6.6199e-06\n",
            "Epoch 98/100\n",
            "2066/2066 [==============================] - 12s 6ms/step - loss: 6.5063e-06\n",
            "Epoch 99/100\n",
            "2066/2066 [==============================] - 12s 6ms/step - loss: 6.5671e-06\n",
            "Epoch 100/100\n",
            "2066/2066 [==============================] - 12s 6ms/step - loss: 6.4766e-06\n",
            "CPU times: user 24min 44s, sys: 1min 57s, total: 26min 41s\n",
            "Wall time: 19min 42s\n"
          ]
        },
        {
          "output_type": "execute_result",
          "data": {
            "text/plain": [
              "<keras.src.callbacks.History at 0x7f6ee4379b40>"
            ]
          },
          "metadata": {},
          "execution_count": 63
        }
      ]
    },
    {
      "cell_type": "code",
      "source": [
        "x_test = valid_ds.values\n",
        "x_test = scaler_train.transform(x_test)"
      ],
      "metadata": {
        "id": "APJOJ7ne8wXJ"
      },
      "execution_count": 64,
      "outputs": []
    },
    {
      "cell_type": "code",
      "source": [
        "X_test = []\n",
        "for i in range(time_step,len(x_test)):\n",
        "    X_test.append(x_test[i-time_step:i,0])\n",
        "\n",
        "X_test = np.array( X_test )\n",
        "X_test = np.reshape(X_test, (X_test.shape[0],X_test.shape[1],1))"
      ],
      "metadata": {
        "id": "naFlwFRY86tF"
      },
      "execution_count": 65,
      "outputs": []
    },
    {
      "cell_type": "code",
      "source": [
        "X_test.shape, valid_ds.shape"
      ],
      "metadata": {
        "colab": {
          "base_uri": "https://localhost:8080/"
        },
        "id": "n7n2PoxEn2Dl",
        "outputId": "e28cf14f-ecab-45b4-f44d-b0bc05ba5a8a"
      },
      "execution_count": 66,
      "outputs": [
        {
          "output_type": "execute_result",
          "data": {
            "text/plain": [
              "((38821, 100, 1), (38921, 1))"
            ]
          },
          "metadata": {},
          "execution_count": 66
        }
      ]
    },
    {
      "cell_type": "code",
      "source": [
        "prediccion = modelo.predict(X_test)\n",
        "prediccion = scaler_train.inverse_transform(prediccion)"
      ],
      "metadata": {
        "colab": {
          "base_uri": "https://localhost:8080/"
        },
        "id": "mjXfpjrBn2BK",
        "outputId": "4acca80c-3f9c-4f76-a717-e09e897f00ff"
      },
      "execution_count": 67,
      "outputs": [
        {
          "output_type": "stream",
          "name": "stdout",
          "text": [
            "1214/1214 [==============================] - 4s 3ms/step\n"
          ]
        }
      ]
    },
    {
      "cell_type": "code",
      "source": [
        "df_prediccion = pd.DataFrame(prediccion, index=valid_ds.index[time_step:], columns=['High'])"
      ],
      "metadata": {
        "id": "QPhG2o7An1-7"
      },
      "execution_count": 68,
      "outputs": []
    },
    {
      "cell_type": "code",
      "source": [
        "df_prediccion['High'][0]"
      ],
      "metadata": {
        "colab": {
          "base_uri": "https://localhost:8080/"
        },
        "id": "ltvvWjp2n--C",
        "outputId": "82bf14e2-03ec-465b-b320-cfdba7454b4a"
      },
      "execution_count": 69,
      "outputs": [
        {
          "output_type": "execute_result",
          "data": {
            "text/plain": [
              "2282.9316"
            ]
          },
          "metadata": {},
          "execution_count": 69
        }
      ]
    },
    {
      "cell_type": "code",
      "source": [
        "fig=plt.figure(figsize=(50,3))\n",
        "\n",
        "ax1 = fig.add_subplot(1,3,1)\n",
        "ax1.set_title(\"Predicción\\nHIGH\")\n",
        "ax1.plot( valid_ds.high, marker = '+', linewidth = 0 )\n",
        "ax1.plot( df_prediccion['High'], marker = '.', linewidth = 0 )\n",
        "plt.legend(['real','prediccion'])\n",
        "plt.grid(True)\n",
        "plt.show()"
      ],
      "metadata": {
        "colab": {
          "base_uri": "https://localhost:8080/",
          "height": 334
        },
        "id": "p5EWCaydoBZN",
        "outputId": "d8d735db-f62b-4b1f-886b-89eb8f473cf0"
      },
      "execution_count": 70,
      "outputs": [
        {
          "output_type": "display_data",
          "data": {
            "text/plain": [
              "<Figure size 5000x300 with 1 Axes>"
            ],
            "image/png": "[encoded data removed]"
          },
          "metadata": {}
        }
      ]
    },
    {
      "cell_type": "code",
      "source": [
        "fig, ax = plt.subplots(figsize=(10, 6))\n",
        "# Graficar los datos de train_ds\n",
        "ax.plot(train_ds.index, train_ds.high, label='Train Data', marker='+', linestyle='-', color='blue')\n",
        "# Graficar los datos de valid_ds\n",
        "ax.plot(valid_ds.index, valid_ds.high, label='Validacion', marker='.', linestyle='-', color='red')\n",
        "# Graficar los datos de df_prediccion\n",
        "ax.plot(df_prediccion.index, df_prediccion['High'], label='Predicción', marker='.', linestyle='-', color='orange')\n",
        "\n",
        "ax.set_title('Datos de Entrenamiento, Validacion y Predicción')\n",
        "ax.legend()\n",
        "ax.grid(True)\n",
        "plt.show()"
      ],
      "metadata": {
        "colab": {
          "base_uri": "https://localhost:8080/",
          "height": 545
        },
        "id": "5kM3HFRqjjgX",
        "outputId": "dfb524b8-748d-40d8-c0fb-09064d0a79a7"
      },
      "execution_count": 71,
      "outputs": [
        {
          "output_type": "display_data",
          "data": {
            "text/plain": [
              "<Figure size 1000x600 with 1 Axes>"
            ],
            "image/png": "[encoded data removed]"
          },
          "metadata": {}
        }
      ]
    },
    {
      "cell_type": "code",
      "source": [
        "maximo = None\n",
        "minimo_valor = None\n",
        "for i in range(df_prediccion.shape[0]):\n",
        "  diferencia = np.abs(valid_ds.high[i+time_step] - df_prediccion['High'][i])\n",
        "  if( maximo == None ):\n",
        "    maximo = diferencia\n",
        "    minimo_valor = diferencia\n",
        "  else:\n",
        "    if diferencia  > maximo:\n",
        "      maximo = diferencia\n",
        "    else:\n",
        "      if diferencia  < minimo_valor:\n",
        "        minimo_valor = diferencia\n",
        "\n",
        "print(\"La diferencia máxima es \",maximo)\n",
        "print(\"La diferencia mínima es \",minimo_valor)"
      ],
      "metadata": {
        "colab": {
          "base_uri": "https://localhost:8080/"
        },
        "id": "eAbRIHXdoIys",
        "outputId": "79d12609-b2a2-4da2-b835-6725650838de"
      },
      "execution_count": 72,
      "outputs": [
        {
          "output_type": "stream",
          "name": "stdout",
          "text": [
            "La diferencia máxima es  370.73089843749995\n",
            "La diferencia mínima es  0.001396484375163709\n"
          ]
        }
      ]
    },
    {
      "cell_type": "code",
      "source": [
        "modelo.save(\"/content/drive/My Drive/PrediccionCriptos/modelo_final_v3.h5\")"
      ],
      "metadata": {
        "id": "UB3ojO2ZpVpg"
      },
      "execution_count": 73,
      "outputs": []
    },
    {
      "cell_type": "code",
      "source": [],
      "metadata": {
        "id": "62y182bOpv9-"
      },
      "execution_count": 37,
      "outputs": []
    }
  ]
}