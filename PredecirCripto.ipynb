{
  "nbformat": 4,
  "nbformat_minor": 0,
  "metadata": {
    "colab": {
      "provenance": []
    },
    "kernelspec": {
      "name": "python3",
      "display_name": "Python 3"
    },
    "language_info": {
      "name": "python"
    }
  },
  "cells": [
    {
      "cell_type": "code",
      "source": [
        "import os\n",
        "import pandas as pd\n",
        "import numpy as np\n",
        "import seaborn as sns\n",
        "import matplotlib.pyplot as plt\n",
        "\n",
        "import tensorflow as tf\n",
        "from tensorflow import keras\n",
        "\n",
        "from sklearn.preprocessing import MinMaxScaler\n",
        "\n",
        "from keras.models import Sequential\n",
        "from keras.layers import LSTM, Dense\n",
        "\n",
        "import warnings\n",
        "warnings.filterwarnings(\"ignore\")\n"
      ],
      "metadata": {
        "id": "c2C8oEiwMygw"
      },
      "execution_count": 120,
      "outputs": []
    },
    {
      "cell_type": "code",
      "source": [
        "from google.colab import drive\n",
        "drive.mount('/content/drive')"
      ],
      "metadata": {
        "id": "_eINRAiIY7hp",
        "colab": {
          "base_uri": "https://localhost:8080/"
        },
        "outputId": "42abe04e-abb1-4bd5-cd66-eccb167ceb6a"
      },
      "execution_count": 78,
      "outputs": [
        {
          "output_type": "stream",
          "name": "stdout",
          "text": [
            "Drive already mounted at /content/drive; to attempt to forcibly remount, call drive.mount(\"/content/drive\", force_remount=True).\n"
          ]
        }
      ]
    },
    {
      "cell_type": "code",
      "source": [
        "carpeta = '/content/drive/My Drive/PrediccionCriptos'\n",
        "archivos = os.listdir(carpeta)\n",
        "print(archivos)"
      ],
      "metadata": {
        "colab": {
          "base_uri": "https://localhost:8080/"
        },
        "id": "G8IUA0g3bC7K",
        "outputId": "fc0f6709-7b24-4d13-9f92-24a1a6b99919"
      },
      "execution_count": 92,
      "outputs": [
        {
          "output_type": "stream",
          "name": "stdout",
          "text": [
            "['ETH-500.parquet', 'PredecirCripto.ipynb', 'ETH-1000-5m.parquet', 'ETH-1000.parquet', 'ETH-1-Year-5min.parquet']\n"
          ]
        }
      ]
    },
    {
      "cell_type": "code",
      "source": [
        "data_path = '/content/drive/My Drive/PrediccionCriptos/ETH-1-Year-5min.parquet'\n",
        "eth_df = pd.read_parquet(data_path)\n",
        "eth_df.shape"
      ],
      "metadata": {
        "colab": {
          "base_uri": "https://localhost:8080/"
        },
        "id": "uFrpYRKMcKkT",
        "outputId": "a991d13c-0b6f-4e40-e39a-73062ffb759b"
      },
      "execution_count": 94,
      "outputs": [
        {
          "output_type": "execute_result",
          "data": {
            "text/plain": [
              "(105121, 6)"
            ]
          },
          "metadata": {},
          "execution_count": 94
        }
      ]
    },
    {
      "cell_type": "code",
      "source": [
        "eth_df['timestamp'] = pd.to_datetime(eth_df['timestamp'])\n",
        "eth_df.set_index('timestamp', inplace=True)"
      ],
      "metadata": {
        "id": "SNL8jl52l_jO"
      },
      "execution_count": 95,
      "outputs": []
    },
    {
      "cell_type": "code",
      "source": [
        "eth_df.head()"
      ],
      "metadata": {
        "colab": {
          "base_uri": "https://localhost:8080/",
          "height": 238
        },
        "id": "kvnA5MbgcY4j",
        "outputId": "927c677f-0a0d-4b05-d7d0-5543187878c2"
      },
      "execution_count": 96,
      "outputs": [
        {
          "output_type": "execute_result",
          "data": {
            "text/plain": [
              "                        open     high      low    close     volume\n",
              "timestamp                                                         \n",
              "2023-05-11 03:35:00  1825.75  1828.76  1825.74  1827.73  1235.6817\n",
              "2023-05-11 03:40:00  1827.73  1828.46  1827.31  1828.14   576.1996\n",
              "2023-05-11 03:45:00  1828.15  1828.37  1826.51  1827.21  1135.1665\n",
              "2023-05-11 03:50:00  1827.22  1827.54  1825.74  1826.34   741.7727\n",
              "2023-05-11 03:55:00  1826.34  1827.61  1825.60  1827.61   651.9522"
            ],
            "text/html": [
              "\n",
              "  <div id=\"df-53b5f506-8e99-40b5-9d80-81395602fccc\" class=\"colab-df-container\">\n",
              "    <div>\n",
              "<style scoped>\n",
              "    .dataframe tbody tr th:only-of-type {\n",
              "        vertical-align: middle;\n",
              "    }\n",
              "\n",
              "    .dataframe tbody tr th {\n",
              "        vertical-align: top;\n",
              "    }\n",
              "\n",
              "    .dataframe thead th {\n",
              "        text-align: right;\n",
              "    }\n",
              "</style>\n",
              "<table border=\"1\" class=\"dataframe\">\n",
              "  <thead>\n",
              "    <tr style=\"text-align: right;\">\n",
              "      <th></th>\n",
              "      <th>open</th>\n",
              "      <th>high</th>\n",
              "      <th>low</th>\n",
              "      <th>close</th>\n",
              "      <th>volume</th>\n",
              "    </tr>\n",
              "    <tr>\n",
              "      <th>timestamp</th>\n",
              "      <th></th>\n",
              "      <th></th>\n",
              "      <th></th>\n",
              "      <th></th>\n",
              "      <th></th>\n",
              "    </tr>\n",
              "  </thead>\n",
              "  <tbody>\n",
              "    <tr>\n",
              "      <th>2023-05-11 03:35:00</th>\n",
              "      <td>1825.75</td>\n",
              "      <td>1828.76</td>\n",
              "      <td>1825.74</td>\n",
              "      <td>1827.73</td>\n",
              "      <td>1235.6817</td>\n",
              "    </tr>\n",
              "    <tr>\n",
              "      <th>2023-05-11 03:40:00</th>\n",
              "      <td>1827.73</td>\n",
              "      <td>1828.46</td>\n",
              "      <td>1827.31</td>\n",
              "      <td>1828.14</td>\n",
              "      <td>576.1996</td>\n",
              "    </tr>\n",
              "    <tr>\n",
              "      <th>2023-05-11 03:45:00</th>\n",
              "      <td>1828.15</td>\n",
              "      <td>1828.37</td>\n",
              "      <td>1826.51</td>\n",
              "      <td>1827.21</td>\n",
              "      <td>1135.1665</td>\n",
              "    </tr>\n",
              "    <tr>\n",
              "      <th>2023-05-11 03:50:00</th>\n",
              "      <td>1827.22</td>\n",
              "      <td>1827.54</td>\n",
              "      <td>1825.74</td>\n",
              "      <td>1826.34</td>\n",
              "      <td>741.7727</td>\n",
              "    </tr>\n",
              "    <tr>\n",
              "      <th>2023-05-11 03:55:00</th>\n",
              "      <td>1826.34</td>\n",
              "      <td>1827.61</td>\n",
              "      <td>1825.60</td>\n",
              "      <td>1827.61</td>\n",
              "      <td>651.9522</td>\n",
              "    </tr>\n",
              "  </tbody>\n",
              "</table>\n",
              "</div>\n",
              "    <div class=\"colab-df-buttons\">\n",
              "\n",
              "  <div class=\"colab-df-container\">\n",
              "    <button class=\"colab-df-convert\" onclick=\"convertToInteractive('df-53b5f506-8e99-40b5-9d80-81395602fccc')\"\n",
              "            title=\"Convert this dataframe to an interactive table.\"\n",
              "            style=\"display:none;\">\n",
              "\n",
              "  <svg xmlns=\"http://www.w3.org/2000/svg\" height=\"24px\" viewBox=\"0 -960 960 960\">\n",
              "    <path d=\"M120-120v-720h720v720H120Zm60-500h600v-160H180v160Zm220 220h160v-160H400v160Zm0 220h160v-160H400v160ZM180-400h160v-160H180v160Zm440 0h160v-160H620v160ZM180-180h160v-160H180v160Zm440 0h160v-160H620v160Z\"/>\n",
              "  </svg>\n",
              "    </button>\n",
              "\n",
              "  <style>\n",
              "    .colab-df-container {\n",
              "      display:flex;\n",
              "      gap: 12px;\n",
              "    }\n",
              "\n",
              "    .colab-df-convert {\n",
              "      background-color: #E8F0FE;\n",
              "      border: none;\n",
              "      border-radius: 50%;\n",
              "      cursor: pointer;\n",
              "      display: none;\n",
              "      fill: #1967D2;\n",
              "      height: 32px;\n",
              "      padding: 0 0 0 0;\n",
              "      width: 32px;\n",
              "    }\n",
              "\n",
              "    .colab-df-convert:hover {\n",
              "      background-color: #E2EBFA;\n",
              "      box-shadow: 0px 1px 2px rgba(60, 64, 67, 0.3), 0px 1px 3px 1px rgba(60, 64, 67, 0.15);\n",
              "      fill: #174EA6;\n",
              "    }\n",
              "\n",
              "    .colab-df-buttons div {\n",
              "      margin-bottom: 4px;\n",
              "    }\n",
              "\n",
              "    [theme=dark] .colab-df-convert {\n",
              "      background-color: #3B4455;\n",
              "      fill: #D2E3FC;\n",
              "    }\n",
              "\n",
              "    [theme=dark] .colab-df-convert:hover {\n",
              "      background-color: #434B5C;\n",
              "      box-shadow: 0px 1px 3px 1px rgba(0, 0, 0, 0.15);\n",
              "      filter: drop-shadow(0px 1px 2px rgba(0, 0, 0, 0.3));\n",
              "      fill: #FFFFFF;\n",
              "    }\n",
              "  </style>\n",
              "\n",
              "    <script>\n",
              "      const buttonEl =\n",
              "        document.querySelector('#df-53b5f506-8e99-40b5-9d80-81395602fccc button.colab-df-convert');\n",
              "      buttonEl.style.display =\n",
              "        google.colab.kernel.accessAllowed ? 'block' : 'none';\n",
              "\n",
              "      async function convertToInteractive(key) {\n",
              "        const element = document.querySelector('#df-53b5f506-8e99-40b5-9d80-81395602fccc');\n",
              "        const dataTable =\n",
              "          await google.colab.kernel.invokeFunction('convertToInteractive',\n",
              "                                                    [key], {});\n",
              "        if (!dataTable) return;\n",
              "\n",
              "        const docLinkHtml = 'Like what you see? Visit the ' +\n",
              "          '<a target=\"_blank\" href=https://colab.research.google.com/notebooks/data_table.ipynb>data table notebook</a>'\n",
              "          + ' to learn more about interactive tables.';\n",
              "        element.innerHTML = '';\n",
              "        dataTable['output_type'] = 'display_data';\n",
              "        await google.colab.output.renderOutput(dataTable, element);\n",
              "        const docLink = document.createElement('div');\n",
              "        docLink.innerHTML = docLinkHtml;\n",
              "        element.appendChild(docLink);\n",
              "      }\n",
              "    </script>\n",
              "  </div>\n",
              "\n",
              "\n",
              "<div id=\"df-c77a88c8-2173-4c4d-9a8e-aa81a8712e73\">\n",
              "  <button class=\"colab-df-quickchart\" onclick=\"quickchart('df-c77a88c8-2173-4c4d-9a8e-aa81a8712e73')\"\n",
              "            title=\"Suggest charts\"\n",
              "            style=\"display:none;\">\n",
              "\n",
              "<svg xmlns=\"http://www.w3.org/2000/svg\" height=\"24px\"viewBox=\"0 0 24 24\"\n",
              "     width=\"24px\">\n",
              "    <g>\n",
              "        <path d=\"M19 3H5c-1.1 0-2 .9-2 2v14c0 1.1.9 2 2 2h14c1.1 0 2-.9 2-2V5c0-1.1-.9-2-2-2zM9 17H7v-7h2v7zm4 0h-2V7h2v10zm4 0h-2v-4h2v4z\"/>\n",
              "    </g>\n",
              "</svg>\n",
              "  </button>\n",
              "\n",
              "<style>\n",
              "  .colab-df-quickchart {\n",
              "      --bg-color: #E8F0FE;\n",
              "      --fill-color: #1967D2;\n",
              "      --hover-bg-color: #E2EBFA;\n",
              "      --hover-fill-color: #174EA6;\n",
              "      --disabled-fill-color: #AAA;\n",
              "      --disabled-bg-color: #DDD;\n",
              "  }\n",
              "\n",
              "  [theme=dark] .colab-df-quickchart {\n",
              "      --bg-color: #3B4455;\n",
              "      --fill-color: #D2E3FC;\n",
              "      --hover-bg-color: #434B5C;\n",
              "      --hover-fill-color: #FFFFFF;\n",
              "      --disabled-bg-color: #3B4455;\n",
              "      --disabled-fill-color: #666;\n",
              "  }\n",
              "\n",
              "  .colab-df-quickchart {\n",
              "    background-color: var(--bg-color);\n",
              "    border: none;\n",
              "    border-radius: 50%;\n",
              "    cursor: pointer;\n",
              "    display: none;\n",
              "    fill: var(--fill-color);\n",
              "    height: 32px;\n",
              "    padding: 0;\n",
              "    width: 32px;\n",
              "  }\n",
              "\n",
              "  .colab-df-quickchart:hover {\n",
              "    background-color: var(--hover-bg-color);\n",
              "    box-shadow: 0 1px 2px rgba(60, 64, 67, 0.3), 0 1px 3px 1px rgba(60, 64, 67, 0.15);\n",
              "    fill: var(--button-hover-fill-color);\n",
              "  }\n",
              "\n",
              "  .colab-df-quickchart-complete:disabled,\n",
              "  .colab-df-quickchart-complete:disabled:hover {\n",
              "    background-color: var(--disabled-bg-color);\n",
              "    fill: var(--disabled-fill-color);\n",
              "    box-shadow: none;\n",
              "  }\n",
              "\n",
              "  .colab-df-spinner {\n",
              "    border: 2px solid var(--fill-color);\n",
              "    border-color: transparent;\n",
              "    border-bottom-color: var(--fill-color);\n",
              "    animation:\n",
              "      spin 1s steps(1) infinite;\n",
              "  }\n",
              "\n",
              "  @keyframes spin {\n",
              "    0% {\n",
              "      border-color: transparent;\n",
              "      border-bottom-color: var(--fill-color);\n",
              "      border-left-color: var(--fill-color);\n",
              "    }\n",
              "    20% {\n",
              "      border-color: transparent;\n",
              "      border-left-color: var(--fill-color);\n",
              "      border-top-color: var(--fill-color);\n",
              "    }\n",
              "    30% {\n",
              "      border-color: transparent;\n",
              "      border-left-color: var(--fill-color);\n",
              "      border-top-color: var(--fill-color);\n",
              "      border-right-color: var(--fill-color);\n",
              "    }\n",
              "    40% {\n",
              "      border-color: transparent;\n",
              "      border-right-color: var(--fill-color);\n",
              "      border-top-color: var(--fill-color);\n",
              "    }\n",
              "    60% {\n",
              "      border-color: transparent;\n",
              "      border-right-color: var(--fill-color);\n",
              "    }\n",
              "    80% {\n",
              "      border-color: transparent;\n",
              "      border-right-color: var(--fill-color);\n",
              "      border-bottom-color: var(--fill-color);\n",
              "    }\n",
              "    90% {\n",
              "      border-color: transparent;\n",
              "      border-bottom-color: var(--fill-color);\n",
              "    }\n",
              "  }\n",
              "</style>\n",
              "\n",
              "  <script>\n",
              "    async function quickchart(key) {\n",
              "      const quickchartButtonEl =\n",
              "        document.querySelector('#' + key + ' button');\n",
              "      quickchartButtonEl.disabled = true;  // To prevent multiple clicks.\n",
              "      quickchartButtonEl.classList.add('colab-df-spinner');\n",
              "      try {\n",
              "        const charts = await google.colab.kernel.invokeFunction(\n",
              "            'suggestCharts', [key], {});\n",
              "      } catch (error) {\n",
              "        console.error('Error during call to suggestCharts:', error);\n",
              "      }\n",
              "      quickchartButtonEl.classList.remove('colab-df-spinner');\n",
              "      quickchartButtonEl.classList.add('colab-df-quickchart-complete');\n",
              "    }\n",
              "    (() => {\n",
              "      let quickchartButtonEl =\n",
              "        document.querySelector('#df-c77a88c8-2173-4c4d-9a8e-aa81a8712e73 button');\n",
              "      quickchartButtonEl.style.display =\n",
              "        google.colab.kernel.accessAllowed ? 'block' : 'none';\n",
              "    })();\n",
              "  </script>\n",
              "</div>\n",
              "\n",
              "    </div>\n",
              "  </div>\n"
            ],
            "application/vnd.google.colaboratory.intrinsic+json": {
              "type": "dataframe",
              "variable_name": "eth_df"
            }
          },
          "metadata": {},
          "execution_count": 96
        }
      ]
    },
    {
      "cell_type": "code",
      "source": [
        "fig=plt.figure(figsize=(50,3))\n",
        "\n",
        "ax1 = fig.add_subplot(1,3,1)\n",
        "ax1.set_title(\"Dataset completo\\nOpen\")\n",
        "ax1.plot(eth_df.high,marker='.',linewidth=0)\n",
        "plt.grid(True)\n",
        "plt.show()"
      ],
      "metadata": {
        "colab": {
          "base_uri": "https://localhost:8080/",
          "height": 334
        },
        "id": "6cotIjE7c3x2",
        "outputId": "dcc6d27a-a649-428b-e46d-d7e820376ef5"
      },
      "execution_count": 97,
      "outputs": [
        {
          "output_type": "display_data",
          "data": {
            "text/plain": [
              "<Figure size 5000x300 with 1 Axes>"
            ],
            "image/png": "[encoded data removed]"
          },
          "metadata": {}
        }
      ]
    },
    {
      "cell_type": "code",
      "source": [
        "eth_df.describe()"
      ],
      "metadata": {
        "colab": {
          "base_uri": "https://localhost:8080/",
          "height": 300
        },
        "id": "0x-lWVaxdhQs",
        "outputId": "08cc42d8-5096-4155-dde1-f0a5df765b11"
      },
      "execution_count": 98,
      "outputs": [
        {
          "output_type": "execute_result",
          "data": {
            "text/plain": [
              "                open           high            low          close  \\\n",
              "count  105121.000000  105121.000000  105121.000000  105121.000000   \n",
              "mean     2262.597604    2264.738952    2260.340998    2262.609011   \n",
              "std       650.850029     652.198323     649.398173     650.852876   \n",
              "min      1524.220000    1526.760000    1521.000000    1524.220000   \n",
              "25%      1804.640000    1805.880000    1803.350000    1804.630000   \n",
              "50%      1958.220000    1959.960000    1956.600000    1958.250000   \n",
              "75%      2547.050000    2549.430000    2544.140000    2547.050000   \n",
              "max      4091.810000    4093.920000    4085.720000    4091.810000   \n",
              "\n",
              "              volume  \n",
              "count  105121.000000  \n",
              "mean     1214.105143  \n",
              "std      1749.056705  \n",
              "min        30.746300  \n",
              "25%       407.477400  \n",
              "50%       726.225700  \n",
              "75%      1338.252200  \n",
              "max     52372.648700  "
            ],
            "text/html": [
              "\n",
              "  <div id=\"df-b46fd50f-4067-4995-a15d-bda13b56e78a\" class=\"colab-df-container\">\n",
              "    <div>\n",
              "<style scoped>\n",
              "    .dataframe tbody tr th:only-of-type {\n",
              "        vertical-align: middle;\n",
              "    }\n",
              "\n",
              "    .dataframe tbody tr th {\n",
              "        vertical-align: top;\n",
              "    }\n",
              "\n",
              "    .dataframe thead th {\n",
              "        text-align: right;\n",
              "    }\n",
              "</style>\n",
              "<table border=\"1\" class=\"dataframe\">\n",
              "  <thead>\n",
              "    <tr style=\"text-align: right;\">\n",
              "      <th></th>\n",
              "      <th>open</th>\n",
              "      <th>high</th>\n",
              "      <th>low</th>\n",
              "      <th>close</th>\n",
              "      <th>volume</th>\n",
              "    </tr>\n",
              "  </thead>\n",
              "  <tbody>\n",
              "    <tr>\n",
              "      <th>count</th>\n",
              "      <td>105121.000000</td>\n",
              "      <td>105121.000000</td>\n",
              "      <td>105121.000000</td>\n",
              "      <td>105121.000000</td>\n",
              "      <td>105121.000000</td>\n",
              "    </tr>\n",
              "    <tr>\n",
              "      <th>mean</th>\n",
              "      <td>2262.597604</td>\n",
              "      <td>2264.738952</td>\n",
              "      <td>2260.340998</td>\n",
              "      <td>2262.609011</td>\n",
              "      <td>1214.105143</td>\n",
              "    </tr>\n",
              "    <tr>\n",
              "      <th>std</th>\n",
              "      <td>650.850029</td>\n",
              "      <td>652.198323</td>\n",
              "      <td>649.398173</td>\n",
              "      <td>650.852876</td>\n",
              "      <td>1749.056705</td>\n",
              "    </tr>\n",
              "    <tr>\n",
              "      <th>min</th>\n",
              "      <td>1524.220000</td>\n",
              "      <td>1526.760000</td>\n",
              "      <td>1521.000000</td>\n",
              "      <td>1524.220000</td>\n",
              "      <td>30.746300</td>\n",
              "    </tr>\n",
              "    <tr>\n",
              "      <th>25%</th>\n",
              "      <td>1804.640000</td>\n",
              "      <td>1805.880000</td>\n",
              "      <td>1803.350000</td>\n",
              "      <td>1804.630000</td>\n",
              "      <td>407.477400</td>\n",
              "    </tr>\n",
              "    <tr>\n",
              "      <th>50%</th>\n",
              "      <td>1958.220000</td>\n",
              "      <td>1959.960000</td>\n",
              "      <td>1956.600000</td>\n",
              "      <td>1958.250000</td>\n",
              "      <td>726.225700</td>\n",
              "    </tr>\n",
              "    <tr>\n",
              "      <th>75%</th>\n",
              "      <td>2547.050000</td>\n",
              "      <td>2549.430000</td>\n",
              "      <td>2544.140000</td>\n",
              "      <td>2547.050000</td>\n",
              "      <td>1338.252200</td>\n",
              "    </tr>\n",
              "    <tr>\n",
              "      <th>max</th>\n",
              "      <td>4091.810000</td>\n",
              "      <td>4093.920000</td>\n",
              "      <td>4085.720000</td>\n",
              "      <td>4091.810000</td>\n",
              "      <td>52372.648700</td>\n",
              "    </tr>\n",
              "  </tbody>\n",
              "</table>\n",
              "</div>\n",
              "    <div class=\"colab-df-buttons\">\n",
              "\n",
              "  <div class=\"colab-df-container\">\n",
              "    <button class=\"colab-df-convert\" onclick=\"convertToInteractive('df-b46fd50f-4067-4995-a15d-bda13b56e78a')\"\n",
              "            title=\"Convert this dataframe to an interactive table.\"\n",
              "            style=\"display:none;\">\n",
              "\n",
              "  <svg xmlns=\"http://www.w3.org/2000/svg\" height=\"24px\" viewBox=\"0 -960 960 960\">\n",
              "    <path d=\"M120-120v-720h720v720H120Zm60-500h600v-160H180v160Zm220 220h160v-160H400v160Zm0 220h160v-160H400v160ZM180-400h160v-160H180v160Zm440 0h160v-160H620v160ZM180-180h160v-160H180v160Zm440 0h160v-160H620v160Z\"/>\n",
              "  </svg>\n",
              "    </button>\n",
              "\n",
              "  <style>\n",
              "    .colab-df-container {\n",
              "      display:flex;\n",
              "      gap: 12px;\n",
              "    }\n",
              "\n",
              "    .colab-df-convert {\n",
              "      background-color: #E8F0FE;\n",
              "      border: none;\n",
              "      border-radius: 50%;\n",
              "      cursor: pointer;\n",
              "      display: none;\n",
              "      fill: #1967D2;\n",
              "      height: 32px;\n",
              "      padding: 0 0 0 0;\n",
              "      width: 32px;\n",
              "    }\n",
              "\n",
              "    .colab-df-convert:hover {\n",
              "      background-color: #E2EBFA;\n",
              "      box-shadow: 0px 1px 2px rgba(60, 64, 67, 0.3), 0px 1px 3px 1px rgba(60, 64, 67, 0.15);\n",
              "      fill: #174EA6;\n",
              "    }\n",
              "\n",
              "    .colab-df-buttons div {\n",
              "      margin-bottom: 4px;\n",
              "    }\n",
              "\n",
              "    [theme=dark] .colab-df-convert {\n",
              "      background-color: #3B4455;\n",
              "      fill: #D2E3FC;\n",
              "    }\n",
              "\n",
              "    [theme=dark] .colab-df-convert:hover {\n",
              "      background-color: #434B5C;\n",
              "      box-shadow: 0px 1px 3px 1px rgba(0, 0, 0, 0.15);\n",
              "      filter: drop-shadow(0px 1px 2px rgba(0, 0, 0, 0.3));\n",
              "      fill: #FFFFFF;\n",
              "    }\n",
              "  </style>\n",
              "\n",
              "    <script>\n",
              "      const buttonEl =\n",
              "        document.querySelector('#df-b46fd50f-4067-4995-a15d-bda13b56e78a button.colab-df-convert');\n",
              "      buttonEl.style.display =\n",
              "        google.colab.kernel.accessAllowed ? 'block' : 'none';\n",
              "\n",
              "      async function convertToInteractive(key) {\n",
              "        const element = document.querySelector('#df-b46fd50f-4067-4995-a15d-bda13b56e78a');\n",
              "        const dataTable =\n",
              "          await google.colab.kernel.invokeFunction('convertToInteractive',\n",
              "                                                    [key], {});\n",
              "        if (!dataTable) return;\n",
              "\n",
              "        const docLinkHtml = 'Like what you see? Visit the ' +\n",
              "          '<a target=\"_blank\" href=https://colab.research.google.com/notebooks/data_table.ipynb>data table notebook</a>'\n",
              "          + ' to learn more about interactive tables.';\n",
              "        element.innerHTML = '';\n",
              "        dataTable['output_type'] = 'display_data';\n",
              "        await google.colab.output.renderOutput(dataTable, element);\n",
              "        const docLink = document.createElement('div');\n",
              "        docLink.innerHTML = docLinkHtml;\n",
              "        element.appendChild(docLink);\n",
              "      }\n",
              "    </script>\n",
              "  </div>\n",
              "\n",
              "\n",
              "<div id=\"df-c65d9b60-5117-440a-941b-dae75b74203d\">\n",
              "  <button class=\"colab-df-quickchart\" onclick=\"quickchart('df-c65d9b60-5117-440a-941b-dae75b74203d')\"\n",
              "            title=\"Suggest charts\"\n",
              "            style=\"display:none;\">\n",
              "\n",
              "<svg xmlns=\"http://www.w3.org/2000/svg\" height=\"24px\"viewBox=\"0 0 24 24\"\n",
              "     width=\"24px\">\n",
              "    <g>\n",
              "        <path d=\"M19 3H5c-1.1 0-2 .9-2 2v14c0 1.1.9 2 2 2h14c1.1 0 2-.9 2-2V5c0-1.1-.9-2-2-2zM9 17H7v-7h2v7zm4 0h-2V7h2v10zm4 0h-2v-4h2v4z\"/>\n",
              "    </g>\n",
              "</svg>\n",
              "  </button>\n",
              "\n",
              "<style>\n",
              "  .colab-df-quickchart {\n",
              "      --bg-color: #E8F0FE;\n",
              "      --fill-color: #1967D2;\n",
              "      --hover-bg-color: #E2EBFA;\n",
              "      --hover-fill-color: #174EA6;\n",
              "      --disabled-fill-color: #AAA;\n",
              "      --disabled-bg-color: #DDD;\n",
              "  }\n",
              "\n",
              "  [theme=dark] .colab-df-quickchart {\n",
              "      --bg-color: #3B4455;\n",
              "      --fill-color: #D2E3FC;\n",
              "      --hover-bg-color: #434B5C;\n",
              "      --hover-fill-color: #FFFFFF;\n",
              "      --disabled-bg-color: #3B4455;\n",
              "      --disabled-fill-color: #666;\n",
              "  }\n",
              "\n",
              "  .colab-df-quickchart {\n",
              "    background-color: var(--bg-color);\n",
              "    border: none;\n",
              "    border-radius: 50%;\n",
              "    cursor: pointer;\n",
              "    display: none;\n",
              "    fill: var(--fill-color);\n",
              "    height: 32px;\n",
              "    padding: 0;\n",
              "    width: 32px;\n",
              "  }\n",
              "\n",
              "  .colab-df-quickchart:hover {\n",
              "    background-color: var(--hover-bg-color);\n",
              "    box-shadow: 0 1px 2px rgba(60, 64, 67, 0.3), 0 1px 3px 1px rgba(60, 64, 67, 0.15);\n",
              "    fill: var(--button-hover-fill-color);\n",
              "  }\n",
              "\n",
              "  .colab-df-quickchart-complete:disabled,\n",
              "  .colab-df-quickchart-complete:disabled:hover {\n",
              "    background-color: var(--disabled-bg-color);\n",
              "    fill: var(--disabled-fill-color);\n",
              "    box-shadow: none;\n",
              "  }\n",
              "\n",
              "  .colab-df-spinner {\n",
              "    border: 2px solid var(--fill-color);\n",
              "    border-color: transparent;\n",
              "    border-bottom-color: var(--fill-color);\n",
              "    animation:\n",
              "      spin 1s steps(1) infinite;\n",
              "  }\n",
              "\n",
              "  @keyframes spin {\n",
              "    0% {\n",
              "      border-color: transparent;\n",
              "      border-bottom-color: var(--fill-color);\n",
              "      border-left-color: var(--fill-color);\n",
              "    }\n",
              "    20% {\n",
              "      border-color: transparent;\n",
              "      border-left-color: var(--fill-color);\n",
              "      border-top-color: var(--fill-color);\n",
              "    }\n",
              "    30% {\n",
              "      border-color: transparent;\n",
              "      border-left-color: var(--fill-color);\n",
              "      border-top-color: var(--fill-color);\n",
              "      border-right-color: var(--fill-color);\n",
              "    }\n",
              "    40% {\n",
              "      border-color: transparent;\n",
              "      border-right-color: var(--fill-color);\n",
              "      border-top-color: var(--fill-color);\n",
              "    }\n",
              "    60% {\n",
              "      border-color: transparent;\n",
              "      border-right-color: var(--fill-color);\n",
              "    }\n",
              "    80% {\n",
              "      border-color: transparent;\n",
              "      border-right-color: var(--fill-color);\n",
              "      border-bottom-color: var(--fill-color);\n",
              "    }\n",
              "    90% {\n",
              "      border-color: transparent;\n",
              "      border-bottom-color: var(--fill-color);\n",
              "    }\n",
              "  }\n",
              "</style>\n",
              "\n",
              "  <script>\n",
              "    async function quickchart(key) {\n",
              "      const quickchartButtonEl =\n",
              "        document.querySelector('#' + key + ' button');\n",
              "      quickchartButtonEl.disabled = true;  // To prevent multiple clicks.\n",
              "      quickchartButtonEl.classList.add('colab-df-spinner');\n",
              "      try {\n",
              "        const charts = await google.colab.kernel.invokeFunction(\n",
              "            'suggestCharts', [key], {});\n",
              "      } catch (error) {\n",
              "        console.error('Error during call to suggestCharts:', error);\n",
              "      }\n",
              "      quickchartButtonEl.classList.remove('colab-df-spinner');\n",
              "      quickchartButtonEl.classList.add('colab-df-quickchart-complete');\n",
              "    }\n",
              "    (() => {\n",
              "      let quickchartButtonEl =\n",
              "        document.querySelector('#df-c65d9b60-5117-440a-941b-dae75b74203d button');\n",
              "      quickchartButtonEl.style.display =\n",
              "        google.colab.kernel.accessAllowed ? 'block' : 'none';\n",
              "    })();\n",
              "  </script>\n",
              "</div>\n",
              "\n",
              "    </div>\n",
              "  </div>\n"
            ],
            "application/vnd.google.colaboratory.intrinsic+json": {
              "type": "dataframe",
              "summary": "{\n  \"name\": \"eth_df\",\n  \"rows\": 8,\n  \"fields\": [\n    {\n      \"column\": \"open\",\n      \"properties\": {\n        \"dtype\": \"number\",\n        \"std\": 36429.581268981834,\n        \"min\": 650.8500288101949,\n        \"max\": 105121.0,\n        \"num_unique_values\": 8,\n        \"samples\": [\n          2262.5976040943297,\n          1958.22,\n          105121.0\n        ],\n        \"semantic_type\": \"\",\n        \"description\": \"\"\n      }\n    },\n    {\n      \"column\": \"high\",\n      \"properties\": {\n        \"dtype\": \"number\",\n        \"std\": 36428.90484775466,\n        \"min\": 652.1983233375433,\n        \"max\": 105121.0,\n        \"num_unique_values\": 8,\n        \"samples\": [\n          2264.7389518745067,\n          1959.96,\n          105121.0\n        ],\n        \"semantic_type\": \"\",\n        \"description\": \"\"\n      }\n    },\n    {\n      \"column\": \"low\",\n      \"properties\": {\n        \"dtype\": \"number\",\n        \"std\": 36430.49772270641,\n        \"min\": 649.3981731208142,\n        \"max\": 105121.0,\n        \"num_unique_values\": 8,\n        \"samples\": [\n          2260.3409976122753,\n          1956.6,\n          105121.0\n        ],\n        \"semantic_type\": \"\",\n        \"description\": \"\"\n      }\n    },\n    {\n      \"column\": \"close\",\n      \"properties\": {\n        \"dtype\": \"number\",\n        \"std\": 36429.57952286459,\n        \"min\": 650.8528759252152,\n        \"max\": 105121.0,\n        \"num_unique_values\": 8,\n        \"samples\": [\n          2262.609010568773,\n          1958.25,\n          105121.0\n        ],\n        \"semantic_type\": \"\",\n        \"description\": \"\"\n      }\n    },\n    {\n      \"column\": \"volume\",\n      \"properties\": {\n        \"dtype\": \"number\",\n        \"std\": 38694.52195347706,\n        \"min\": 30.7463,\n        \"max\": 105121.0,\n        \"num_unique_values\": 8,\n        \"samples\": [\n          1214.1051428220812,\n          726.2257,\n          105121.0\n        ],\n        \"semantic_type\": \"\",\n        \"description\": \"\"\n      }\n    }\n  ]\n}"
            }
          },
          "metadata": {},
          "execution_count": 98
        }
      ]
    },
    {
      "cell_type": "code",
      "source": [
        "duplicates = eth_df[eth_df.duplicated()]\n",
        "duplicates.count()"
      ],
      "metadata": {
        "colab": {
          "base_uri": "https://localhost:8080/"
        },
        "id": "6cjSveR1e7Lq",
        "outputId": "b43bab3f-3741-47ca-aac4-60fdfd3ee105"
      },
      "execution_count": 99,
      "outputs": [
        {
          "output_type": "execute_result",
          "data": {
            "text/plain": [
              "open      0\n",
              "high      0\n",
              "low       0\n",
              "close     0\n",
              "volume    0\n",
              "dtype: int64"
            ]
          },
          "metadata": {},
          "execution_count": 99
        }
      ]
    },
    {
      "cell_type": "code",
      "source": [
        "train_ds = eth_df[:'2023'].iloc[:,1:2]\n",
        "valid_ds = eth_df['2024':].iloc[:,1:2]"
      ],
      "metadata": {
        "id": "EhW1hYvPf-Cl"
      },
      "execution_count": 105,
      "outputs": []
    },
    {
      "cell_type": "code",
      "source": [
        "fig=plt.figure(figsize=(50,3))\n",
        "\n",
        "ax1 = fig.add_subplot(1,3,1)\n",
        "ax1.set_title(\"Dataset entrenamiento\\nHigh\")\n",
        "ax1.plot( train_ds.high, marker = '.', linewidth = 0 )\n",
        "plt.show()"
      ],
      "metadata": {
        "colab": {
          "base_uri": "https://localhost:8080/",
          "height": 334
        },
        "id": "_EaXvvyDllwP",
        "outputId": "1a6bcd5c-22a9-4503-fc4c-5d5ce6842dbd"
      },
      "execution_count": 107,
      "outputs": [
        {
          "output_type": "display_data",
          "data": {
            "text/plain": [
              "<Figure size 5000x300 with 1 Axes>"
            ],
            "image/png": "[encoded data removed]"
          },
          "metadata": {}
        }
      ]
    },
    {
      "cell_type": "code",
      "source": [
        "fig=plt.figure(figsize=(50,3))\n",
        "\n",
        "ax1 = fig.add_subplot(1,3,1)\n",
        "ax1.set_title(\"Dataset validación\\nHigh\")\n",
        "ax1.plot( valid_ds.high, marker = '.', linewidth = 0 )\n",
        "plt.show()"
      ],
      "metadata": {
        "colab": {
          "base_uri": "https://localhost:8080/",
          "height": 334
        },
        "id": "keSOW3ZimHEK",
        "outputId": "50a0bfd7-1703-47fd-dd24-0aa465213c9c"
      },
      "execution_count": 108,
      "outputs": [
        {
          "output_type": "display_data",
          "data": {
            "text/plain": [
              "<Figure size 5000x300 with 1 Axes>"
            ],
            "image/png": "[encoded data removed]"
          },
          "metadata": {}
        }
      ]
    },
    {
      "cell_type": "code",
      "source": [
        "scaler = MinMaxScaler( feature_range = (0,1) )\n",
        "train_ds_escalado = scaler.fit_transform(train_ds)"
      ],
      "metadata": {
        "id": "Sdns_mm4mkEI"
      },
      "execution_count": 111,
      "outputs": []
    },
    {
      "cell_type": "code",
      "source": [
        "time_step = 100  # <-------- parametro: numero de valores a usar para predecir el siguiente\n",
        "X_train = []\n",
        "Y_train = []\n",
        "m = len(train_ds_escalado)\n",
        "\n",
        "for i in range(time_step,m):\n",
        "    # X: bloques de \"time_step\" datos: 0-time_step, 1-time_step+1, 2-time_step+2, etc\n",
        "    X_train.append(train_ds_escalado[i-time_step:i,0])\n",
        "\n",
        "    # Y: el siguiente dato\n",
        "    Y_train.append(train_ds_escalado[i,0])\n",
        "\n",
        "X_train, Y_train = np.array(X_train), np.array(Y_train)"
      ],
      "metadata": {
        "id": "hQfPKEgqmxia"
      },
      "execution_count": 112,
      "outputs": []
    },
    {
      "cell_type": "code",
      "source": [
        "X_train.shape, Y_train.shape"
      ],
      "metadata": {
        "colab": {
          "base_uri": "https://localhost:8080/"
        },
        "id": "-FtmZmRHm_BQ",
        "outputId": "9057425a-9cd4-4c2b-ac3f-b520b19b67e8"
      },
      "execution_count": 113,
      "outputs": [
        {
          "output_type": "execute_result",
          "data": {
            "text/plain": [
              "((67537, 100), (67537,))"
            ]
          },
          "metadata": {},
          "execution_count": 113
        }
      ]
    },
    {
      "cell_type": "code",
      "source": [
        "X_train = np.reshape(X_train, (X_train.shape[0], X_train.shape[1], 1))"
      ],
      "metadata": {
        "id": "xEP8T7n1nFtJ"
      },
      "execution_count": 118,
      "outputs": []
    },
    {
      "cell_type": "code",
      "source": [
        "X_train.shape, Y_train.shape"
      ],
      "metadata": {
        "colab": {
          "base_uri": "https://localhost:8080/"
        },
        "id": "n_LfKsbfnTCR",
        "outputId": "82b9cbc4-5e50-47ea-b0f2-3a8462b00112"
      },
      "execution_count": 119,
      "outputs": [
        {
          "output_type": "execute_result",
          "data": {
            "text/plain": [
              "((67537, 100, 1), (67537,))"
            ]
          },
          "metadata": {},
          "execution_count": 119
        }
      ]
    },
    {
      "cell_type": "code",
      "source": [
        "dim_entrada = (X_train.shape[1],1)\n",
        "dim_salida = 1\n",
        "num_neuron = 100"
      ],
      "metadata": {
        "id": "HKX5DpkXnTbX"
      },
      "execution_count": 121,
      "outputs": []
    },
    {
      "cell_type": "code",
      "source": [
        "modelo = Sequential()\n",
        "modelo.add( LSTM( units = num_neuron, input_shape = dim_entrada ) )\n",
        "modelo.add( Dense( units = dim_salida ))"
      ],
      "metadata": {
        "id": "5rq9MImjnf4U"
      },
      "execution_count": 122,
      "outputs": []
    },
    {
      "cell_type": "code",
      "source": [
        "modelo.compile(optimizer='Adam', loss='mse')"
      ],
      "metadata": {
        "id": "ePsTJBfInhnS"
      },
      "execution_count": 123,
      "outputs": []
    },
    {
      "cell_type": "code",
      "source": [
        "%time modelo.fit( X_train, Y_train, epochs = 100, batch_size = 32, verbose = 1)"
      ],
      "metadata": {
        "colab": {
          "base_uri": "https://localhost:8080/"
        },
        "id": "gSp0qfvbnkQb",
        "outputId": "b043e131-1870-4e5d-d1f0-0d0fa3998047"
      },
      "execution_count": null,
      "outputs": [
        {
          "output_type": "stream",
          "name": "stdout",
          "text": [
            "Epoch 1/100\n",
            "2111/2111 [==============================] - 212s 101ms/step - loss: 7.7573e-05\n",
            "Epoch 2/100\n",
            "2111/2111 [==============================] - 163s 77ms/step - loss: 2.7701e-05\n",
            "Epoch 3/100\n",
            "2111/2111 [==============================] - 154s 73ms/step - loss: 2.2048e-05\n",
            "Epoch 4/100\n",
            "2111/2111 [==============================] - 157s 75ms/step - loss: 1.6185e-05\n",
            "Epoch 5/100\n",
            "2111/2111 [==============================] - 166s 79ms/step - loss: 1.2761e-05\n",
            "Epoch 6/100\n",
            "2111/2111 [==============================] - 164s 78ms/step - loss: 1.0227e-05\n",
            "Epoch 7/100\n",
            "2111/2111 [==============================] - 165s 78ms/step - loss: 8.8694e-06\n",
            "Epoch 8/100\n",
            "2111/2111 [==============================] - 161s 76ms/step - loss: 8.0588e-06\n",
            "Epoch 9/100\n",
            "2111/2111 [==============================] - 157s 75ms/step - loss: 7.8734e-06\n",
            "Epoch 10/100\n",
            "2111/2111 [==============================] - 155s 74ms/step - loss: 8.2839e-06\n",
            "Epoch 11/100\n",
            "2111/2111 [==============================] - 155s 73ms/step - loss: 7.4574e-06\n",
            "Epoch 12/100\n",
            "2111/2111 [==============================] - 153s 72ms/step - loss: 7.7223e-06\n",
            "Epoch 13/100\n",
            "2111/2111 [==============================] - 156s 74ms/step - loss: 7.6637e-06\n",
            "Epoch 14/100\n",
            "2111/2111 [==============================] - 155s 73ms/step - loss: 7.5110e-06\n",
            "Epoch 15/100\n",
            "2111/2111 [==============================] - 152s 72ms/step - loss: 7.5085e-06\n",
            "Epoch 16/100\n",
            "2111/2111 [==============================] - 157s 74ms/step - loss: 7.2971e-06\n",
            "Epoch 17/100\n",
            "2111/2111 [==============================] - 158s 75ms/step - loss: 7.3763e-06\n",
            "Epoch 18/100\n",
            "2111/2111 [==============================] - 157s 74ms/step - loss: 7.2655e-06\n",
            "Epoch 19/100\n",
            "2111/2111 [==============================] - 156s 74ms/step - loss: 7.4329e-06\n",
            "Epoch 20/100\n",
            "2111/2111 [==============================] - 159s 76ms/step - loss: 7.4388e-06\n",
            "Epoch 21/100\n",
            "2111/2111 [==============================] - 155s 74ms/step - loss: 7.4037e-06\n",
            "Epoch 22/100\n",
            "2111/2111 [==============================] - 157s 74ms/step - loss: 7.1399e-06\n",
            "Epoch 23/100\n",
            "2111/2111 [==============================] - 156s 74ms/step - loss: 7.2410e-06\n",
            "Epoch 24/100\n",
            "2111/2111 [==============================] - 155s 74ms/step - loss: 7.0266e-06\n",
            "Epoch 25/100\n",
            "2111/2111 [==============================] - 156s 74ms/step - loss: 7.1840e-06\n",
            "Epoch 26/100\n",
            "2111/2111 [==============================] - 159s 75ms/step - loss: 6.9787e-06\n",
            "Epoch 27/100\n",
            "2111/2111 [==============================] - 156s 74ms/step - loss: 7.1430e-06\n",
            "Epoch 28/100\n",
            "2111/2111 [==============================] - 158s 75ms/step - loss: 6.8811e-06\n",
            "Epoch 29/100\n",
            "2111/2111 [==============================] - 156s 74ms/step - loss: 7.0099e-06\n",
            "Epoch 30/100\n",
            "2111/2111 [==============================] - 157s 75ms/step - loss: 6.9731e-06\n",
            "Epoch 31/100\n",
            "2111/2111 [==============================] - 162s 77ms/step - loss: 7.1658e-06\n",
            "Epoch 32/100\n",
            "2111/2111 [==============================] - 159s 75ms/step - loss: 6.9450e-06\n",
            "Epoch 33/100\n",
            "2111/2111 [==============================] - 160s 76ms/step - loss: 6.9270e-06\n",
            "Epoch 34/100\n",
            "2111/2111 [==============================] - 157s 74ms/step - loss: 6.9678e-06\n",
            "Epoch 35/100\n",
            "2111/2111 [==============================] - 160s 76ms/step - loss: 7.1490e-06\n",
            "Epoch 36/100\n",
            "2111/2111 [==============================] - 160s 76ms/step - loss: 6.9672e-06\n",
            "Epoch 37/100\n",
            "2111/2111 [==============================] - 157s 74ms/step - loss: 6.8038e-06\n",
            "Epoch 38/100\n",
            "2111/2111 [==============================] - 157s 75ms/step - loss: 6.9850e-06\n",
            "Epoch 39/100\n",
            "2111/2111 [==============================] - 159s 75ms/step - loss: 6.7660e-06\n",
            "Epoch 40/100\n",
            "2111/2111 [==============================] - 159s 75ms/step - loss: 6.9042e-06\n",
            "Epoch 41/100\n",
            "2111/2111 [==============================] - 159s 76ms/step - loss: 6.7987e-06\n",
            "Epoch 42/100\n",
            "2111/2111 [==============================] - 156s 74ms/step - loss: 6.9168e-06\n",
            "Epoch 43/100\n",
            "2111/2111 [==============================] - 157s 74ms/step - loss: 6.7657e-06\n",
            "Epoch 44/100\n",
            "2111/2111 [==============================] - 157s 75ms/step - loss: 6.8477e-06\n",
            "Epoch 45/100\n",
            "2111/2111 [==============================] - 157s 74ms/step - loss: 6.7706e-06\n",
            "Epoch 46/100\n",
            "2111/2111 [==============================] - 159s 75ms/step - loss: 6.9212e-06\n",
            "Epoch 47/100\n",
            "2111/2111 [==============================] - 159s 75ms/step - loss: 6.7420e-06\n",
            "Epoch 48/100\n",
            "2111/2111 [==============================] - 156s 74ms/step - loss: 6.8336e-06\n",
            "Epoch 49/100\n",
            "2111/2111 [==============================] - 158s 75ms/step - loss: 6.8005e-06\n",
            "Epoch 50/100\n",
            "2111/2111 [==============================] - 159s 75ms/step - loss: 6.7303e-06\n",
            "Epoch 51/100\n",
            "2111/2111 [==============================] - 156s 74ms/step - loss: 6.7580e-06\n",
            "Epoch 52/100\n",
            "2111/2111 [==============================] - 159s 75ms/step - loss: 6.9856e-06\n",
            "Epoch 53/100\n",
            "2111/2111 [==============================] - 154s 73ms/step - loss: 6.7450e-06\n",
            "Epoch 54/100\n",
            "2111/2111 [==============================] - 154s 73ms/step - loss: 6.7178e-06\n",
            "Epoch 55/100\n",
            "2111/2111 [==============================] - 156s 74ms/step - loss: 6.6710e-06\n",
            "Epoch 56/100\n",
            "2111/2111 [==============================] - 155s 73ms/step - loss: 6.7184e-06\n",
            "Epoch 57/100\n",
            "2111/2111 [==============================] - 154s 73ms/step - loss: 6.9101e-06\n",
            "Epoch 58/100\n",
            "2111/2111 [==============================] - 156s 74ms/step - loss: 6.9050e-06\n",
            "Epoch 59/100\n",
            "2111/2111 [==============================] - 157s 74ms/step - loss: 6.6446e-06\n",
            "Epoch 60/100\n",
            "2111/2111 [==============================] - 151s 71ms/step - loss: 6.6565e-06\n",
            "Epoch 61/100\n",
            "2111/2111 [==============================] - 155s 74ms/step - loss: 6.8870e-06\n",
            "Epoch 62/100\n",
            "2111/2111 [==============================] - 153s 73ms/step - loss: 6.7104e-06\n",
            "Epoch 63/100\n",
            "2111/2111 [==============================] - 153s 72ms/step - loss: 6.7090e-06\n",
            "Epoch 64/100\n",
            "1348/2111 [==================>...........] - ETA: 54s - loss: 6.7838e-06"
          ]
        }
      ]
    },
    {
      "cell_type": "code",
      "source": [
        "x_test = valid_ds.values\n",
        "x_test = scaler.transform(x_test)"
      ],
      "metadata": {
        "id": "dCqgUjlLnnti"
      },
      "execution_count": null,
      "outputs": []
    },
    {
      "cell_type": "code",
      "source": [
        "X_test = []\n",
        "for i in range(time_step,len(x_test)):\n",
        "    X_test.append(x_test[i-time_step:i,0])\n",
        "\n",
        "X_test = np.array( X_test )\n",
        "X_test = np.reshape(X_test, (X_test.shape[0],X_test.shape[1],1))"
      ],
      "metadata": {
        "id": "nHVoraUHnssV"
      },
      "execution_count": null,
      "outputs": []
    },
    {
      "cell_type": "code",
      "source": [
        "X_test.shape, valid_ds.shape"
      ],
      "metadata": {
        "id": "n7n2PoxEn2Dl"
      },
      "execution_count": null,
      "outputs": []
    },
    {
      "cell_type": "code",
      "source": [
        "prediccion = modelo.predict(X_test)\n",
        "prediccion = scaler.inverse_transform(prediccion)"
      ],
      "metadata": {
        "id": "mjXfpjrBn2BK"
      },
      "execution_count": null,
      "outputs": []
    },
    {
      "cell_type": "code",
      "source": [
        "df_prediccion = pd.DataFrame(prediccion, index=valid_ds.index[time_step:], columns=['High'])"
      ],
      "metadata": {
        "id": "QPhG2o7An1-7"
      },
      "execution_count": null,
      "outputs": []
    },
    {
      "cell_type": "code",
      "source": [
        "df_prediccion['High'][0]"
      ],
      "metadata": {
        "id": "ltvvWjp2n--C"
      },
      "execution_count": null,
      "outputs": []
    },
    {
      "cell_type": "code",
      "source": [
        "fig=plt.figure(figsize=(50,3))\n",
        "\n",
        "ax1 = fig.add_subplot(1,3,1)\n",
        "ax1.set_title(\"Predicción\\nHIGH\")\n",
        "ax1.plot( valid_ds.high, marker = '+', linewidth = 0 )\n",
        "ax1.plot( df_prediccion['High'], marker = '.', linewidth = 0 )\n",
        "plt.legend(['real','prediccion'])\n",
        "plt.grid(True)\n",
        "plt.show()"
      ],
      "metadata": {
        "id": "p5EWCaydoBZN"
      },
      "execution_count": null,
      "outputs": []
    },
    {
      "cell_type": "code",
      "source": [
        "maximo = None\n",
        "minimo_valor = None\n",
        "for i in range(df_prediccion.shape[0]):\n",
        "  diferencia = np.abs(valid_ds.high[i+time_step] - df_prediccion['High'][i])\n",
        "  if( maximo == None ):\n",
        "    maximo = diferencia\n",
        "    minimo_valor = diferencia\n",
        "  else:\n",
        "    if diferencia  > maximo:\n",
        "      maximo = diferencia\n",
        "    else:\n",
        "      if diferencia  < minimo_valor:\n",
        "        minimo_valor = diferencia\n",
        "\n",
        "print(\"La diferencia máxima es \",maximo)\n",
        "print(\"La diferencia mínima es \",minimo_valor)"
      ],
      "metadata": {
        "id": "eAbRIHXdoIys"
      },
      "execution_count": null,
      "outputs": []
    },
    {
      "cell_type": "code",
      "source": [],
      "metadata": {
        "id": "tStOlq0goNK5"
      },
      "execution_count": null,
      "outputs": []
    }
  ]
}